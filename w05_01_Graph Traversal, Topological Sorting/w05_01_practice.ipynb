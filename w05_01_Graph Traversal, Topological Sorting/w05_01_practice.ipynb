{
 "cells": [
  {
   "cell_type": "markdown",
   "id": "2034308e-faf1-4b7b-b621-74e986eb3c2b",
   "metadata": {},
   "source": [
    "# Week 5 : DFS & BFS - BOJ 1260"
   ]
  },
  {
   "cell_type": "code",
   "execution_count": 1,
   "id": "0f3900f3-ef20-4462-a683-28f36e64f369",
   "metadata": {},
   "outputs": [
    {
     "name": "stdin",
     "output_type": "stream",
     "text": [
      " 5 5 3\n",
      " 5 4\n",
      " 5 2\n",
      " 1 2\n",
      " 3 4\n",
      " 3 1\n"
     ]
    },
    {
     "name": "stdout",
     "output_type": "stream",
     "text": [
      "3 1 2 5 4 \n",
      "3 1 4 2 5 "
     ]
    }
   ],
   "source": [
    "from collections import deque\n",
    "\n",
    "N, M, V = map(int, input().split())\n",
    "\n",
    "adjList = [ [] for _ in range(N + 1)]\n",
    "for _ in range(M):\n",
    "    u, v = map(int, input().split())\n",
    "    adjList[u].append(v)\n",
    "    adjList[v].append(u)\n",
    "\n",
    "for i in range(N + 1):\n",
    "    adjList[i].sort()\n",
    "    \n",
    "# recursive dfs\n",
    "visited = [False for _ in range(N + 1)]\n",
    "def DFS(vertex : int):\n",
    "    print(vertex, end = \" \")\n",
    "    visited[vertex] = True\n",
    "    for v in adjList[vertex]:\n",
    "        if not visited[v]:\n",
    "            DFS(v)\n",
    "\n",
    "DFS(V)\n",
    "print(\"\")\n",
    "# BFS\n",
    "visited = [False for _ in range(N + 1)]\n",
    "Q = deque()\n",
    "Q.append(V)\n",
    "visited[V] = True\n",
    "\n",
    "while len(Q) > 0:\n",
    "    cur_v = Q.popleft()\n",
    "    print(cur_v, end = \" \")\n",
    "    for v in adjList[cur_v]:\n",
    "        if not visited[v]:\n",
    "            visited[v] = True\n",
    "            Q.append(v)"
   ]
  },
  {
   "cell_type": "markdown",
   "id": "ec14cbe6-68ce-4598-8a99-0ab391301c1b",
   "metadata": {},
   "source": [
    "# Week 5 : Topological Sorting - BOJ 2252"
   ]
  },
  {
   "cell_type": "code",
   "execution_count": 2,
   "id": "103bca70-52af-4ebf-8524-40e67cb10ae2",
   "metadata": {},
   "outputs": [
    {
     "name": "stdin",
     "output_type": "stream",
     "text": [
      " 4 2\n",
      " 4 2\n",
      " 3 1\n"
     ]
    },
    {
     "name": "stdout",
     "output_type": "stream",
     "text": [
      "4 3 2 1 "
     ]
    }
   ],
   "source": [
    "N, M = map(int, input().split())\n",
    "\n",
    "adjList = [[] for _ in range(N + 1)]\n",
    "\n",
    "for _ in range(M):\n",
    "    src, dst = map(int, input().split())\n",
    "    adjList[src].append(dst)\n",
    "\n",
    "TSD_visited = [False for _ in range(N + 1)]\n",
    "stk = []\n",
    "\n",
    "def TS_DFS(v):\n",
    "    TSD_visited[v] = True\n",
    "    for nextV in adjList[v]:\n",
    "        if not TSD_visited[nextV]:\n",
    "            TS_DFS(nextV)\n",
    "    stk.append(v)\n",
    "\n",
    "# 모든 정점을 돌아야 한다.\n",
    "for v in range(1, N + 1):\n",
    "    if not TSD_visited[v]:\n",
    "        TS_DFS(v)\n",
    "for h in range(len(stk) - 1, -1, -1):\n",
    "    print(stk[h], end = \" \")"
   ]
  }
 ],
 "metadata": {
  "kernelspec": {
   "display_name": "Python 3 (ipykernel)",
   "language": "python",
   "name": "python3"
  },
  "language_info": {
   "codemirror_mode": {
    "name": "ipython",
    "version": 3
   },
   "file_extension": ".py",
   "mimetype": "text/x-python",
   "name": "python",
   "nbconvert_exporter": "python",
   "pygments_lexer": "ipython3",
   "version": "3.10.9"
  }
 },
 "nbformat": 4,
 "nbformat_minor": 5
}
