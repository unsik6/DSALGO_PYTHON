{
 "cells": [
  {
   "cell_type": "markdown",
   "id": "63c53fb3-6f8d-4d24-9922-51d5d89ad189",
   "metadata": {},
   "source": [
    "# Week 5: Topological Sort - DFS"
   ]
  },
  {
   "cell_type": "code",
   "execution_count": 1,
   "id": "8e3ff6a8-6067-4afd-a5b1-535e46363b09",
   "metadata": {},
   "outputs": [
    {
     "name": "stdout",
     "output_type": "stream",
     "text": [
      "[False, False, False, False, False, False, False]\n",
      "[False, False, False, False, False, False, False]\n",
      "[False, False, False, False, False, False, False]\n",
      "[False, False, False, False, False, False, False]\n",
      "[False, False, False, False, False, False, False]\n",
      "[False, False, False, False, False, False, False]\n",
      "[False, False, False, False, False, False, False]\n"
     ]
    }
   ],
   "source": [
    "# using Adjacency Matrix Representation\n",
    "n = 7\n",
    "graph = [[False] * n for _ in range(n)]\n",
    "for row in graph:\n",
    "    print(row)"
   ]
  },
  {
   "cell_type": "code",
   "execution_count": 2,
   "id": "1c742f87-4b5d-498e-baab-f6ce9651233f",
   "metadata": {},
   "outputs": [
    {
     "name": "stdout",
     "output_type": "stream",
     "text": [
      "[False, True, True, True, False, False, False]\n",
      "[False, False, False, False, True, True, False]\n",
      "[False, False, False, False, False, True, True]\n",
      "[False, False, True, False, False, False, False]\n",
      "[False, False, False, False, False, False, False]\n",
      "[False, False, False, False, True, False, False]\n",
      "[False, False, False, False, False, False, False]\n"
     ]
    }
   ],
   "source": [
    "def insertEdge(u, v):\n",
    "    graph[u][v] = True\n",
    "\n",
    "insertEdge(0, 1) # A-B\n",
    "insertEdge(0, 2) # A-C\n",
    "insertEdge(0, 3) # A-D\n",
    "insertEdge(1, 4) # B-E\n",
    "insertEdge(1, 5) # B-F\n",
    "insertEdge(2, 5) # C-F\n",
    "insertEdge(2, 6) # C-G\n",
    "insertEdge(3, 2) # D-C\n",
    "insertEdge(5, 4) # F-E\n",
    "\n",
    "for row in graph:\n",
    "    print(row)"
   ]
  },
  {
   "cell_type": "code",
   "execution_count": 3,
   "id": "e3843364-fc91-4696-9c5b-dd37170719c9",
   "metadata": {},
   "outputs": [],
   "source": [
    "TSD_visited = [False for _ in range(n)]\n",
    "stk = []\n",
    "\n",
    "def TS_DFS(v):\n",
    "    TSD_visited[v] = True\n",
    "\n",
    "    for i in range(n):\n",
    "        if graph[v][i] and not TSD_visited[i]:\n",
    "            TS_DFS(i)\n",
    "    stk.append(v)"
   ]
  },
  {
   "cell_type": "code",
   "execution_count": 4,
   "id": "97b9f152-e901-4fab-9ba1-eb789e0101af",
   "metadata": {},
   "outputs": [],
   "source": [
    "TS_DFS(0)"
   ]
  },
  {
   "cell_type": "code",
   "execution_count": 5,
   "id": "b256bd84-185a-491e-a719-a4b23d0d64b7",
   "metadata": {},
   "outputs": [
    {
     "name": "stdout",
     "output_type": "stream",
     "text": [
      "0\n",
      "3\n",
      "2\n",
      "6\n",
      "1\n",
      "5\n",
      "4\n"
     ]
    }
   ],
   "source": [
    "for i in range(n-1, -1, -1):\n",
    "    print(stk[i])"
   ]
  },
  {
   "cell_type": "markdown",
   "id": "18cdf49f-a808-45bf-bd44-48cbadd2e3df",
   "metadata": {},
   "source": [
    "# Week 5: Topological Sort - BFS"
   ]
  },
  {
   "cell_type": "code",
   "execution_count": 6,
   "id": "e8dde392-c59b-40c2-a96e-5400c88414b6",
   "metadata": {},
   "outputs": [
    {
     "name": "stdout",
     "output_type": "stream",
     "text": [
      "[False, False, False, False, False, False, False]\n",
      "[False, False, False, False, False, False, False]\n",
      "[False, False, False, False, False, False, False]\n",
      "[False, False, False, False, False, False, False]\n",
      "[False, False, False, False, False, False, False]\n",
      "[False, False, False, False, False, False, False]\n",
      "[False, False, False, False, False, False, False]\n",
      "[False, True, True, True, False, False, False]\n",
      "[False, False, False, False, True, True, False]\n",
      "[False, False, False, False, False, True, True]\n",
      "[False, False, True, False, False, False, False]\n",
      "[False, False, False, False, False, False, False]\n",
      "[False, False, False, False, True, False, False]\n",
      "[False, False, False, False, False, False, False]\n"
     ]
    }
   ],
   "source": [
    "# using Adjacency Matrix Representation\n",
    "n = 7\n",
    "graph = [[False] * n for _ in range(n)]\n",
    "for row in graph:\n",
    "    print(row)\n",
    "    \n",
    "def insertEdge(u, v):\n",
    "    graph[u][v] = True\n",
    "\n",
    "insertEdge(0, 1) # A-B\n",
    "insertEdge(0, 2) # A-C\n",
    "insertEdge(0, 3) # A-D\n",
    "insertEdge(1, 4) # B-E\n",
    "insertEdge(1, 5) # B-F\n",
    "insertEdge(2, 5) # C-F\n",
    "insertEdge(2, 6) # C-G\n",
    "insertEdge(3, 2) # D-C\n",
    "insertEdge(5, 4) # F-E\n",
    "\n",
    "for row in graph:\n",
    "    print(row)"
   ]
  },
  {
   "cell_type": "code",
   "execution_count": 7,
   "id": "ee1dce8b-8834-4c72-89b7-535034f558b2",
   "metadata": {},
   "outputs": [
    {
     "name": "stdout",
     "output_type": "stream",
     "text": [
      "0\n",
      "1\n",
      "2\n",
      "1\n",
      "2\n",
      "2\n",
      "1\n"
     ]
    }
   ],
   "source": [
    "# 간이식으로 구현한 진입차수 계산\n",
    "indeg = [0 for _ in range(n)]\n",
    "for v in range(n):\n",
    "    for dst in range(n):\n",
    "        if graph[v][dst]: indeg[dst] += 1\n",
    "\n",
    "for indeg_elem in indeg: print(indeg_elem)"
   ]
  },
  {
   "cell_type": "code",
   "execution_count": 8,
   "id": "cc2cc4f0-79d2-4d42-b073-0c532df86688",
   "metadata": {},
   "outputs": [
    {
     "name": "stdout",
     "output_type": "stream",
     "text": [
      "0\n",
      "1\n",
      "3\n",
      "2\n",
      "5\n",
      "6\n",
      "4\n"
     ]
    }
   ],
   "source": [
    "from collections import deque\n",
    "Q = deque()\n",
    "for v in range(n):\n",
    "    if indeg[v] == 0:\n",
    "        Q.append(v)\n",
    "\n",
    "while len(Q) > 0:\n",
    "    cur_v = Q.popleft()\n",
    "    print(cur_v)\n",
    "    for dst in range(n):\n",
    "        if graph[cur_v][dst]:\n",
    "            indeg[dst] -= 1\n",
    "            graph[cur_v][dst] = False\n",
    "            if indeg[dst] == 0:\n",
    "                Q.append(dst)"
   ]
  }
 ],
 "metadata": {
  "kernelspec": {
   "display_name": "Python 3 (ipykernel)",
   "language": "python",
   "name": "python3"
  },
  "language_info": {
   "codemirror_mode": {
    "name": "ipython",
    "version": 3
   },
   "file_extension": ".py",
   "mimetype": "text/x-python",
   "name": "python",
   "nbconvert_exporter": "python",
   "pygments_lexer": "ipython3",
   "version": "3.10.9"
  }
 },
 "nbformat": 4,
 "nbformat_minor": 5
}
