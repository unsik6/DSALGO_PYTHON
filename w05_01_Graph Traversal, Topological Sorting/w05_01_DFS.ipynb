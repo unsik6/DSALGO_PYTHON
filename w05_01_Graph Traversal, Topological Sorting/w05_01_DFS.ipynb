{
 "cells": [
  {
   "cell_type": "markdown",
   "id": "0dbf48f8-cfda-4d47-ac5b-16c2c7557772",
   "metadata": {},
   "source": [
    "# Week 5: DFS"
   ]
  },
  {
   "cell_type": "code",
   "execution_count": 1,
   "id": "c6b78dc0-8a9a-4a27-b6af-ebb6fb3a5bd7",
   "metadata": {},
   "outputs": [
    {
     "name": "stdout",
     "output_type": "stream",
     "text": [
      "[False, False, False, False, False]\n",
      "[False, False, False, False, False]\n",
      "[False, False, False, False, False]\n",
      "[False, False, False, False, False]\n",
      "[False, False, False, False, False]\n"
     ]
    }
   ],
   "source": [
    "# using Adjacency Matrix Representation\n",
    "n = 5\n",
    "graph = [[False] * n for _ in range(n)]\n",
    "for row in graph:\n",
    "    print(row)"
   ]
  },
  {
   "cell_type": "code",
   "execution_count": 2,
   "id": "b7959393-eef7-4579-a264-2e331ca6632e",
   "metadata": {},
   "outputs": [
    {
     "name": "stdout",
     "output_type": "stream",
     "text": [
      "[False, True, True, True, True]\n",
      "[True, False, True, False, False]\n",
      "[True, True, False, True, True]\n",
      "[True, False, True, False, False]\n",
      "[True, False, True, False, False]\n"
     ]
    }
   ],
   "source": [
    "def insertEdge(u, v):\n",
    "    graph[u][v] = graph[v][u] = True\n",
    "\n",
    "insertEdge(0, 1) # A-B\n",
    "insertEdge(0, 2) # A-C\n",
    "insertEdge(0, 3) # A-D\n",
    "insertEdge(0, 4) # A-E\n",
    "insertEdge(1, 2) # B-C\n",
    "insertEdge(2, 3) # C-D\n",
    "insertEdge(2, 4) # C-E\n",
    "\n",
    "for row in graph:\n",
    "    print(row)"
   ]
  },
  {
   "cell_type": "code",
   "execution_count": 3,
   "id": "4045759d-e311-48f0-9508-54a63d1faa0b",
   "metadata": {},
   "outputs": [],
   "source": [
    "# recursive dfs\n",
    "visited = [False for _ in range(n)]\n",
    "def DFS(vertex : int):\n",
    "    print(vertex)\n",
    "    visited[vertex] = True\n",
    "    for v in range(n):\n",
    "        if graph[vertex][v] and not visited[v]:\n",
    "            DFS(v)"
   ]
  },
  {
   "cell_type": "code",
   "execution_count": 4,
   "id": "25082b69-cc25-48d5-9e5e-33a12e4cc3b0",
   "metadata": {},
   "outputs": [
    {
     "name": "stdout",
     "output_type": "stream",
     "text": [
      "0\n",
      "1\n",
      "2\n",
      "3\n",
      "4\n"
     ]
    }
   ],
   "source": [
    "DFS(0)"
   ]
  },
  {
   "cell_type": "code",
   "execution_count": 5,
   "id": "8c08dc96-f968-4bfa-962b-b1bb10d87556",
   "metadata": {},
   "outputs": [],
   "source": [
    "# iterative DFS\n",
    "def iterDFS():\n",
    "    iter_visited = [False for _ in range(n)]\n",
    "    stk = []\n",
    "    stk.append(0)\n",
    "\n",
    "    while len(stk) > 0:\n",
    "        cur_v = stk[len(stk) - 1]\n",
    "        del stk[len(stk) - 1]\n",
    "\n",
    "        if not iter_visited[cur_v]:\n",
    "            iter_visited[cur_v] = True\n",
    "            print(cur_v)\n",
    "        # 방문하는 정점은 삽입된 순서의 반대이다.\n",
    "            for v in range(n - 1, -1, -1):\n",
    "                if graph[cur_v][v] and not iter_visited[v]:\n",
    "                    stk.append(v)"
   ]
  },
  {
   "cell_type": "code",
   "execution_count": 6,
   "id": "a481c58f-4b39-4cec-96cb-6977aeb99292",
   "metadata": {},
   "outputs": [
    {
     "name": "stdout",
     "output_type": "stream",
     "text": [
      "0\n",
      "1\n",
      "2\n",
      "3\n",
      "4\n"
     ]
    }
   ],
   "source": [
    "iterDFS()"
   ]
  }
 ],
 "metadata": {
  "kernelspec": {
   "display_name": "Python 3 (ipykernel)",
   "language": "python",
   "name": "python3"
  },
  "language_info": {
   "codemirror_mode": {
    "name": "ipython",
    "version": 3
   },
   "file_extension": ".py",
   "mimetype": "text/x-python",
   "name": "python",
   "nbconvert_exporter": "python",
   "pygments_lexer": "ipython3",
   "version": "3.10.9"
  }
 },
 "nbformat": 4,
 "nbformat_minor": 5
}
