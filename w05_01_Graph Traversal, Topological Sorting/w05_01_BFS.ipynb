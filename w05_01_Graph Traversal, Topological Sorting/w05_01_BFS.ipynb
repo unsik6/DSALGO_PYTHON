{
 "cells": [
  {
   "cell_type": "markdown",
   "id": "0dbf48f8-cfda-4d47-ac5b-16c2c7557772",
   "metadata": {},
   "source": [
    "# Week 5: BFS"
   ]
  },
  {
   "cell_type": "code",
   "execution_count": 1,
   "id": "c6b78dc0-8a9a-4a27-b6af-ebb6fb3a5bd7",
   "metadata": {},
   "outputs": [
    {
     "name": "stdout",
     "output_type": "stream",
     "text": [
      "[False, False, False, False, False, False]\n",
      "[False, False, False, False, False, False]\n",
      "[False, False, False, False, False, False]\n",
      "[False, False, False, False, False, False]\n",
      "[False, False, False, False, False, False]\n",
      "[False, False, False, False, False, False]\n"
     ]
    }
   ],
   "source": [
    "# using Adjacency Matrix Representation\n",
    "n = 6\n",
    "graph = [[False] * n for _ in range(n)]\n",
    "for row in graph:\n",
    "    print(row)"
   ]
  },
  {
   "cell_type": "code",
   "execution_count": 2,
   "id": "b7959393-eef7-4579-a264-2e331ca6632e",
   "metadata": {},
   "outputs": [
    {
     "name": "stdout",
     "output_type": "stream",
     "text": [
      "[False, True, True, True, False, False]\n",
      "[True, False, True, False, True, False]\n",
      "[True, True, False, True, True, True]\n",
      "[True, False, True, False, False, True]\n",
      "[False, True, True, False, False, False]\n",
      "[False, False, True, True, False, False]\n"
     ]
    }
   ],
   "source": [
    "def insertEdge(u, v):\n",
    "    graph[u][v] = graph[v][u] = True\n",
    "\n",
    "insertEdge(0, 1) # A-B\n",
    "insertEdge(0, 2) # A-C\n",
    "insertEdge(0, 3) # A-D\n",
    "insertEdge(1, 2) # B-C\n",
    "insertEdge(1, 4) # B-E\n",
    "insertEdge(2, 3) # C-D\n",
    "insertEdge(2, 4) # C-E\n",
    "insertEdge(2, 5) # C-F\n",
    "insertEdge(3, 5) # D-F\n",
    "\n",
    "for row in graph:\n",
    "    print(row)"
   ]
  },
  {
   "cell_type": "code",
   "execution_count": 3,
   "id": "4045759d-e311-48f0-9508-54a63d1faa0b",
   "metadata": {},
   "outputs": [],
   "source": [
    "from collections import deque\n",
    "def BFS():\n",
    "    visited = [False for _ in range(n)]\n",
    "    Q = deque()\n",
    "    Q.append(0)\n",
    "    visited[0] = True\n",
    "    \n",
    "    while len(Q) > 0:\n",
    "        cur_v = Q.popleft()\n",
    "        print(cur_v)\n",
    "        for i in range(n):\n",
    "            if graph[cur_v][i] and not visited[i]:\n",
    "                visited[i] = True\n",
    "                Q.append(i)"
   ]
  },
  {
   "cell_type": "code",
   "execution_count": 4,
   "id": "07d7c022-737b-4a53-9382-8d725d4c9b04",
   "metadata": {},
   "outputs": [
    {
     "name": "stdout",
     "output_type": "stream",
     "text": [
      "0\n",
      "1\n",
      "2\n",
      "3\n",
      "4\n",
      "5\n"
     ]
    }
   ],
   "source": [
    "BFS()"
   ]
  }
 ],
 "metadata": {
  "kernelspec": {
   "display_name": "Python 3 (ipykernel)",
   "language": "python",
   "name": "python3"
  },
  "language_info": {
   "codemirror_mode": {
    "name": "ipython",
    "version": 3
   },
   "file_extension": ".py",
   "mimetype": "text/x-python",
   "name": "python",
   "nbconvert_exporter": "python",
   "pygments_lexer": "ipython3",
   "version": "3.10.9"
  }
 },
 "nbformat": 4,
 "nbformat_minor": 5
}
