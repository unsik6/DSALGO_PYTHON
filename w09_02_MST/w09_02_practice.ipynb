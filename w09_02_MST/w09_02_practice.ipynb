{
 "cells": [
  {
   "cell_type": "markdown",
   "id": "22be4c78-db9b-4055-928a-70076e3399de",
   "metadata": {},
   "source": [
    "# Week 9 : Kruskal's Algorithm"
   ]
  },
  {
   "cell_type": "code",
   "execution_count": 1,
   "id": "8dda1fa9-0428-4174-8b02-3e740c929cbc",
   "metadata": {},
   "outputs": [
    {
     "name": "stdin",
     "output_type": "stream",
     "text": [
      " 3 3\n",
      " 1 2 1\n",
      " 2 3 2\n",
      " 1 3 3\n"
     ]
    },
    {
     "name": "stdout",
     "output_type": "stream",
     "text": [
      "3\n"
     ]
    }
   ],
   "source": [
    "import heapq\n",
    "# input\n",
    "V, E = map(int, input().split())\n",
    "edge_heap = []\n",
    "\n",
    "# preprocessing\n",
    "for _ in range(E):\n",
    "    u, v, w = map(int, input().split())\n",
    "    edge_heap.append((w, u, v))\n",
    "heapq.heapify(edge_heap)\n",
    "\n",
    "# disjoint-set\n",
    "par = [e for e in range(V + 1)]\n",
    "rank = [0 for e in range(V + 1)]\n",
    "\n",
    "def find(v : int):\n",
    "    if par[v] != v:\n",
    "        par[v] = find(par[v])\n",
    "    return par[v]\n",
    "\n",
    "def union(u : int, v : int):\n",
    "    rep_u = par[u]\n",
    "    rep_v = par[v]\n",
    "    \n",
    "    if rep_u != rep_v:\n",
    "        if rank[rep_u] > rank[rep_v]:\n",
    "            par[rep_v] = rep_u\n",
    "        else: # rank[rep_u] < rank[rep_v]\n",
    "            par[rep_u] = rep_v\n",
    "            if rank[rep_u] == rank[rep_v]:\n",
    "                rank[rep_v] += 1\n",
    "\n",
    "# Kruskal's algorithm\n",
    "total_weight = 0\n",
    "num_edge = 0\n",
    "while num_edge < V - 1:\n",
    "    min_edge = heapq.heappop(edge_heap)\n",
    "    u, v = min_edge[1], min_edge[2]\n",
    "    if find(u) != find(v):\n",
    "        total_weight = total_weight + min_edge[0]\n",
    "        num_edge += 1\n",
    "        union(u, v)\n",
    "\n",
    "print(total_weight)"
   ]
  },
  {
   "cell_type": "markdown",
   "id": "afd7201e-cb0c-4b96-905d-bfce5b089810",
   "metadata": {},
   "source": [
    "# Week 9 : Prim's Algorithm\n",
    "\n",
    "- input을 sys.stdin.readline로 바꿔줘야 합니다.\n",
    "- Kruskal은 $O(|V| + |E| \\log{|E|})$\n",
    "- Prinm은 $O(|V| \\log{|V|} + |E| \\log{|V|})$\n",
    "- 본 문제에서 $|V| \\leq 10,000$, $|E| \\leq 100,000$ 이므로, sparse graph$(|E| \\in O(|V|))$에 해당한다.\n",
    "\n",
    "1. Sparse graph $(|E| \\in O(|V|))$: Kruskal이 유리\n",
    "    - Kruskal = $O(|V| + |V| \\log{|V|})$\n",
    "    - Prim = $O(|V| \\log{|V|} + |V| \\log{|V|})$\n",
    "\n",
    "<br/>\n",
    "\n",
    "2. Dense graph $(|E| \\in O(|V|^2))$: Prim이 유리\n",
    "    - Kruskal = $O(|V| + |V|^2 *2 \\log{|V|}) = O((|V|+|V|^2) \\log{|V|})$\n",
    "    - Prim = $O(|V| \\log{|V|} + |V|^2 \\log{|V|}) = O((|V| + 2|V|^2) \\log{|V|})$"
   ]
  },
  {
   "cell_type": "code",
   "execution_count": 2,
   "id": "12db0682-a02d-4b1b-9baa-3cf8f6d5195a",
   "metadata": {},
   "outputs": [
    {
     "name": "stdin",
     "output_type": "stream",
     "text": [
      " 3 3\n",
      " 1 2 1\n",
      " 2 3 2\n",
      " 1 3 3\n"
     ]
    },
    {
     "name": "stdout",
     "output_type": "stream",
     "text": [
      "3\n"
     ]
    }
   ],
   "source": [
    "import heapq\n",
    "# input\n",
    "V, E = map(int, input().split())\n",
    "\n",
    "# 알고리즘 수행 과정에서 어떤 정점이\n",
    "# 이미 MST인지 확인; MST면 True\n",
    "flags = [False for _ in range(V + 1)]\n",
    "adj_list = [[] for _ in range(V + 1)]\n",
    "\n",
    "#graph\n",
    "for _ in range(E):\n",
    "    u, v, w = map(int, input().split())\n",
    "    adj_list[u].append([v, w])\n",
    "    adj_list[v].append([u, w])\n",
    "\n",
    "fringe_vertices = []  # MST와 인접한 정점 Heap\n",
    "\n",
    "# Prim's algorithm\n",
    "total_weight = 0\n",
    "num_edge = 0\n",
    "\n",
    "# 1번 정점을 MST로..\n",
    "flags[1] = True\n",
    "for e in adj_list[1]:\n",
    "    adj_vertex, weight = e[0], e[1]\n",
    "    heapq.heappush(fringe_vertices, (weight, adj_vertex))\n",
    "\n",
    "while num_edge < V - 1:\n",
    "    new_tree_node = heapq.heappop(fringe_vertices)\n",
    "    weight, vertex = new_tree_node[0], new_tree_node[1]\n",
    "    # 이미 MST에 있는 정점이면 Skip - 작동 원리는 아래 주석 참조\n",
    "    if flags[vertex]:\n",
    "        continue\n",
    "        \n",
    "    total_weight = total_weight + weight\n",
    "    num_edge += 1\n",
    "    \n",
    "    # MST로 선택된 것을 마킹\n",
    "    flags[vertex] = True\n",
    "    \n",
    "    for e in adj_list[vertex]:\n",
    "        adj_vertex, weight = e[0], e[1]\n",
    "        # 이미 MST에 있는 정점이면 Skip\n",
    "        if flags[adj_vertex]:\n",
    "            continue\n",
    "        heapq.heappush(fringe_vertices, (weight, adj_vertex))\n",
    "        \n",
    "        \"\"\"\n",
    "        일반적인 라이브러리의 Heap은 내부 요소를 수정하는 연산을 지원하지 않는다.\n",
    "        필요한 경우, 직접 Heap을 구현해야 하므로\n",
    "        Prim의 알고리즘을 더 적은 양의 코드로 수행하기 위해 그냥 Heap 삽입한다.\n",
    "        만약 정점 v에 대하여 여러 개의 가중치들이 Heap에 있다면,\n",
    "        반드시 최소 가중치에 대한 것이 제일 먼저 pop된다.\n",
    "        이후의 또 v에 대한 가중치가 pop되면, flag를 보고 이미 MST에 넣은 정점이면 Skip하는 방식으로 구현한다.\n",
    "        \n",
    "        다만, 이렇게 구현할 경우에는 시간복잡도가 2배 더 소요된다.\n",
    "        - 원래: Heap 내부 요소 감소만 선택적 수행\n",
    "        - 편한 구현: Heap에 삽입 + 삭제 발생\n",
    "        \"\"\"\n",
    "\n",
    "print(total_weight)"
   ]
  }
 ],
 "metadata": {
  "kernelspec": {
   "display_name": "Python 3 (ipykernel)",
   "language": "python",
   "name": "python3"
  },
  "language_info": {
   "codemirror_mode": {
    "name": "ipython",
    "version": 3
   },
   "file_extension": ".py",
   "mimetype": "text/x-python",
   "name": "python",
   "nbconvert_exporter": "python",
   "pygments_lexer": "ipython3",
   "version": "3.10.9"
  }
 },
 "nbformat": 4,
 "nbformat_minor": 5
}
