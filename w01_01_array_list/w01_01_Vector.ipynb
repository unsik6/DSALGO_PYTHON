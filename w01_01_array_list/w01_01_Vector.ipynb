{
 "cells": [
  {
   "cell_type": "markdown",
   "id": "21e63503-a226-44d8-a6e5-3b089d3b84e7",
   "metadata": {},
   "source": [
    "# Week 1: Linear Data Structure 1: Vector"
   ]
  },
  {
   "cell_type": "code",
   "execution_count": 1,
   "id": "e6156098-f3ff-418f-b00a-a1d980c578c7",
   "metadata": {},
   "outputs": [],
   "source": [
    "class Vector:\n",
    "    def __init__(self):\n",
    "        self.cap = 2\n",
    "        self.size = 0\n",
    "        self.array = [None] * self.cap\n",
    "        self.fIdx = self.rIdx = 0\n",
    "    \n",
    "    def isEmpty(self):\n",
    "        return not self.size\n",
    "    \n",
    "    def getCapacity(self):\n",
    "        return self.cap\n",
    "    \n",
    "    def getSize(self):\n",
    "        return self.size\n",
    "    \n",
    "    def at(self, idx : int):\n",
    "        if idx < 0 or idx >= self.size:\n",
    "            print(\"Out of Range\")\n",
    "            return\n",
    "        else: return self.array[(self.fIdx + idx) % self.cap]\n",
    "    \n",
    "    def set(elf, idx : int, item):\n",
    "        if idx < 0 or idx >= self.size:\n",
    "            print(\"Out of Range\")\n",
    "            return\n",
    "        else: self.array[(self.fIdx + idx) % self.cap] = item\n",
    "    \n",
    "    def print(self):\n",
    "        for i in  range(0, self.size):\n",
    "            print(self.array[(self.fIdx + idx) % self.cap], end = \" \")\n",
    "    \n",
    "    def doublingUp(self):\n",
    "        new_array = [None] * (self.cap * 2)\n",
    "        for i in range(0, self.cap):\n",
    "            new_array[i] = self.array[(self.fIdx + i) % self.cap]\n",
    "        \n",
    "        self.cap *= 2\n",
    "        self.fIdx = 0\n",
    "        self.rIdx = self.size\n",
    "        self.array = new_array\n",
    "    \n",
    "    def doublingDown(self):\n",
    "        new_cap = int(self.cap / 2)\n",
    "        new_array = [None] * new_cap\n",
    "        for i in range(0, self.size):\n",
    "            new_array[i] = self.array[(self.fIdx + i) % self.cap]\n",
    "        \n",
    "        self.cap = int(self.cap/2)\n",
    "        self.fIdx = 0\n",
    "        self.rIdx = self.size\n",
    "        self.array = new_array\n",
    "    \n",
    "    def insert(self, idx : int, item):\n",
    "        if self.size == self.cap:\n",
    "            self.doublingUp()\n",
    "        \n",
    "        if idx < 0 or idx >= self.size:\n",
    "            print(\"Out of Range\")\n",
    "            return\n",
    "        \n",
    "        for i in range(self.size, idx, -1):\n",
    "            self.array[(self.fIdx + i) % self.cap] = self.array[(self.fIdx + i - 1 + self.cap) % self.cap]\n",
    "        \n",
    "        self.array[(self.fIdx + idx) % self.cap] = item\n",
    "        self.size += 1\n",
    "        self.rIdx = (self.rIdx + 1) % self.cap\n",
    "    \n",
    "    def remove(self, idx : int):\n",
    "        if idx < 0 or idx >= self.size:\n",
    "            print(\"Out of Range\")\n",
    "            return\n",
    "        \n",
    "        for i in range(idx + 1, self.size):\n",
    "            self.array[(self.fIdx + i - 1 + self.cap) % self.cap] = self.array[(self.fIdx + i) % self.cap]\n",
    "        \n",
    "        self.size -= 1\n",
    "        self.rIdx = (self.rIdx - 1 + self.cap) % self.cap\n",
    "        \n",
    "        if self.size <= (self.cap / 2) and self.cap > 2:\n",
    "            self.doublingDown()\n",
    "    \n",
    "    def push_back(self, item):\n",
    "        if self.size == self.cap:\n",
    "            self.doublingUp()\n",
    "        \n",
    "        self.array[self.rIdx % self.cap] = item\n",
    "        self.rIdx = (self.rIdx + 1) % self.cap\n",
    "        self.size += 1\n",
    "    \n",
    "    def push_front(self, item):\n",
    "        if self.size == self.cap:\n",
    "            self.doublingUp()\n",
    "        \n",
    "        self.fIdx = (self.fIdx - 1 + self.cap) % self.cap\n",
    "        self.array[self.fIdx] = item\n",
    "        self.size += 1\n",
    "        \n",
    "    \n",
    "    def print(self):\n",
    "        for i in range(0, self.size):\n",
    "            print(self.array[(self.fIdx + i) % self.cap], end = \" \")   \n",
    "        print('\\n')\n",
    "    \n",
    "    def printMeta(self):\n",
    "        print('Cap :', self.cap)\n",
    "        print('Size :', self.size)\n",
    "        print('f & r: ', self.fIdx, self.rIdx)\n",
    "        print('Real array')\n",
    "        for i in range(0, self.cap):\n",
    "            print(self.array[i], end = \" \")\n",
    "        print('\\n')"
   ]
  },
  {
   "cell_type": "code",
   "execution_count": 2,
   "id": "ab2eabde-80a7-43ff-8ced-d500973aaf05",
   "metadata": {},
   "outputs": [
    {
     "name": "stdout",
     "output_type": "stream",
     "text": [
      "\n",
      "\n"
     ]
    }
   ],
   "source": [
    "vec = Vector()\n",
    "vec.print()"
   ]
  },
  {
   "cell_type": "code",
   "execution_count": 3,
   "id": "b1182b48-c8c2-44de-bc57-b8fe635cca78",
   "metadata": {},
   "outputs": [
    {
     "data": {
      "text/plain": [
       "True"
      ]
     },
     "execution_count": 3,
     "metadata": {},
     "output_type": "execute_result"
    }
   ],
   "source": [
    "vec.isEmpty()"
   ]
  },
  {
   "cell_type": "code",
   "execution_count": 4,
   "id": "6730e116-0cbf-4c7c-a7a5-ebc4960a7440",
   "metadata": {},
   "outputs": [
    {
     "data": {
      "text/plain": [
       "2"
      ]
     },
     "execution_count": 4,
     "metadata": {},
     "output_type": "execute_result"
    }
   ],
   "source": [
    "vec.getCapacity()"
   ]
  },
  {
   "cell_type": "code",
   "execution_count": 5,
   "id": "e4b17aa8-8bee-4838-9c75-c49f34f4e067",
   "metadata": {},
   "outputs": [
    {
     "name": "stdout",
     "output_type": "stream",
     "text": [
      "1 \n",
      "\n",
      "Cap : 2\n",
      "Size : 1\n",
      "f & r:  0 1\n",
      "Real array\n",
      "1 None \n",
      "\n"
     ]
    }
   ],
   "source": [
    "vec.push_back(1)\n",
    "vec.print()\n",
    "vec.printMeta()"
   ]
  },
  {
   "cell_type": "code",
   "execution_count": 6,
   "id": "36a0d987-ebd0-40bb-b0ca-635298dfbeff",
   "metadata": {},
   "outputs": [
    {
     "name": "stdout",
     "output_type": "stream",
     "text": [
      "Out of Range\n"
     ]
    }
   ],
   "source": [
    "vec.insert(2, 3)"
   ]
  },
  {
   "cell_type": "code",
   "execution_count": 7,
   "id": "9df22302-5577-44f1-bc2f-7331069079bd",
   "metadata": {},
   "outputs": [
    {
     "name": "stdout",
     "output_type": "stream",
     "text": [
      "Out of Range\n"
     ]
    }
   ],
   "source": [
    "vec.insert(-1, 3)"
   ]
  },
  {
   "cell_type": "code",
   "execution_count": 8,
   "id": "c7e6a430-d3bf-4611-bac6-a50a3a948ddd",
   "metadata": {},
   "outputs": [
    {
     "name": "stdout",
     "output_type": "stream",
     "text": [
      "1 9 \n",
      "\n",
      "Cap : 2\n",
      "Size : 2\n",
      "f & r:  0 0\n",
      "Real array\n",
      "1 9 \n",
      "\n"
     ]
    }
   ],
   "source": [
    "vec.push_back(9)\n",
    "vec.print()\n",
    "vec.printMeta()"
   ]
  },
  {
   "cell_type": "code",
   "execution_count": 9,
   "id": "e4495b1a-1164-482a-b6a2-e29fcb5c8258",
   "metadata": {},
   "outputs": [
    {
     "name": "stdout",
     "output_type": "stream",
     "text": [
      "1 9 3 \n",
      "\n",
      "Cap : 4\n",
      "Size : 3\n",
      "f & r:  0 3\n",
      "Real array\n",
      "1 9 3 None \n",
      "\n"
     ]
    }
   ],
   "source": [
    "vec.push_back(3)\n",
    "vec.print()\n",
    "vec.printMeta()"
   ]
  },
  {
   "cell_type": "code",
   "execution_count": 10,
   "id": "17cfd117-84d1-47e7-9f20-6eedf841a2a0",
   "metadata": {},
   "outputs": [
    {
     "name": "stdout",
     "output_type": "stream",
     "text": [
      "10 1 9 3 \n",
      "\n",
      "Cap : 4\n",
      "Size : 4\n",
      "f & r:  0 0\n",
      "Real array\n",
      "10 1 9 3 \n",
      "\n"
     ]
    }
   ],
   "source": [
    "vec.insert(0, 10)\n",
    "vec.print()\n",
    "vec.printMeta()"
   ]
  },
  {
   "cell_type": "code",
   "execution_count": 11,
   "id": "73bed4d5-ae80-4ab2-ab7e-bb1b2038741b",
   "metadata": {},
   "outputs": [
    {
     "name": "stdout",
     "output_type": "stream",
     "text": [
      "10 8 1 9 3 \n",
      "\n",
      "Cap : 8\n",
      "Size : 5\n",
      "f & r:  0 5\n",
      "Real array\n",
      "10 8 1 9 3 None None None \n",
      "\n"
     ]
    }
   ],
   "source": [
    "vec.insert(1, 8)\n",
    "vec.print()\n",
    "vec.printMeta()"
   ]
  },
  {
   "cell_type": "code",
   "execution_count": 12,
   "id": "60ce7a6e-40b4-415e-b818-cb6c4a4e1be4",
   "metadata": {},
   "outputs": [
    {
     "name": "stdout",
     "output_type": "stream",
     "text": [
      "10 8 1 3 \n",
      "\n",
      "Cap : 4\n",
      "Size : 4\n",
      "f & r:  0 4\n",
      "Real array\n",
      "10 8 1 3 \n",
      "\n"
     ]
    }
   ],
   "source": [
    "vec.remove(3)\n",
    "vec.print()\n",
    "vec.printMeta()"
   ]
  },
  {
   "cell_type": "code",
   "execution_count": 13,
   "id": "d1132176-4f36-43cd-b84d-9721bec2a507",
   "metadata": {},
   "outputs": [
    {
     "name": "stdout",
     "output_type": "stream",
     "text": [
      "99 10 8 1 3 \n",
      "\n",
      "Cap : 8\n",
      "Size : 5\n",
      "f & r:  7 4\n",
      "Real array\n",
      "10 8 1 3 None None None 99 \n",
      "\n"
     ]
    }
   ],
   "source": [
    "vec.push_front(99)\n",
    "vec.print()\n",
    "vec.printMeta()"
   ]
  },
  {
   "cell_type": "code",
   "execution_count": 14,
   "id": "b6905e3f-302c-412f-83af-d883344561ca",
   "metadata": {},
   "outputs": [
    {
     "name": "stdout",
     "output_type": "stream",
     "text": [
      "98 99 10 8 1 3 \n",
      "\n",
      "Cap : 8\n",
      "Size : 6\n",
      "f & r:  6 4\n",
      "Real array\n",
      "10 8 1 3 None None 98 99 \n",
      "\n"
     ]
    }
   ],
   "source": [
    "vec.push_front(98)\n",
    "vec.print()\n",
    "vec.printMeta()"
   ]
  },
  {
   "cell_type": "code",
   "execution_count": 15,
   "id": "65f4c577-445a-4b6c-95ad-e65fe53b29ef",
   "metadata": {},
   "outputs": [
    {
     "name": "stdout",
     "output_type": "stream",
     "text": [
      "98 99 10 8 3 \n",
      "\n",
      "Cap : 8\n",
      "Size : 5\n",
      "f & r:  6 3\n",
      "Real array\n",
      "10 8 3 3 None None 98 99 \n",
      "\n"
     ]
    }
   ],
   "source": [
    "vec.remove(4)\n",
    "vec.print()\n",
    "vec.printMeta()"
   ]
  },
  {
   "cell_type": "code",
   "execution_count": 16,
   "id": "f5bc5350-5be8-43ea-aa3e-8da4304f0c86",
   "metadata": {},
   "outputs": [
    {
     "name": "stdout",
     "output_type": "stream",
     "text": [
      "99 10 8 3 \n",
      "\n",
      "Cap : 4\n",
      "Size : 4\n",
      "f & r:  0 4\n",
      "Real array\n",
      "99 10 8 3 \n",
      "\n"
     ]
    }
   ],
   "source": [
    "vec.remove(0)\n",
    "vec.print()\n",
    "vec.printMeta()"
   ]
  }
 ],
 "metadata": {
  "kernelspec": {
   "display_name": "Python 3 (ipykernel)",
   "language": "python",
   "name": "python3"
  },
  "language_info": {
   "codemirror_mode": {
    "name": "ipython",
    "version": 3
   },
   "file_extension": ".py",
   "mimetype": "text/x-python",
   "name": "python",
   "nbconvert_exporter": "python",
   "pygments_lexer": "ipython3",
   "version": "3.9.15"
  }
 },
 "nbformat": 4,
 "nbformat_minor": 5
}
