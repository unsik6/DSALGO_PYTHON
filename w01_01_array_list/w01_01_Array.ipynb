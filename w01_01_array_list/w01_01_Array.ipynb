{
 "cells": [
  {
   "cell_type": "markdown",
   "id": "e9fa9cfd-e718-4563-b35f-d956ad12a244",
   "metadata": {},
   "source": [
    "# Week 1: Linear Data Structure 1: Array"
   ]
  },
  {
   "cell_type": "code",
   "execution_count": 1,
   "id": "a4634505-3d51-44a4-8860-52f6a2ae6fc8",
   "metadata": {},
   "outputs": [],
   "source": [
    "class Array:\n",
    "    def __init__(self, cap : int = 0):\n",
    "        self.cap = cap  # capacity: maximum size\n",
    "        self.size = 0\n",
    "        self.array = [None] * cap\n",
    "\n",
    "    def isEmpty(self):\n",
    "        return self.size == 0\n",
    "\n",
    "    def isFull(self):\n",
    "        return self.size >= self.cap\n",
    "\n",
    "\n",
    "    def getSize(self):\n",
    "        return self.size\n",
    "\n",
    "\n",
    "    # get the (idx)th item\n",
    "    def at(self, idx : int):\n",
    "        if idx < 0 or idx >= self.size:\n",
    "            print(\"Out of Range\")\n",
    "            return\n",
    "        else: return self.array[idx]\n",
    "\n",
    "\n",
    "    # set the (idx)th item\n",
    "    def set(self, idx : int, item):\n",
    "        if idx < 0 or idx >= self.size:\n",
    "            print(\"Out of Range\")\n",
    "            return\n",
    "        else: self.array[idx] = item\n",
    "\n",
    "\n",
    "    def print(self):\n",
    "        for i in range(0, self.size):\n",
    "            print(self.array[i], end = \" \")\n",
    "        print('')\n",
    "  \n",
    "\n",
    "    def insert(self, idx : int, item):\n",
    "        if self.isFull():\n",
    "            print('The array is full.')\n",
    "            return\n",
    "\n",
    "        # [idx > self.size] is very improtant\n",
    "        if idx < 0 or idx > self.size:\n",
    "            print(\"Out of Range\")\n",
    "            return\n",
    "\n",
    "        # Right Shift items\n",
    "        for i in range(self.size, idx, -1):\n",
    "            self.array[i] = self.array[i - 1]\n",
    "            # Put item\n",
    "        self.array[idx] = item\n",
    "        self.size += 1\n",
    "\n",
    "\n",
    "    def remove(self, idx : int):\n",
    "        if idx < 0 or idx >= self.size:\n",
    "            print(\"Out of Range\")\n",
    "            return\n",
    "    \n",
    "        # Left Shift items\n",
    "        for i in range(idx + 1, self.size):\n",
    "            self.array[i - 1] = self.array[i] \n",
    "        self.size -= 1"
   ]
  },
  {
   "cell_type": "markdown",
   "id": "263f3353-2b0e-4d62-9703-2a248af86da8",
   "metadata": {},
   "source": [
    "# TEST"
   ]
  },
  {
   "cell_type": "code",
   "execution_count": 2,
   "id": "336eb564-d340-46cb-9584-4ae16fd22b38",
   "metadata": {},
   "outputs": [
    {
     "name": "stdout",
     "output_type": "stream",
     "text": [
      "\n"
     ]
    }
   ],
   "source": [
    "arr = Array(4)\n",
    "arr.print()"
   ]
  },
  {
   "cell_type": "code",
   "execution_count": 3,
   "id": "28d1da23-b783-4f56-85b2-a474ecfabcf6",
   "metadata": {},
   "outputs": [
    {
     "data": {
      "text/plain": [
       "True"
      ]
     },
     "execution_count": 3,
     "metadata": {},
     "output_type": "execute_result"
    }
   ],
   "source": [
    "arr.isEmpty()"
   ]
  },
  {
   "cell_type": "code",
   "execution_count": 4,
   "id": "398d9005-76df-450d-a949-8d61c8476bc0",
   "metadata": {},
   "outputs": [
    {
     "name": "stdout",
     "output_type": "stream",
     "text": [
      "Out of Range\n"
     ]
    }
   ],
   "source": [
    "arr.insert(1, 5)"
   ]
  },
  {
   "cell_type": "code",
   "execution_count": 5,
   "id": "326ec6af-4622-4852-8361-3c18179ea0e4",
   "metadata": {},
   "outputs": [],
   "source": [
    "arr.insert(0, 4)"
   ]
  },
  {
   "cell_type": "code",
   "execution_count": 6,
   "id": "ca09d0e0-6b85-4382-b846-d4eae99d8ebe",
   "metadata": {},
   "outputs": [
    {
     "name": "stdout",
     "output_type": "stream",
     "text": [
      "4 \n"
     ]
    }
   ],
   "source": [
    "arr.print()"
   ]
  },
  {
   "cell_type": "code",
   "execution_count": 7,
   "id": "e5d5378c-ed3d-4659-b7ba-42af9a4b1df7",
   "metadata": {},
   "outputs": [
    {
     "data": {
      "text/plain": [
       "1"
      ]
     },
     "execution_count": 7,
     "metadata": {},
     "output_type": "execute_result"
    }
   ],
   "source": [
    "arr.getSize()"
   ]
  },
  {
   "cell_type": "code",
   "execution_count": 8,
   "id": "ed0584d5-ac0f-44ff-bf36-0a6f8dea1029",
   "metadata": {},
   "outputs": [
    {
     "data": {
      "text/plain": [
       "False"
      ]
     },
     "execution_count": 8,
     "metadata": {},
     "output_type": "execute_result"
    }
   ],
   "source": [
    "arr.isEmpty()"
   ]
  },
  {
   "cell_type": "code",
   "execution_count": 9,
   "id": "cebddcde-4572-41ee-9235-0f00f8c03344",
   "metadata": {},
   "outputs": [
    {
     "name": "stdout",
     "output_type": "stream",
     "text": [
      "Out of Range\n"
     ]
    }
   ],
   "source": [
    "arr.remove(-1)"
   ]
  },
  {
   "cell_type": "code",
   "execution_count": 10,
   "id": "2c9cf715-48b5-4444-ba0b-1e930f6e098a",
   "metadata": {},
   "outputs": [
    {
     "name": "stdout",
     "output_type": "stream",
     "text": [
      "1 4 \n"
     ]
    }
   ],
   "source": [
    "arr.insert(0, 1)\n",
    "arr.print()"
   ]
  },
  {
   "cell_type": "code",
   "execution_count": 11,
   "id": "7adb2f9b-f393-42fe-bac2-6ce4416f1f04",
   "metadata": {},
   "outputs": [
    {
     "name": "stdout",
     "output_type": "stream",
     "text": [
      "4 \n"
     ]
    }
   ],
   "source": [
    "arr.remove(0)\n",
    "arr.print()"
   ]
  }
 ],
 "metadata": {
  "kernelspec": {
   "display_name": "Python 3 (ipykernel)",
   "language": "python",
   "name": "python3"
  },
  "language_info": {
   "codemirror_mode": {
    "name": "ipython",
    "version": 3
   },
   "file_extension": ".py",
   "mimetype": "text/x-python",
   "name": "python",
   "nbconvert_exporter": "python",
   "pygments_lexer": "ipython3",
   "version": "3.9.15"
  }
 },
 "nbformat": 4,
 "nbformat_minor": 5
}
