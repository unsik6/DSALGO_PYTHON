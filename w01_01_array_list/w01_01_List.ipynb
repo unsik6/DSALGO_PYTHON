{
 "cells": [
  {
   "cell_type": "markdown",
   "id": "7ba7b84d-7c34-4ace-beb5-c0b84d63ae35",
   "metadata": {
    "tags": []
   },
   "source": [
    "# Week 1: Linear Data Structure 1: Linked List"
   ]
  },
  {
   "cell_type": "markdown",
   "id": "7aea7a7c-9eff-449d-ac03-66aec57fbca6",
   "metadata": {
    "tags": []
   },
   "source": [
    "## Singly Linked List"
   ]
  },
  {
   "cell_type": "code",
   "execution_count": 1,
   "id": "8c06e9bf-9358-4f8f-b106-e8f2cea1fc7b",
   "metadata": {},
   "outputs": [],
   "source": [
    "class Node:\n",
    "    def __init__(self, elem):\n",
    "        self.elem = elem\n",
    "        self.next = None"
   ]
  },
  {
   "cell_type": "code",
   "execution_count": 2,
   "id": "4714bdb8-711e-4fed-b111-a65360aa5586",
   "metadata": {},
   "outputs": [],
   "source": [
    "class SLL:\n",
    "    def __init__(self, head : Node = None):\n",
    "        self.head = head\n",
    "        self.tail = head\n",
    "        self.size = 0\n",
    "\n",
    "\n",
    "    def getSize(self): return self.size\n",
    "\n",
    "\n",
    "    def isEmpty(self): return self.head == None\n",
    "\n",
    "\n",
    "    def find(self, elem):\n",
    "        curNode = self.head\n",
    "        while curNode != None:\n",
    "            if curNode.elem == elem:\n",
    "                return curNode\n",
    "            curNode = curNode.next\n",
    "        print(\"There is no matched node\")\n",
    "  \n",
    "  \n",
    "    def front(self):\n",
    "        if self.isEmpty():\n",
    "            print('Empty')\n",
    "            return\n",
    "        return self.head.elem\n",
    "\n",
    "\n",
    "    def push_front(self, elem):\n",
    "        new_node = Node(elem)\n",
    "        if self.head == None:\n",
    "            self.head = self.tail = new_node\n",
    "        else:\n",
    "            new_node.next = self.head\n",
    "            self.head = new_node\n",
    "        self.size += 1\n",
    "\n",
    "\n",
    "    def pop_front(self):\n",
    "        if self.isEmpty():\n",
    "            print('Empty')\n",
    "            return\n",
    "        \n",
    "        # If there is just one node in a list, its tail is also deleted.\n",
    "        if self.head == self.tail:\n",
    "            self.head = self.tail = None\n",
    "        else:\n",
    "            self.head = self.head.next\n",
    "        self.size -= 1\n",
    "            \n",
    "            \n",
    "    def back(self):\n",
    "        if self.isEmpty():\n",
    "            print('Empty')\n",
    "            return\n",
    "        return self.tail.elem\n",
    "  \n",
    "\n",
    "    def push_back(self, elem):\n",
    "        new_node = Node(elem)\n",
    "        if self.head == None:\n",
    "            self.head = self.tail = new_node\n",
    "        else:\n",
    "            self.tail.next = new_node\n",
    "            self.tail = new_node\n",
    "        self.size += 1\n",
    "  \n",
    "\n",
    "    def pop_back(self):\n",
    "        if self.isEmpty():\n",
    "            print('Empty')\n",
    "            return\n",
    "        # If there is just one node in a list, its head is also deleted.\n",
    "        if self.head == self.tail:\n",
    "            self.head = self.tail = None\n",
    "        else:\n",
    "            # In SLL, we can travel only front to back.\n",
    "            # It means we can not acces previous node of the last node.\n",
    "            preNode = None\n",
    "            curNode = self.head\n",
    "            # Stop when curNode == tail\n",
    "            while curNode.next != None:\n",
    "                preNode = curNode\n",
    "                curNode = curNode.next\n",
    "            preNode.next = None\n",
    "            self.tail = preNode\n",
    "        self.size -= 1\n",
    "\n",
    "    # insert the node whose element is 'elem'\n",
    "    # after the node whose element is 'pos_elem'\n",
    "    def insert(self, pre_elem, elem):\n",
    "        if self.isEmpty():\n",
    "            print('Empty')\n",
    "            return\n",
    "        \n",
    "        curNode = self.head\n",
    "        while curNode != None:\n",
    "            if curNode.elem == pre_elem:\n",
    "                break\n",
    "            curNode = curNode.next\n",
    "        \n",
    "        if curNode == None:\n",
    "            print('There is no matched node')\n",
    "            return\n",
    "        \n",
    "        new_node = Node(elem)\n",
    "        new_node.next = curNode.next\n",
    "        curNode.next = new_node\n",
    "        \n",
    "        if curNode == self.tail:\n",
    "            self.tail = new_node\n",
    "        self.size += 1\n",
    "\n",
    "\n",
    "    def remove(self, elem):\n",
    "        if self.isEmpty():\n",
    "            print('Empty')\n",
    "            return\n",
    "        \n",
    "        preNode = None\n",
    "        curNode = self.head\n",
    "        while curNode != None:\n",
    "            if curNode.elem == elem:\n",
    "                break\n",
    "            preNode = curNode\n",
    "            curNode = curNode.next\n",
    "        \n",
    "        if curNode == None:\n",
    "            print('There is no matched node')\n",
    "            return\n",
    "        \n",
    "        if curNode == self.head:\n",
    "            if self.head == self.tail:\n",
    "                self.head = self.tail = None\n",
    "            else:\n",
    "                self.head = curNode.next\n",
    "        else:\n",
    "            preNode.next = curNode.next\n",
    "            if curNode == self.tail:\n",
    "                self.tail = preNode\n",
    "        \n",
    "        self.size -= 1\n",
    "    \n",
    "    \n",
    "    def printAll(self):\n",
    "        curNode = self.head\n",
    "        while curNode != None:\n",
    "            print(curNode.elem)\n",
    "    \n",
    "    \n",
    "    def printMeta(self):\n",
    "        print('Head :', id(self.head),'\\nTail :',id(self.tail),'\\nSize :',self.size)\n",
    "        curNode = self.head\n",
    "        cnt = 0\n",
    "        while curNode != None:\n",
    "            print(cnt, 'Node :', curNode.elem)\n",
    "            print('\\tcurId :', id(curNode), '\\tnextId :', id(curNode.next),'\\n')\n",
    "            cnt += 1\n",
    "            curNode = curNode.next"
   ]
  },
  {
   "cell_type": "code",
   "execution_count": 3,
   "id": "c277331e-aceb-43e6-92cc-8ebc8aa67742",
   "metadata": {},
   "outputs": [],
   "source": [
    "myList = SLL()"
   ]
  },
  {
   "cell_type": "code",
   "execution_count": 4,
   "id": "964e07c8-4a8f-44cc-9d00-55cf47782ad4",
   "metadata": {},
   "outputs": [
    {
     "data": {
      "text/plain": [
       "True"
      ]
     },
     "execution_count": 4,
     "metadata": {},
     "output_type": "execute_result"
    }
   ],
   "source": [
    "myList.isEmpty()"
   ]
  },
  {
   "cell_type": "code",
   "execution_count": 5,
   "id": "8dafcf76-0414-46fe-aff5-2c98b138a8bf",
   "metadata": {},
   "outputs": [
    {
     "data": {
      "text/plain": [
       "0"
      ]
     },
     "execution_count": 5,
     "metadata": {},
     "output_type": "execute_result"
    }
   ],
   "source": [
    "myList.getSize()"
   ]
  },
  {
   "cell_type": "code",
   "execution_count": 6,
   "id": "93c6711e-7c1b-42b3-bb92-9d100fb02797",
   "metadata": {},
   "outputs": [
    {
     "name": "stdout",
     "output_type": "stream",
     "text": [
      "Empty\n"
     ]
    }
   ],
   "source": [
    "myList.insert(1, 4)"
   ]
  },
  {
   "cell_type": "code",
   "execution_count": 7,
   "id": "cb097748-8963-4e64-bf0b-7185d31a8b26",
   "metadata": {},
   "outputs": [
    {
     "name": "stdout",
     "output_type": "stream",
     "text": [
      "Empty\n"
     ]
    }
   ],
   "source": [
    "myList.remove(1)"
   ]
  },
  {
   "cell_type": "code",
   "execution_count": 8,
   "id": "9dc4ec2b-00a7-42f7-b187-9601705c5165",
   "metadata": {},
   "outputs": [
    {
     "name": "stdout",
     "output_type": "stream",
     "text": [
      "Head : 1818298002256 \n",
      "Tail : 1818298002256 \n",
      "Size : 1\n",
      "0 Node : 1\n",
      "\tcurId : 1818298002256 \tnextId : 140713099640024 \n",
      "\n"
     ]
    }
   ],
   "source": [
    "myList.push_front(1)\n",
    "myList.printMeta()"
   ]
  },
  {
   "cell_type": "code",
   "execution_count": 9,
   "id": "2317bfd6-d73f-4c75-8788-b803d47a09d5",
   "metadata": {},
   "outputs": [
    {
     "name": "stdout",
     "output_type": "stream",
     "text": [
      "Head : 1818298000432 \n",
      "Tail : 1818298002256 \n",
      "Size : 2\n",
      "0 Node : 2\n",
      "\tcurId : 1818298000432 \tnextId : 1818298002256 \n",
      "\n",
      "1 Node : 1\n",
      "\tcurId : 1818298002256 \tnextId : 140713099640024 \n",
      "\n"
     ]
    }
   ],
   "source": [
    "myList.push_front(2)\n",
    "myList.printMeta()"
   ]
  },
  {
   "cell_type": "code",
   "execution_count": 10,
   "id": "2f94af15-3a0f-4d64-bb17-5f83e7c3eae2",
   "metadata": {},
   "outputs": [
    {
     "name": "stdout",
     "output_type": "stream",
     "text": [
      "Head : 1818298000432 \n",
      "Tail : 1818298002112 \n",
      "Size : 3\n",
      "0 Node : 2\n",
      "\tcurId : 1818298000432 \tnextId : 1818298002256 \n",
      "\n",
      "1 Node : 1\n",
      "\tcurId : 1818298002256 \tnextId : 1818298002112 \n",
      "\n",
      "2 Node : 9\n",
      "\tcurId : 1818298002112 \tnextId : 140713099640024 \n",
      "\n"
     ]
    }
   ],
   "source": [
    "myList.push_back(9)\n",
    "myList.printMeta()"
   ]
  },
  {
   "cell_type": "code",
   "execution_count": 11,
   "id": "df44809b-db8a-4039-aca8-7682edbe7a59",
   "metadata": {},
   "outputs": [
    {
     "name": "stdout",
     "output_type": "stream",
     "text": [
      "There is no matched node\n"
     ]
    }
   ],
   "source": [
    "myList.insert(10, 11)"
   ]
  },
  {
   "cell_type": "code",
   "execution_count": 12,
   "id": "901cf13d-f8aa-446e-ba3b-5abbe22dcda1",
   "metadata": {},
   "outputs": [
    {
     "name": "stdout",
     "output_type": "stream",
     "text": [
      "Head : 1818298000432 \n",
      "Tail : 1818298002112 \n",
      "Size : 4\n",
      "0 Node : 2\n",
      "\tcurId : 1818298000432 \tnextId : 1818298002256 \n",
      "\n",
      "1 Node : 1\n",
      "\tcurId : 1818298002256 \tnextId : 1818298002400 \n",
      "\n",
      "2 Node : 8\n",
      "\tcurId : 1818298002400 \tnextId : 1818298002112 \n",
      "\n",
      "3 Node : 9\n",
      "\tcurId : 1818298002112 \tnextId : 140713099640024 \n",
      "\n"
     ]
    }
   ],
   "source": [
    "myList.insert(1, 8)\n",
    "myList.printMeta()"
   ]
  },
  {
   "cell_type": "code",
   "execution_count": 13,
   "id": "5c8651c5-f943-4d2e-999c-ea5f7cb41e3c",
   "metadata": {},
   "outputs": [
    {
     "name": "stdout",
     "output_type": "stream",
     "text": [
      "Head : 1818298000432 \n",
      "Tail : 1818298002112 \n",
      "Size : 5\n",
      "0 Node : 2\n",
      "\tcurId : 1818298000432 \tnextId : 1818298000912 \n",
      "\n",
      "1 Node : 14\n",
      "\tcurId : 1818298000912 \tnextId : 1818298002256 \n",
      "\n",
      "2 Node : 1\n",
      "\tcurId : 1818298002256 \tnextId : 1818298002400 \n",
      "\n",
      "3 Node : 8\n",
      "\tcurId : 1818298002400 \tnextId : 1818298002112 \n",
      "\n",
      "4 Node : 9\n",
      "\tcurId : 1818298002112 \tnextId : 140713099640024 \n",
      "\n"
     ]
    }
   ],
   "source": [
    "myList.insert(2, 14)\n",
    "myList.printMeta()"
   ]
  },
  {
   "cell_type": "code",
   "execution_count": 14,
   "id": "d6764f57-0f73-4cb5-970f-84a6e0a82e4a",
   "metadata": {},
   "outputs": [
    {
     "name": "stdout",
     "output_type": "stream",
     "text": [
      "Head : 1818298000432 \n",
      "Tail : 1818297203104 \n",
      "Size : 6\n",
      "0 Node : 2\n",
      "\tcurId : 1818298000432 \tnextId : 1818298000912 \n",
      "\n",
      "1 Node : 14\n",
      "\tcurId : 1818298000912 \tnextId : 1818298002256 \n",
      "\n",
      "2 Node : 1\n",
      "\tcurId : 1818298002256 \tnextId : 1818298002400 \n",
      "\n",
      "3 Node : 8\n",
      "\tcurId : 1818298002400 \tnextId : 1818298002112 \n",
      "\n",
      "4 Node : 9\n",
      "\tcurId : 1818298002112 \tnextId : 1818297203104 \n",
      "\n",
      "5 Node : 114\n",
      "\tcurId : 1818297203104 \tnextId : 140713099640024 \n",
      "\n"
     ]
    }
   ],
   "source": [
    "myList.insert(9, 114)\n",
    "myList.printMeta()"
   ]
  },
  {
   "cell_type": "code",
   "execution_count": 15,
   "id": "5e1f9881-28a7-455c-9efa-da62fc7152e2",
   "metadata": {},
   "outputs": [
    {
     "name": "stdout",
     "output_type": "stream",
     "text": [
      "Head : 1818298000912 \n",
      "Tail : 1818297203104 \n",
      "Size : 5\n",
      "0 Node : 14\n",
      "\tcurId : 1818298000912 \tnextId : 1818298002256 \n",
      "\n",
      "1 Node : 1\n",
      "\tcurId : 1818298002256 \tnextId : 1818298002400 \n",
      "\n",
      "2 Node : 8\n",
      "\tcurId : 1818298002400 \tnextId : 1818298002112 \n",
      "\n",
      "3 Node : 9\n",
      "\tcurId : 1818298002112 \tnextId : 1818297203104 \n",
      "\n",
      "4 Node : 114\n",
      "\tcurId : 1818297203104 \tnextId : 140713099640024 \n",
      "\n"
     ]
    }
   ],
   "source": [
    "myList.pop_front()\n",
    "myList.printMeta()"
   ]
  },
  {
   "cell_type": "code",
   "execution_count": 16,
   "id": "fa9bdc91-369a-448c-be05-82826747de6b",
   "metadata": {},
   "outputs": [
    {
     "name": "stdout",
     "output_type": "stream",
     "text": [
      "Head : 1818298000912 \n",
      "Tail : 1818298002112 \n",
      "Size : 4\n",
      "0 Node : 14\n",
      "\tcurId : 1818298000912 \tnextId : 1818298002256 \n",
      "\n",
      "1 Node : 1\n",
      "\tcurId : 1818298002256 \tnextId : 1818298002400 \n",
      "\n",
      "2 Node : 8\n",
      "\tcurId : 1818298002400 \tnextId : 1818298002112 \n",
      "\n",
      "3 Node : 9\n",
      "\tcurId : 1818298002112 \tnextId : 140713099640024 \n",
      "\n"
     ]
    }
   ],
   "source": [
    "myList.pop_back()\n",
    "myList.printMeta()"
   ]
  },
  {
   "cell_type": "code",
   "execution_count": 17,
   "id": "85c31103-0dd0-4b3e-b09b-c0a23e4383dc",
   "metadata": {},
   "outputs": [
    {
     "name": "stdout",
     "output_type": "stream",
     "text": [
      "Head : 1818298000912 \n",
      "Tail : 1818298002112 \n",
      "Size : 3\n",
      "0 Node : 14\n",
      "\tcurId : 1818298000912 \tnextId : 1818298002400 \n",
      "\n",
      "1 Node : 8\n",
      "\tcurId : 1818298002400 \tnextId : 1818298002112 \n",
      "\n",
      "2 Node : 9\n",
      "\tcurId : 1818298002112 \tnextId : 140713099640024 \n",
      "\n"
     ]
    }
   ],
   "source": [
    "myList.remove(1)\n",
    "myList.printMeta()"
   ]
  },
  {
   "cell_type": "code",
   "execution_count": 18,
   "id": "bed271cf-e281-483d-a72b-fdacd8e00858",
   "metadata": {},
   "outputs": [
    {
     "name": "stdout",
     "output_type": "stream",
     "text": [
      "Head : 1818298002400 \n",
      "Tail : 1818298002112 \n",
      "Size : 2\n",
      "0 Node : 8\n",
      "\tcurId : 1818298002400 \tnextId : 1818298002112 \n",
      "\n",
      "1 Node : 9\n",
      "\tcurId : 1818298002112 \tnextId : 140713099640024 \n",
      "\n"
     ]
    }
   ],
   "source": [
    "myList.remove(14)\n",
    "myList.printMeta()"
   ]
  },
  {
   "cell_type": "code",
   "execution_count": 19,
   "id": "0eaba06b-6cdd-4da9-8431-77a2613c4b98",
   "metadata": {},
   "outputs": [
    {
     "name": "stdout",
     "output_type": "stream",
     "text": [
      "Head : 1818298002400 \n",
      "Tail : 1818298002400 \n",
      "Size : 1\n",
      "0 Node : 8\n",
      "\tcurId : 1818298002400 \tnextId : 140713099640024 \n",
      "\n"
     ]
    }
   ],
   "source": [
    "myList.remove(9)\n",
    "myList.printMeta()"
   ]
  },
  {
   "cell_type": "code",
   "execution_count": 20,
   "id": "573ddef8-5788-4640-a182-aff4cfc6a38c",
   "metadata": {},
   "outputs": [
    {
     "name": "stdout",
     "output_type": "stream",
     "text": [
      "Head : 140713099640024 \n",
      "Tail : 140713099640024 \n",
      "Size : 0\n"
     ]
    }
   ],
   "source": [
    "myList.remove(8)\n",
    "myList.printMeta()"
   ]
  },
  {
   "cell_type": "code",
   "execution_count": 21,
   "id": "e57fe5ad-2620-4e28-a31d-b7b2f392721e",
   "metadata": {},
   "outputs": [
    {
     "name": "stdout",
     "output_type": "stream",
     "text": [
      "Head : 1818319004240 \n",
      "Tail : 1818319004240 \n",
      "Size : 1\n",
      "0 Node : 1\n",
      "\tcurId : 1818319004240 \tnextId : 140713099640024 \n",
      "\n"
     ]
    }
   ],
   "source": [
    "myList.push_back(1)\n",
    "myList.printMeta()"
   ]
  },
  {
   "cell_type": "code",
   "execution_count": 22,
   "id": "b84ea421-422a-4d74-86b5-452c1b10e68b",
   "metadata": {},
   "outputs": [
    {
     "name": "stdout",
     "output_type": "stream",
     "text": [
      "Head : 140713099640024 \n",
      "Tail : 140713099640024 \n",
      "Size : 0\n"
     ]
    }
   ],
   "source": [
    "myList.pop_back()\n",
    "myList.printMeta()"
   ]
  },
  {
   "cell_type": "code",
   "execution_count": 23,
   "id": "c5fac2c8-67a3-4cd0-b466-d9becfa36894",
   "metadata": {},
   "outputs": [
    {
     "name": "stdout",
     "output_type": "stream",
     "text": [
      "Head : 1818319005488 \n",
      "Tail : 1818319005488 \n",
      "Size : 1\n",
      "0 Node : 1\n",
      "\tcurId : 1818319005488 \tnextId : 140713099640024 \n",
      "\n"
     ]
    }
   ],
   "source": [
    "myList.push_front(1)\n",
    "myList.printMeta()"
   ]
  },
  {
   "cell_type": "code",
   "execution_count": 24,
   "id": "1f8a9c00-5f0e-4d80-a4c0-568493834df8",
   "metadata": {},
   "outputs": [
    {
     "name": "stdout",
     "output_type": "stream",
     "text": [
      "Head : 140713099640024 \n",
      "Tail : 140713099640024 \n",
      "Size : 0\n"
     ]
    }
   ],
   "source": [
    "myList.pop_front()\n",
    "myList.printMeta()"
   ]
  },
  {
   "cell_type": "code",
   "execution_count": 25,
   "id": "dbb5b263-16d7-4cd8-908c-6bef0e4a04c7",
   "metadata": {},
   "outputs": [
    {
     "name": "stdout",
     "output_type": "stream",
     "text": [
      "Head : 1818319007696 \n",
      "Tail : 1818319007696 \n",
      "Size : 1\n",
      "0 Node : 100\n",
      "\tcurId : 1818319007696 \tnextId : 140713099640024 \n",
      "\n"
     ]
    }
   ],
   "source": [
    "myList.push_back(100)\n",
    "myList.printMeta()"
   ]
  },
  {
   "cell_type": "markdown",
   "id": "8e045019-fc6d-493d-92db-4e85d2efcb49",
   "metadata": {},
   "source": [
    "## Doubly Linked List"
   ]
  },
  {
   "cell_type": "code",
   "execution_count": 26,
   "id": "847940b4-0608-4383-9a31-3c4056c5e5e7",
   "metadata": {},
   "outputs": [],
   "source": [
    "class DNode:\n",
    "    def __init__(self, elem):\n",
    "        self.elem = elem\n",
    "        self.prev = None\n",
    "        self.next = None"
   ]
  },
  {
   "cell_type": "code",
   "execution_count": 27,
   "id": "adfbf713-be37-4c21-8865-cc9bd25587f7",
   "metadata": {},
   "outputs": [],
   "source": [
    "class DLL:\n",
    "    def __init__(self):\n",
    "        # Create Dummy Nodes\n",
    "        self.header = DNode(None)\n",
    "        self.trailer = DNode(None)\n",
    "        self.header.next = self.trailer\n",
    "        self.trailer.prev = self.header\n",
    "        self.size = 0\n",
    "\n",
    "\n",
    "    def getSize(self): return self.size\n",
    "\n",
    "\n",
    "    def isEmpty(self): return self.header.next == self.trailer\n",
    "\n",
    "\n",
    "    def find(self, elem):\n",
    "        curNode = self.header\n",
    "        while curNode != None:\n",
    "            if curNode.elem == elem:\n",
    "                return curNode\n",
    "            curNode = curNode.next\n",
    "        print(\"There is no matched node\")\n",
    "  \n",
    "  \n",
    "    def front(self):\n",
    "        if self.isEmpty():\n",
    "            print('Empty')\n",
    "            return\n",
    "        return self.header.next.elem\n",
    "\n",
    "\n",
    "    def push_front(self, elem):\n",
    "        new_node = DNode(elem)\n",
    "        \n",
    "        new_node.prev = self.header\n",
    "        new_node.next = self.header.next\n",
    "        self.header.next.prev = new_node\n",
    "        self.header.next = new_node\n",
    "        \n",
    "        self.size += 1\n",
    "\n",
    "\n",
    "    def pop_front(self):\n",
    "        if self.isEmpty():\n",
    "            print('Empty')\n",
    "            return\n",
    "        \n",
    "        self.header.next = self.header.next.next\n",
    "        self.header.next.prev = self.header\n",
    "        \n",
    "        self.size -= 1\n",
    "            \n",
    "            \n",
    "    def back(self):\n",
    "        if self.isEmpty():\n",
    "            print('Empty')\n",
    "            return\n",
    "        return self.trailer.prev.elem\n",
    "  \n",
    "\n",
    "    def push_back(self, elem):\n",
    "        new_node = DNode(elem)\n",
    "        \n",
    "        new_node.prev = self.trailer.prev\n",
    "        new_node.next = self.trailer\n",
    "        self.trailer.prev.next = new_node\n",
    "        self.trailer.prev = new_node\n",
    "        \n",
    "        self.size += 1\n",
    "  \n",
    "\n",
    "    def pop_back(self):\n",
    "        if self.isEmpty():\n",
    "            print('Empty')\n",
    "            return\n",
    "        \n",
    "        self.trailer.prev = self.trailer.prev.prev\n",
    "        self.trailer.prev.next = self.trailer\n",
    "            \n",
    "        self.size -= 1\n",
    "\n",
    "    # insert the node whose element is 'elem'\n",
    "    # after the node whose element is 'pos_elem'\n",
    "    def insert(self, pre_elem, elem):\n",
    "        if self.isEmpty():\n",
    "            print('Empty')\n",
    "            return\n",
    "        \n",
    "        curNode = self.header\n",
    "        while curNode != None:\n",
    "            if curNode.elem == pre_elem:\n",
    "                break\n",
    "            curNode = curNode.next\n",
    "        \n",
    "        if curNode == None:\n",
    "            print('There is no matched node')\n",
    "            return\n",
    "        \n",
    "        new_node = DNode(elem)\n",
    "        new_node.prev = curNode\n",
    "        new_node.next = curNode.next\n",
    "        curNode.next.prev = new_node\n",
    "        curNode.next = new_node\n",
    "        \n",
    "        self.size += 1\n",
    "\n",
    "\n",
    "    def remove(self, elem):\n",
    "        if self.isEmpty():\n",
    "            print('Empty')\n",
    "            return\n",
    "        \n",
    "        curNode = self.header\n",
    "        while curNode != None:\n",
    "            if curNode.elem == elem:\n",
    "                break\n",
    "            curNode = curNode.next\n",
    "        \n",
    "        if curNode == None:\n",
    "            print('There is no matched node')\n",
    "            return\n",
    "        \n",
    "        curNode.prev.next = curNode.next\n",
    "        curNode.next.prev = curNode.prev\n",
    "        \n",
    "        self.size -= 1\n",
    "    \n",
    "    \n",
    "    def printAll(self):\n",
    "        curNode = self.header\n",
    "        while curNode != None:\n",
    "            print(curNode.elem)\n",
    "    \n",
    "    \n",
    "    def printMeta(self):\n",
    "        print('Header :', id(self.header),'\\nTrailer :',id(self.trailer),'\\nSize :',self.size)\n",
    "        curNode = self.header\n",
    "        cnt = 0\n",
    "        while curNode != None:\n",
    "            print(cnt, 'Node :', curNode.elem)\n",
    "            print('\\tcurId :', id(curNode), '\\tprevId :', id(curNode.prev), '\\tnextId :', id(curNode.next),'\\n')\n",
    "            cnt += 1\n",
    "            curNode = curNode.next"
   ]
  },
  {
   "cell_type": "code",
   "execution_count": 28,
   "id": "2ba00f6a-83a0-45ed-ab8a-c21af9608fbc",
   "metadata": {},
   "outputs": [],
   "source": [
    "myList = DLL()"
   ]
  },
  {
   "cell_type": "code",
   "execution_count": 29,
   "id": "e1397529-753f-46f3-9ed2-c5e85676cebc",
   "metadata": {},
   "outputs": [
    {
     "data": {
      "text/plain": [
       "True"
      ]
     },
     "execution_count": 29,
     "metadata": {},
     "output_type": "execute_result"
    }
   ],
   "source": [
    "myList.isEmpty()"
   ]
  },
  {
   "cell_type": "code",
   "execution_count": 30,
   "id": "e9dc6aae-2352-4cd0-9694-e7b6bd06f80b",
   "metadata": {},
   "outputs": [
    {
     "data": {
      "text/plain": [
       "0"
      ]
     },
     "execution_count": 30,
     "metadata": {},
     "output_type": "execute_result"
    }
   ],
   "source": [
    "myList.getSize()"
   ]
  },
  {
   "cell_type": "code",
   "execution_count": 31,
   "id": "8ba31d42-bfe6-4842-a615-157d7180ac54",
   "metadata": {},
   "outputs": [
    {
     "name": "stdout",
     "output_type": "stream",
     "text": [
      "Empty\n"
     ]
    }
   ],
   "source": [
    "myList.insert(1, 4)"
   ]
  },
  {
   "cell_type": "code",
   "execution_count": 32,
   "id": "3a357587-7ac2-4fe7-8dd6-448db7a3b223",
   "metadata": {},
   "outputs": [
    {
     "name": "stdout",
     "output_type": "stream",
     "text": [
      "Empty\n"
     ]
    }
   ],
   "source": [
    "myList.remove(1)"
   ]
  },
  {
   "cell_type": "code",
   "execution_count": 33,
   "id": "1ce20f19-14e5-402b-b388-ea25db863d3d",
   "metadata": {},
   "outputs": [
    {
     "name": "stdout",
     "output_type": "stream",
     "text": [
      "Header : 1818319043360 \n",
      "Trailer : 1818319040768 \n",
      "Size : 1\n",
      "0 Node : None\n",
      "\tcurId : 1818319043360 \tprevId : 140713099640024 \tnextId : 1818319042208 \n",
      "\n",
      "1 Node : 1\n",
      "\tcurId : 1818319042208 \tprevId : 1818319043360 \tnextId : 1818319040768 \n",
      "\n",
      "2 Node : None\n",
      "\tcurId : 1818319040768 \tprevId : 1818319042208 \tnextId : 140713099640024 \n",
      "\n"
     ]
    }
   ],
   "source": [
    "myList.push_front(1)\n",
    "myList.printMeta()"
   ]
  },
  {
   "cell_type": "code",
   "execution_count": 34,
   "id": "5c0a14d0-26b1-454e-877e-7dc45cc56860",
   "metadata": {},
   "outputs": [
    {
     "name": "stdout",
     "output_type": "stream",
     "text": [
      "Header : 1818319043360 \n",
      "Trailer : 1818319040768 \n",
      "Size : 2\n",
      "0 Node : None\n",
      "\tcurId : 1818319043360 \tprevId : 140713099640024 \tnextId : 1818319053536 \n",
      "\n",
      "1 Node : 2\n",
      "\tcurId : 1818319053536 \tprevId : 1818319043360 \tnextId : 1818319042208 \n",
      "\n",
      "2 Node : 1\n",
      "\tcurId : 1818319042208 \tprevId : 1818319053536 \tnextId : 1818319040768 \n",
      "\n",
      "3 Node : None\n",
      "\tcurId : 1818319040768 \tprevId : 1818319042208 \tnextId : 140713099640024 \n",
      "\n"
     ]
    }
   ],
   "source": [
    "myList.push_front(2)\n",
    "myList.printMeta()"
   ]
  },
  {
   "cell_type": "code",
   "execution_count": 35,
   "id": "732a6351-3af7-48e1-9b6a-59223d156adb",
   "metadata": {},
   "outputs": [
    {
     "name": "stdout",
     "output_type": "stream",
     "text": [
      "Header : 1818319043360 \n",
      "Trailer : 1818319040768 \n",
      "Size : 3\n",
      "0 Node : None\n",
      "\tcurId : 1818319043360 \tprevId : 140713099640024 \tnextId : 1818319053536 \n",
      "\n",
      "1 Node : 2\n",
      "\tcurId : 1818319053536 \tprevId : 1818319043360 \tnextId : 1818319042208 \n",
      "\n",
      "2 Node : 1\n",
      "\tcurId : 1818319042208 \tprevId : 1818319053536 \tnextId : 1818319055216 \n",
      "\n",
      "3 Node : 9\n",
      "\tcurId : 1818319055216 \tprevId : 1818319042208 \tnextId : 1818319040768 \n",
      "\n",
      "4 Node : None\n",
      "\tcurId : 1818319040768 \tprevId : 1818319055216 \tnextId : 140713099640024 \n",
      "\n"
     ]
    }
   ],
   "source": [
    "myList.push_back(9)\n",
    "myList.printMeta()"
   ]
  },
  {
   "cell_type": "code",
   "execution_count": 36,
   "id": "36759171-3db2-4d73-9954-a8d7b27a36a4",
   "metadata": {},
   "outputs": [
    {
     "name": "stdout",
     "output_type": "stream",
     "text": [
      "There is no matched node\n"
     ]
    }
   ],
   "source": [
    "myList.insert(10, 11)"
   ]
  },
  {
   "cell_type": "code",
   "execution_count": 37,
   "id": "ea0abb0f-ec2e-4a43-aef9-f1bcbadf6ec4",
   "metadata": {},
   "outputs": [
    {
     "name": "stdout",
     "output_type": "stream",
     "text": [
      "Header : 1818319043360 \n",
      "Trailer : 1818319040768 \n",
      "Size : 4\n",
      "0 Node : None\n",
      "\tcurId : 1818319043360 \tprevId : 140713099640024 \tnextId : 1818319053536 \n",
      "\n",
      "1 Node : 2\n",
      "\tcurId : 1818319053536 \tprevId : 1818319043360 \tnextId : 1818319042208 \n",
      "\n",
      "2 Node : 1\n",
      "\tcurId : 1818319042208 \tprevId : 1818319053536 \tnextId : 1818319053872 \n",
      "\n",
      "3 Node : 8\n",
      "\tcurId : 1818319053872 \tprevId : 1818319042208 \tnextId : 1818319055216 \n",
      "\n",
      "4 Node : 9\n",
      "\tcurId : 1818319055216 \tprevId : 1818319053872 \tnextId : 1818319040768 \n",
      "\n",
      "5 Node : None\n",
      "\tcurId : 1818319040768 \tprevId : 1818319055216 \tnextId : 140713099640024 \n",
      "\n"
     ]
    }
   ],
   "source": [
    "myList.insert(1, 8)\n",
    "myList.printMeta()"
   ]
  },
  {
   "cell_type": "code",
   "execution_count": 38,
   "id": "e3071876-2c1f-44ba-b715-664e7607fd53",
   "metadata": {},
   "outputs": [
    {
     "name": "stdout",
     "output_type": "stream",
     "text": [
      "Header : 1818319043360 \n",
      "Trailer : 1818319040768 \n",
      "Size : 5\n",
      "0 Node : None\n",
      "\tcurId : 1818319043360 \tprevId : 140713099640024 \tnextId : 1818319053536 \n",
      "\n",
      "1 Node : 2\n",
      "\tcurId : 1818319053536 \tprevId : 1818319043360 \tnextId : 1818319055984 \n",
      "\n",
      "2 Node : 14\n",
      "\tcurId : 1818319055984 \tprevId : 1818319053536 \tnextId : 1818319042208 \n",
      "\n",
      "3 Node : 1\n",
      "\tcurId : 1818319042208 \tprevId : 1818319055984 \tnextId : 1818319053872 \n",
      "\n",
      "4 Node : 8\n",
      "\tcurId : 1818319053872 \tprevId : 1818319042208 \tnextId : 1818319055216 \n",
      "\n",
      "5 Node : 9\n",
      "\tcurId : 1818319055216 \tprevId : 1818319053872 \tnextId : 1818319040768 \n",
      "\n",
      "6 Node : None\n",
      "\tcurId : 1818319040768 \tprevId : 1818319055216 \tnextId : 140713099640024 \n",
      "\n"
     ]
    }
   ],
   "source": [
    "myList.insert(2, 14)\n",
    "myList.printMeta()"
   ]
  },
  {
   "cell_type": "code",
   "execution_count": 39,
   "id": "f3ec216a-b305-4a65-93ce-7cf464310f1c",
   "metadata": {},
   "outputs": [
    {
     "name": "stdout",
     "output_type": "stream",
     "text": [
      "Header : 1818319043360 \n",
      "Trailer : 1818319040768 \n",
      "Size : 6\n",
      "0 Node : None\n",
      "\tcurId : 1818319043360 \tprevId : 140713099640024 \tnextId : 1818319053536 \n",
      "\n",
      "1 Node : 2\n",
      "\tcurId : 1818319053536 \tprevId : 1818319043360 \tnextId : 1818319055984 \n",
      "\n",
      "2 Node : 14\n",
      "\tcurId : 1818319055984 \tprevId : 1818319053536 \tnextId : 1818319042208 \n",
      "\n",
      "3 Node : 1\n",
      "\tcurId : 1818319042208 \tprevId : 1818319055984 \tnextId : 1818319053872 \n",
      "\n",
      "4 Node : 8\n",
      "\tcurId : 1818319053872 \tprevId : 1818319042208 \tnextId : 1818319055216 \n",
      "\n",
      "5 Node : 9\n",
      "\tcurId : 1818319055216 \tprevId : 1818319053872 \tnextId : 1818298002784 \n",
      "\n",
      "6 Node : 114\n",
      "\tcurId : 1818298002784 \tprevId : 1818319055216 \tnextId : 1818319040768 \n",
      "\n",
      "7 Node : None\n",
      "\tcurId : 1818319040768 \tprevId : 1818298002784 \tnextId : 140713099640024 \n",
      "\n"
     ]
    }
   ],
   "source": [
    "myList.insert(9, 114)\n",
    "myList.printMeta()"
   ]
  },
  {
   "cell_type": "code",
   "execution_count": 40,
   "id": "f9de4c9d-89f6-4d67-90b2-b9caa3e427c6",
   "metadata": {},
   "outputs": [
    {
     "name": "stdout",
     "output_type": "stream",
     "text": [
      "Header : 1818319043360 \n",
      "Trailer : 1818319040768 \n",
      "Size : 5\n",
      "0 Node : None\n",
      "\tcurId : 1818319043360 \tprevId : 140713099640024 \tnextId : 1818319055984 \n",
      "\n",
      "1 Node : 14\n",
      "\tcurId : 1818319055984 \tprevId : 1818319043360 \tnextId : 1818319042208 \n",
      "\n",
      "2 Node : 1\n",
      "\tcurId : 1818319042208 \tprevId : 1818319055984 \tnextId : 1818319053872 \n",
      "\n",
      "3 Node : 8\n",
      "\tcurId : 1818319053872 \tprevId : 1818319042208 \tnextId : 1818319055216 \n",
      "\n",
      "4 Node : 9\n",
      "\tcurId : 1818319055216 \tprevId : 1818319053872 \tnextId : 1818298002784 \n",
      "\n",
      "5 Node : 114\n",
      "\tcurId : 1818298002784 \tprevId : 1818319055216 \tnextId : 1818319040768 \n",
      "\n",
      "6 Node : None\n",
      "\tcurId : 1818319040768 \tprevId : 1818298002784 \tnextId : 140713099640024 \n",
      "\n"
     ]
    }
   ],
   "source": [
    "myList.pop_front()\n",
    "myList.printMeta()"
   ]
  },
  {
   "cell_type": "code",
   "execution_count": 41,
   "id": "fe11e839-5d3f-4941-acd7-3a8bc068e3f2",
   "metadata": {},
   "outputs": [
    {
     "name": "stdout",
     "output_type": "stream",
     "text": [
      "Header : 1818319043360 \n",
      "Trailer : 1818319040768 \n",
      "Size : 4\n",
      "0 Node : None\n",
      "\tcurId : 1818319043360 \tprevId : 140713099640024 \tnextId : 1818319055984 \n",
      "\n",
      "1 Node : 14\n",
      "\tcurId : 1818319055984 \tprevId : 1818319043360 \tnextId : 1818319042208 \n",
      "\n",
      "2 Node : 1\n",
      "\tcurId : 1818319042208 \tprevId : 1818319055984 \tnextId : 1818319053872 \n",
      "\n",
      "3 Node : 8\n",
      "\tcurId : 1818319053872 \tprevId : 1818319042208 \tnextId : 1818319055216 \n",
      "\n",
      "4 Node : 9\n",
      "\tcurId : 1818319055216 \tprevId : 1818319053872 \tnextId : 1818319040768 \n",
      "\n",
      "5 Node : None\n",
      "\tcurId : 1818319040768 \tprevId : 1818319055216 \tnextId : 140713099640024 \n",
      "\n"
     ]
    }
   ],
   "source": [
    "myList.pop_back()\n",
    "myList.printMeta()"
   ]
  },
  {
   "cell_type": "code",
   "execution_count": 42,
   "id": "1596a40c-1760-4d9d-83f5-e05e10bcaf3e",
   "metadata": {},
   "outputs": [
    {
     "name": "stdout",
     "output_type": "stream",
     "text": [
      "Header : 1818319043360 \n",
      "Trailer : 1818319040768 \n",
      "Size : 3\n",
      "0 Node : None\n",
      "\tcurId : 1818319043360 \tprevId : 140713099640024 \tnextId : 1818319055984 \n",
      "\n",
      "1 Node : 14\n",
      "\tcurId : 1818319055984 \tprevId : 1818319043360 \tnextId : 1818319053872 \n",
      "\n",
      "2 Node : 8\n",
      "\tcurId : 1818319053872 \tprevId : 1818319055984 \tnextId : 1818319055216 \n",
      "\n",
      "3 Node : 9\n",
      "\tcurId : 1818319055216 \tprevId : 1818319053872 \tnextId : 1818319040768 \n",
      "\n",
      "4 Node : None\n",
      "\tcurId : 1818319040768 \tprevId : 1818319055216 \tnextId : 140713099640024 \n",
      "\n"
     ]
    }
   ],
   "source": [
    "myList.remove(1)\n",
    "myList.printMeta()"
   ]
  },
  {
   "cell_type": "code",
   "execution_count": 43,
   "id": "abc5d36b-eca1-449f-a3e8-90ee6aa501eb",
   "metadata": {},
   "outputs": [
    {
     "name": "stdout",
     "output_type": "stream",
     "text": [
      "Header : 1818319043360 \n",
      "Trailer : 1818319040768 \n",
      "Size : 2\n",
      "0 Node : None\n",
      "\tcurId : 1818319043360 \tprevId : 140713099640024 \tnextId : 1818319053872 \n",
      "\n",
      "1 Node : 8\n",
      "\tcurId : 1818319053872 \tprevId : 1818319043360 \tnextId : 1818319055216 \n",
      "\n",
      "2 Node : 9\n",
      "\tcurId : 1818319055216 \tprevId : 1818319053872 \tnextId : 1818319040768 \n",
      "\n",
      "3 Node : None\n",
      "\tcurId : 1818319040768 \tprevId : 1818319055216 \tnextId : 140713099640024 \n",
      "\n"
     ]
    }
   ],
   "source": [
    "myList.remove(14)\n",
    "myList.printMeta()"
   ]
  },
  {
   "cell_type": "code",
   "execution_count": 44,
   "id": "ea962a9b-8652-436c-a8f3-5c367a21cbe0",
   "metadata": {},
   "outputs": [
    {
     "name": "stdout",
     "output_type": "stream",
     "text": [
      "Header : 1818319043360 \n",
      "Trailer : 1818319040768 \n",
      "Size : 1\n",
      "0 Node : None\n",
      "\tcurId : 1818319043360 \tprevId : 140713099640024 \tnextId : 1818319053872 \n",
      "\n",
      "1 Node : 8\n",
      "\tcurId : 1818319053872 \tprevId : 1818319043360 \tnextId : 1818319040768 \n",
      "\n",
      "2 Node : None\n",
      "\tcurId : 1818319040768 \tprevId : 1818319053872 \tnextId : 140713099640024 \n",
      "\n"
     ]
    }
   ],
   "source": [
    "myList.remove(9)\n",
    "myList.printMeta()"
   ]
  },
  {
   "cell_type": "code",
   "execution_count": 45,
   "id": "6d2968d6-85ba-492f-8f5f-f7dd8f9e55d6",
   "metadata": {},
   "outputs": [
    {
     "name": "stdout",
     "output_type": "stream",
     "text": [
      "Header : 1818319043360 \n",
      "Trailer : 1818319040768 \n",
      "Size : 0\n",
      "0 Node : None\n",
      "\tcurId : 1818319043360 \tprevId : 140713099640024 \tnextId : 1818319040768 \n",
      "\n",
      "1 Node : None\n",
      "\tcurId : 1818319040768 \tprevId : 1818319043360 \tnextId : 140713099640024 \n",
      "\n"
     ]
    }
   ],
   "source": [
    "myList.remove(8)\n",
    "myList.printMeta()"
   ]
  },
  {
   "cell_type": "code",
   "execution_count": 46,
   "id": "0c8f6b43-ef42-4c8d-b8be-8135a572c373",
   "metadata": {},
   "outputs": [
    {
     "name": "stdout",
     "output_type": "stream",
     "text": [
      "Header : 1818319043360 \n",
      "Trailer : 1818319040768 \n",
      "Size : 1\n",
      "0 Node : None\n",
      "\tcurId : 1818319043360 \tprevId : 140713099640024 \tnextId : 1818296994640 \n",
      "\n",
      "1 Node : 1\n",
      "\tcurId : 1818296994640 \tprevId : 1818319043360 \tnextId : 1818319040768 \n",
      "\n",
      "2 Node : None\n",
      "\tcurId : 1818319040768 \tprevId : 1818296994640 \tnextId : 140713099640024 \n",
      "\n"
     ]
    }
   ],
   "source": [
    "myList.push_back(1)\n",
    "myList.printMeta()"
   ]
  },
  {
   "cell_type": "code",
   "execution_count": 47,
   "id": "9ac6abb9-c442-4c79-9e49-34f375ca3606",
   "metadata": {},
   "outputs": [
    {
     "name": "stdout",
     "output_type": "stream",
     "text": [
      "Header : 1818319043360 \n",
      "Trailer : 1818319040768 \n",
      "Size : 0\n",
      "0 Node : None\n",
      "\tcurId : 1818319043360 \tprevId : 140713099640024 \tnextId : 1818319040768 \n",
      "\n",
      "1 Node : None\n",
      "\tcurId : 1818319040768 \tprevId : 1818319043360 \tnextId : 140713099640024 \n",
      "\n"
     ]
    }
   ],
   "source": [
    "myList.pop_back()\n",
    "myList.printMeta()"
   ]
  },
  {
   "cell_type": "code",
   "execution_count": 48,
   "id": "ae32f35d-bba1-444c-aeb3-1bced38db925",
   "metadata": {},
   "outputs": [
    {
     "name": "stdout",
     "output_type": "stream",
     "text": [
      "Header : 1818319043360 \n",
      "Trailer : 1818319040768 \n",
      "Size : 1\n",
      "0 Node : None\n",
      "\tcurId : 1818319043360 \tprevId : 140713099640024 \tnextId : 1818319006736 \n",
      "\n",
      "1 Node : 1\n",
      "\tcurId : 1818319006736 \tprevId : 1818319043360 \tnextId : 1818319040768 \n",
      "\n",
      "2 Node : None\n",
      "\tcurId : 1818319040768 \tprevId : 1818319006736 \tnextId : 140713099640024 \n",
      "\n"
     ]
    }
   ],
   "source": [
    "myList.push_front(1)\n",
    "myList.printMeta()"
   ]
  },
  {
   "cell_type": "code",
   "execution_count": 49,
   "id": "41a33570-3f32-4428-a97c-ba69061362a9",
   "metadata": {},
   "outputs": [
    {
     "name": "stdout",
     "output_type": "stream",
     "text": [
      "Header : 1818319043360 \n",
      "Trailer : 1818319040768 \n",
      "Size : 0\n",
      "0 Node : None\n",
      "\tcurId : 1818319043360 \tprevId : 140713099640024 \tnextId : 1818319040768 \n",
      "\n",
      "1 Node : None\n",
      "\tcurId : 1818319040768 \tprevId : 1818319043360 \tnextId : 140713099640024 \n",
      "\n"
     ]
    }
   ],
   "source": [
    "myList.pop_front()\n",
    "myList.printMeta()"
   ]
  },
  {
   "cell_type": "code",
   "execution_count": 50,
   "id": "a164a62b-e24c-4598-8498-068120ec510f",
   "metadata": {},
   "outputs": [
    {
     "name": "stdout",
     "output_type": "stream",
     "text": [
      "Header : 1818319043360 \n",
      "Trailer : 1818319040768 \n",
      "Size : 1\n",
      "0 Node : None\n",
      "\tcurId : 1818319043360 \tprevId : 140713099640024 \tnextId : 1818319056800 \n",
      "\n",
      "1 Node : 100\n",
      "\tcurId : 1818319056800 \tprevId : 1818319043360 \tnextId : 1818319040768 \n",
      "\n",
      "2 Node : None\n",
      "\tcurId : 1818319040768 \tprevId : 1818319056800 \tnextId : 140713099640024 \n",
      "\n"
     ]
    }
   ],
   "source": [
    "myList.push_back(100)\n",
    "myList.printMeta()"
   ]
  }
 ],
 "metadata": {
  "kernelspec": {
   "display_name": "Python 3 (ipykernel)",
   "language": "python",
   "name": "python3"
  },
  "language_info": {
   "codemirror_mode": {
    "name": "ipython",
    "version": 3
   },
   "file_extension": ".py",
   "mimetype": "text/x-python",
   "name": "python",
   "nbconvert_exporter": "python",
   "pygments_lexer": "ipython3",
   "version": "3.9.15"
  }
 },
 "nbformat": 4,
 "nbformat_minor": 5
}
