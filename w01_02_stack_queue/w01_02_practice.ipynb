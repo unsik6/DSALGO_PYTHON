{
 "cells": [
  {
   "cell_type": "markdown",
   "id": "bb509777-5b04-4191-93c1-8eb9acec2f3a",
   "metadata": {},
   "source": [
    "# Week 2: Linear Data Structure 2: Stack - BOJ 10828\n",
    "- 이 문제는 자료구조 자체를 구현하는 문제이므로, 실제로 매우 간단하게 구현 가능함을 보이기 위해 PS 식 코드를 구성하였습니다.\n",
    "- 자료구조를 직접 구현하는 실습은 꼭 필요합니다."
   ]
  },
  {
   "cell_type": "code",
   "execution_count": 1,
   "id": "45269e9b-7e3b-43ad-b66b-3c32eb6a6036",
   "metadata": {},
   "outputs": [
    {
     "name": "stdin",
     "output_type": "stream",
     "text": [
      " 14\n",
      " push 1\n",
      " push 2\n",
      " top\n"
     ]
    },
    {
     "name": "stdout",
     "output_type": "stream",
     "text": [
      "2\n"
     ]
    },
    {
     "name": "stdin",
     "output_type": "stream",
     "text": [
      " size\n"
     ]
    },
    {
     "name": "stdout",
     "output_type": "stream",
     "text": [
      "2\n"
     ]
    },
    {
     "name": "stdin",
     "output_type": "stream",
     "text": [
      " empty\n"
     ]
    },
    {
     "name": "stdout",
     "output_type": "stream",
     "text": [
      "0\n"
     ]
    },
    {
     "name": "stdin",
     "output_type": "stream",
     "text": [
      " pop\n"
     ]
    },
    {
     "name": "stdout",
     "output_type": "stream",
     "text": [
      "2\n"
     ]
    },
    {
     "name": "stdin",
     "output_type": "stream",
     "text": [
      " pop\n"
     ]
    },
    {
     "name": "stdout",
     "output_type": "stream",
     "text": [
      "1\n"
     ]
    },
    {
     "name": "stdin",
     "output_type": "stream",
     "text": [
      " pop\n"
     ]
    },
    {
     "name": "stdout",
     "output_type": "stream",
     "text": [
      "-1\n"
     ]
    },
    {
     "name": "stdin",
     "output_type": "stream",
     "text": [
      " size\n"
     ]
    },
    {
     "name": "stdout",
     "output_type": "stream",
     "text": [
      "0\n"
     ]
    },
    {
     "name": "stdin",
     "output_type": "stream",
     "text": [
      " empty\n"
     ]
    },
    {
     "name": "stdout",
     "output_type": "stream",
     "text": [
      "1\n"
     ]
    },
    {
     "name": "stdin",
     "output_type": "stream",
     "text": [
      " pop\n"
     ]
    },
    {
     "name": "stdout",
     "output_type": "stream",
     "text": [
      "-1\n"
     ]
    },
    {
     "name": "stdin",
     "output_type": "stream",
     "text": [
      " push 3\n",
      " empty\n"
     ]
    },
    {
     "name": "stdout",
     "output_type": "stream",
     "text": [
      "0\n"
     ]
    },
    {
     "name": "stdin",
     "output_type": "stream",
     "text": [
      " top\n"
     ]
    },
    {
     "name": "stdout",
     "output_type": "stream",
     "text": [
      "3\n"
     ]
    }
   ],
   "source": [
    "import sys\n",
    "\n",
    "# BOJ에서는 시간초과 발생하므로\n",
    "# 제출 시에는 input()을 sys.stdin.readline()으로 바꿔주세요.\n",
    "\n",
    "N = int(input())\n",
    "\n",
    "stk = []\n",
    "\n",
    "for i in range(N):\n",
    "    cmd = input().split()\n",
    "\n",
    "    if cmd[0] == \"push\":\n",
    "        stk.append(cmd[1])\n",
    "    elif cmd[0] == \"pop\":\n",
    "        if len(stk) == 0:\n",
    "            print(-1)\n",
    "        else:\n",
    "            print(stk[-1])\n",
    "            stk = stk[:-1]\n",
    "    elif cmd[0] == \"size\":\n",
    "        print(len(stk))\n",
    "    elif cmd[0] == 'empty':\n",
    "        print( 1 if not len(stk) else 0)\n",
    "    else: # top\n",
    "        if len(stk) == 0:\n",
    "            print(-1)\n",
    "        else:\n",
    "            print(stk[-1])"
   ]
  },
  {
   "cell_type": "markdown",
   "id": "17b7af48-6818-4f3b-994b-6872aad65960",
   "metadata": {},
   "source": [
    "# Week 2: Linear Data Structure 2: Stack - BOJ 1935"
   ]
  },
  {
   "cell_type": "code",
   "execution_count": 2,
   "id": "6df11ab2-a21f-4e5c-8c5c-f8d257c87a8d",
   "metadata": {},
   "outputs": [
    {
     "name": "stdin",
     "output_type": "stream",
     "text": [
      " 5\n",
      " ABC*+DE/-\n",
      " 1\n",
      " 2\n",
      " 3\n",
      " 4\n",
      " 5\n"
     ]
    },
    {
     "name": "stdout",
     "output_type": "stream",
     "text": [
      "6.20\n"
     ]
    }
   ],
   "source": [
    "N = int(input())\n",
    "formula = input()\n",
    "variables = [int(input()) for i in range(N)]\n",
    "stk = []\n",
    "\n",
    "for s in formula:\n",
    "    if s.isalpha():\n",
    "        stk.append(variables[ord(s) - ord('A')])\n",
    "    else:\n",
    "        b = stk.pop()\n",
    "        a = stk.pop()\n",
    "        if s == '+': stk.append(a + b)\n",
    "        elif s == '-': stk.append(a - b)\n",
    "        elif s == '*': stk.append(a * b)\n",
    "        else: stk.append(a / b)\n",
    "\n",
    "print(f'{stk[0]:.2f}')"
   ]
  },
  {
   "cell_type": "markdown",
   "id": "73298af1-9d95-45fc-8d35-a124e4484e1f",
   "metadata": {},
   "source": [
    "# Week 2: Linear Data Structure 2: Stack - BOJ 1918"
   ]
  },
  {
   "cell_type": "code",
   "execution_count": 3,
   "id": "3ec8e1d4-f99f-4a6b-9193-750f26983821",
   "metadata": {},
   "outputs": [
    {
     "name": "stdin",
     "output_type": "stream",
     "text": [
      " A+B*C-D/E\n"
     ]
    },
    {
     "name": "stdout",
     "output_type": "stream",
     "text": [
      "ABC*+DE/-\n"
     ]
    }
   ],
   "source": [
    "import sys\n",
    "\n",
    "formula = input()\n",
    "stk = []\n",
    "res=''\n",
    "\n",
    "for s in formula:\n",
    "    if s.isalpha():\n",
    "        res += s\n",
    "    else:\n",
    "        if s == '(':\n",
    "            stk.append(s)\n",
    "        elif s == '*' or s == '/':\n",
    "            while stk and (stk[-1] == '*' or stk[-1] == '/'):\n",
    "                res += stk.pop()\n",
    "            stk.append(s)\n",
    "        elif s == '+' or s == '-':\n",
    "            while stk and stk[-1] != '(':\n",
    "                res += stk.pop()\n",
    "            stk.append(s)\n",
    "        else: # ')'\n",
    "            while stk and stk[-1] != '(':\n",
    "                res += stk.pop()\n",
    "            stk.pop()\n",
    "\n",
    "while stk:\n",
    "    res += stk.pop()\n",
    "print(res)"
   ]
  },
  {
   "cell_type": "markdown",
   "id": "f2f69c59-094e-4dff-949d-70eac78c42e7",
   "metadata": {},
   "source": [
    "# Week 2: Linear Data Structure 2: Queue(Deque) - BOJ 18258\n",
    "- 이 문제는 자료구조 자체를 구현하는 문제이므로, 실제로 매우 간단하게 구현 가능함을 보이기 위해 PS 식 코드를 구성하였습니다.\n",
    "- 자료구조를 직접 구현하는 실습은 꼭 필요합니다.\n",
    "- 이 문제는 큐를 환형배열이나 리스트를 통해 구현할 경우에는 상관없지만 파이썬의 list를 사용하게 되면 시간초과가 발생하게 됩니다.\n",
    "- 그러므로 문제풀이 자체는 collections.deque를 이용합니다."
   ]
  },
  {
   "cell_type": "code",
   "execution_count": 5,
   "id": "611fc426-b197-4b92-9d5c-2ce0680a4d27",
   "metadata": {},
   "outputs": [
    {
     "name": "stdin",
     "output_type": "stream",
     "text": [
      " 15\n",
      " push 1\n",
      " push 2\n",
      " front\n"
     ]
    },
    {
     "name": "stdout",
     "output_type": "stream",
     "text": [
      "1\n"
     ]
    },
    {
     "name": "stdin",
     "output_type": "stream",
     "text": [
      " back\n"
     ]
    },
    {
     "name": "stdout",
     "output_type": "stream",
     "text": [
      "2\n"
     ]
    },
    {
     "name": "stdin",
     "output_type": "stream",
     "text": [
      " size\n"
     ]
    },
    {
     "name": "stdout",
     "output_type": "stream",
     "text": [
      "2\n"
     ]
    },
    {
     "name": "stdin",
     "output_type": "stream",
     "text": [
      " empty\n"
     ]
    },
    {
     "name": "stdout",
     "output_type": "stream",
     "text": [
      "0\n"
     ]
    },
    {
     "name": "stdin",
     "output_type": "stream",
     "text": [
      " pop\n"
     ]
    },
    {
     "name": "stdout",
     "output_type": "stream",
     "text": [
      "1\n"
     ]
    },
    {
     "name": "stdin",
     "output_type": "stream",
     "text": [
      " pop\n"
     ]
    },
    {
     "name": "stdout",
     "output_type": "stream",
     "text": [
      "2\n"
     ]
    },
    {
     "name": "stdin",
     "output_type": "stream",
     "text": [
      " pop\n"
     ]
    },
    {
     "name": "stdout",
     "output_type": "stream",
     "text": [
      "-1\n"
     ]
    },
    {
     "name": "stdin",
     "output_type": "stream",
     "text": [
      " size\n"
     ]
    },
    {
     "name": "stdout",
     "output_type": "stream",
     "text": [
      "0\n"
     ]
    },
    {
     "name": "stdin",
     "output_type": "stream",
     "text": [
      " empty\n"
     ]
    },
    {
     "name": "stdout",
     "output_type": "stream",
     "text": [
      "1\n"
     ]
    },
    {
     "name": "stdin",
     "output_type": "stream",
     "text": [
      " pop\n"
     ]
    },
    {
     "name": "stdout",
     "output_type": "stream",
     "text": [
      "-1\n"
     ]
    },
    {
     "name": "stdin",
     "output_type": "stream",
     "text": [
      " push 3\n",
      " empty\n"
     ]
    },
    {
     "name": "stdout",
     "output_type": "stream",
     "text": [
      "0\n"
     ]
    },
    {
     "name": "stdin",
     "output_type": "stream",
     "text": [
      " front\n"
     ]
    },
    {
     "name": "stdout",
     "output_type": "stream",
     "text": [
      "3\n"
     ]
    }
   ],
   "source": [
    "import sys\n",
    "import collections\n",
    "\n",
    "# BOJ에서는 시간초과 발생하므로\n",
    "# 제출 시에는 input()을 sys.stdin.readline()으로 바꿔주세요.\n",
    "\n",
    "N = int(input())\n",
    "q = collections.deque([])\n",
    "\n",
    "for t in range(N):\n",
    "    cmd = input().split()\n",
    "    \n",
    "    if cmd[0] == \"push\":\n",
    "        q.append(cmd[1])\n",
    "    elif cmd[0] == \"pop\":\n",
    "        if not q: print(-1)\n",
    "        else:\n",
    "            print(q.popleft())\n",
    "    elif cmd[0] == \"size\":\n",
    "        print(len(q))\n",
    "    elif cmd[0] == \"empty\":\n",
    "        if not q: print(1)\n",
    "        else: print(0)\n",
    "    elif cmd[0] == \"front\":\n",
    "        if not q: print(-1)\n",
    "        else: print(q[0])\n",
    "    elif cmd[0] == \"back\":\n",
    "        if not q: print(-1)\n",
    "        else:\n",
    "            print(q[len(q)-1])"
   ]
  },
  {
   "cell_type": "markdown",
   "id": "f70534d1-f858-428b-be7d-d9844573b5d1",
   "metadata": {},
   "source": [
    "# Week 2: Linear Data Structure 2: Deque의 활용에 대한 문제 - BOJ 1021"
   ]
  },
  {
   "cell_type": "code",
   "execution_count": 6,
   "id": "3536379b-1b32-4ce1-a1d0-4e629a2caa22",
   "metadata": {},
   "outputs": [
    {
     "name": "stdin",
     "output_type": "stream",
     "text": [
      " 32 6\n",
      " 27 16 30 11 6 23\n"
     ]
    },
    {
     "name": "stdout",
     "output_type": "stream",
     "text": [
      "59\n"
     ]
    }
   ],
   "source": [
    "# 뽑아내고 싶은 것을 첫번째 원소에 두면 되므로,\n",
    "# 왼쪽으로 shift하는 것과 오른쪽으로 shift해서 마지막으로 간 다음 한번더 shift해서 앞으로 오는 것 중에 더 빠른 것을 선택\n",
    "# pop한 다음에는 그 다음에 뽑아낼 원소들의 위치를 조정한다.\n",
    "\n",
    "N, M = map(int, input().split())\n",
    "pos = list(map(int, input().split()))\n",
    "ret = 0\n",
    "\n",
    "for i in range(M):\n",
    "    ret += pos[i] - 1 if N - pos[i] + 1 > pos[i] - 1 else N - pos[i] + 1\n",
    "    \n",
    "    for j in range(i+1, M):\n",
    "        pos[j] = pos[j] - pos[i] if pos[i] <= pos[j] else pos[j] + N - pos[i]\n",
    "    \n",
    "    N -= 1\n",
    "\n",
    "print(ret)"
   ]
  }
 ],
 "metadata": {
  "kernelspec": {
   "display_name": "Python 3 (ipykernel)",
   "language": "python",
   "name": "python3"
  },
  "language_info": {
   "codemirror_mode": {
    "name": "ipython",
    "version": 3
   },
   "file_extension": ".py",
   "mimetype": "text/x-python",
   "name": "python",
   "nbconvert_exporter": "python",
   "pygments_lexer": "ipython3",
   "version": "3.9.15"
  }
 },
 "nbformat": 4,
 "nbformat_minor": 5
}
