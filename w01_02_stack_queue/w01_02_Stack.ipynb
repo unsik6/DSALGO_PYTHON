{
 "cells": [
  {
   "cell_type": "markdown",
   "id": "4632a01d-9b69-4319-9410-c388aa963024",
   "metadata": {},
   "source": [
    "# Week 2: Linear Data Structure 2: Stack"
   ]
  },
  {
   "cell_type": "code",
   "execution_count": 1,
   "id": "3352aa65-6245-40d5-beea-6daf4ac93d87",
   "metadata": {},
   "outputs": [],
   "source": [
    "class Stack:\n",
    "    def __init__(self, cap : int = 2):\n",
    "        self.cap = cap\n",
    "        self.arr = [None] * cap\n",
    "        self.topIdx = 0    # you can initiate top as -1\n",
    "        # The size of a stack equals the top idx.\n",
    "  \n",
    "    def isEmpty(self): return self.topIdx == 0\n",
    "    def isFull(self): return self.topIdx == self.cap\n",
    "    def getSize(self): return self.topIdx\n",
    "  \n",
    "\n",
    "    def push(self, elem):\n",
    "        if self.isFull():\n",
    "            print('Full')  \n",
    "            return\n",
    "        self.arr[self.topIdx] = elem\n",
    "        self.topIdx += 1\n",
    "    \n",
    "    \n",
    "    def top(self):\n",
    "        if self.isEmpty():\n",
    "            print('Empty')\n",
    "            return\n",
    "        topIdx = self.topIdx - 1\n",
    "        return self.arr[topIdx]\n",
    "    \n",
    "    def pop(self):\n",
    "        if self.isEmpty():\n",
    "            print('Empty')\n",
    "            return\n",
    "        self.topIdx -= 1"
   ]
  },
  {
   "cell_type": "code",
   "execution_count": 2,
   "id": "bb89e2e5-dd65-4e37-b0c7-1310e53363a7",
   "metadata": {},
   "outputs": [],
   "source": [
    "stk = Stack()"
   ]
  },
  {
   "cell_type": "code",
   "execution_count": 3,
   "id": "3b63ed8c-82ad-48b1-875a-39a6b2bfb2fc",
   "metadata": {},
   "outputs": [
    {
     "data": {
      "text/plain": [
       "True"
      ]
     },
     "execution_count": 3,
     "metadata": {},
     "output_type": "execute_result"
    }
   ],
   "source": [
    "stk.isEmpty()"
   ]
  },
  {
   "cell_type": "code",
   "execution_count": 4,
   "id": "52d9a13e-b81e-4ad0-9478-496428bf4e0e",
   "metadata": {},
   "outputs": [
    {
     "data": {
      "text/plain": [
       "False"
      ]
     },
     "execution_count": 4,
     "metadata": {},
     "output_type": "execute_result"
    }
   ],
   "source": [
    "stk.isFull()"
   ]
  },
  {
   "cell_type": "code",
   "execution_count": 5,
   "id": "2e390ce3-e5a8-4ca8-acef-98d9bb30e4d4",
   "metadata": {},
   "outputs": [
    {
     "name": "stdout",
     "output_type": "stream",
     "text": [
      "Empty\n"
     ]
    }
   ],
   "source": [
    "stk.pop()"
   ]
  },
  {
   "cell_type": "code",
   "execution_count": 6,
   "id": "6503fdbd-a988-4db6-9e7e-f2e80d18e0f1",
   "metadata": {},
   "outputs": [
    {
     "name": "stdout",
     "output_type": "stream",
     "text": [
      "Empty\n"
     ]
    }
   ],
   "source": [
    "stk.top()"
   ]
  },
  {
   "cell_type": "code",
   "execution_count": 7,
   "id": "711e6f5c-5bc4-441b-8b53-8f255b4d9f34",
   "metadata": {},
   "outputs": [],
   "source": [
    "stk.push(1)"
   ]
  },
  {
   "cell_type": "code",
   "execution_count": 8,
   "id": "88950ee7-4c9e-4fd0-8ba8-6f1a102f346a",
   "metadata": {},
   "outputs": [
    {
     "data": {
      "text/plain": [
       "1"
      ]
     },
     "execution_count": 8,
     "metadata": {},
     "output_type": "execute_result"
    }
   ],
   "source": [
    "stk.top()"
   ]
  },
  {
   "cell_type": "code",
   "execution_count": 9,
   "id": "e189edc4-4bf8-4d82-89be-faa0172833d3",
   "metadata": {},
   "outputs": [
    {
     "data": {
      "text/plain": [
       "1"
      ]
     },
     "execution_count": 9,
     "metadata": {},
     "output_type": "execute_result"
    }
   ],
   "source": [
    "stk.getSize()"
   ]
  },
  {
   "cell_type": "code",
   "execution_count": 10,
   "id": "d490b7a4-b8de-44e1-b546-02ab8b7ef054",
   "metadata": {},
   "outputs": [
    {
     "name": "stdout",
     "output_type": "stream",
     "text": [
      "Full\n"
     ]
    }
   ],
   "source": [
    "stk.push(67)\n",
    "stk.push(4)"
   ]
  },
  {
   "cell_type": "code",
   "execution_count": 11,
   "id": "3513fb14-c7db-4a13-8899-f1bb0235fe21",
   "metadata": {},
   "outputs": [
    {
     "data": {
      "text/plain": [
       "2"
      ]
     },
     "execution_count": 11,
     "metadata": {},
     "output_type": "execute_result"
    }
   ],
   "source": [
    "stk.getSize()"
   ]
  },
  {
   "cell_type": "code",
   "execution_count": 12,
   "id": "e5828b82-4595-4251-987a-775efd918800",
   "metadata": {},
   "outputs": [
    {
     "data": {
      "text/plain": [
       "True"
      ]
     },
     "execution_count": 12,
     "metadata": {},
     "output_type": "execute_result"
    }
   ],
   "source": [
    "stk.isFull()"
   ]
  },
  {
   "cell_type": "code",
   "execution_count": 13,
   "id": "f41b2477-186b-4691-9419-5a1dd205fbcc",
   "metadata": {},
   "outputs": [
    {
     "data": {
      "text/plain": [
       "67"
      ]
     },
     "execution_count": 13,
     "metadata": {},
     "output_type": "execute_result"
    }
   ],
   "source": [
    "stk.top()"
   ]
  },
  {
   "cell_type": "code",
   "execution_count": 14,
   "id": "f8c28424-88f7-426f-9e0c-4ecf9c75580b",
   "metadata": {},
   "outputs": [],
   "source": [
    "stk.pop()"
   ]
  },
  {
   "cell_type": "code",
   "execution_count": 15,
   "id": "55b9fe50-dc20-413e-af0f-7d7adc49c05f",
   "metadata": {},
   "outputs": [
    {
     "data": {
      "text/plain": [
       "1"
      ]
     },
     "execution_count": 15,
     "metadata": {},
     "output_type": "execute_result"
    }
   ],
   "source": [
    "stk.top()"
   ]
  },
  {
   "cell_type": "code",
   "execution_count": 16,
   "id": "3556e214-b33f-4257-bbf4-5dddb31a2899",
   "metadata": {},
   "outputs": [
    {
     "data": {
      "text/plain": [
       "1"
      ]
     },
     "execution_count": 16,
     "metadata": {},
     "output_type": "execute_result"
    }
   ],
   "source": [
    "stk.getSize()"
   ]
  },
  {
   "cell_type": "code",
   "execution_count": 17,
   "id": "f8786a0e-6c51-4050-9293-f4a8238ac1d9",
   "metadata": {},
   "outputs": [],
   "source": [
    "stk.pop()"
   ]
  },
  {
   "cell_type": "code",
   "execution_count": 18,
   "id": "59a2165d-c50b-4626-982d-56c1c1de9fb6",
   "metadata": {},
   "outputs": [
    {
     "data": {
      "text/plain": [
       "True"
      ]
     },
     "execution_count": 18,
     "metadata": {},
     "output_type": "execute_result"
    }
   ],
   "source": [
    "stk.isEmpty()"
   ]
  }
 ],
 "metadata": {
  "kernelspec": {
   "display_name": "Python 3 (ipykernel)",
   "language": "python",
   "name": "python3"
  },
  "language_info": {
   "codemirror_mode": {
    "name": "ipython",
    "version": 3
   },
   "file_extension": ".py",
   "mimetype": "text/x-python",
   "name": "python",
   "nbconvert_exporter": "python",
   "pygments_lexer": "ipython3",
   "version": "3.9.15"
  }
 },
 "nbformat": 4,
 "nbformat_minor": 5
}
