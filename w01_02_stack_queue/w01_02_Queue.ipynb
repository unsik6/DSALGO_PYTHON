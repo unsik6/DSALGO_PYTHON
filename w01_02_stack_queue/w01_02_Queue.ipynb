{
 "cells": [
  {
   "cell_type": "markdown",
   "id": "8489140d-5dd5-49db-8a9f-4374e0728136",
   "metadata": {},
   "source": [
    "# Week 2: Linear Data Structure 2: Queue"
   ]
  },
  {
   "cell_type": "code",
   "execution_count": 1,
   "id": "d41f71f3-6978-43ce-bf77-aec55c16ab85",
   "metadata": {},
   "outputs": [],
   "source": [
    "class Queue: # Circular Array-based\n",
    "    def __init__(self, cap : int = 2):\n",
    "        self.cap = cap\n",
    "        self.arr = [None] * cap\n",
    "        self.size = 0\n",
    "        self.fIdx = self.rIdx = 0\n",
    "    \n",
    "    def getSize(self):\n",
    "        return self.size\n",
    "    \n",
    "    def isEmpty(self):\n",
    "        if self.size == 0: return True\n",
    "        else: return False\n",
    "    \n",
    "    def getFront(self):\n",
    "        if self.isEmpty():\n",
    "            print(\"EMPTY ERROR\")\n",
    "        else: return self.arr[self.fIdx]\n",
    "    \n",
    "    def enqueue(self, _obj):\n",
    "        if self.size == self.cap:\n",
    "            print(\"FULL ERROR\")\n",
    "        else:\n",
    "            self.arr[self.rIdx] = _obj\n",
    "            self.rIdx = (self.rIdx + 1) % self.cap\n",
    "            self.size += 1\n",
    "    \n",
    "    def dequeue(self):\n",
    "        if self.isEmpty():\n",
    "            print(\"EMPTY ERROR\")\n",
    "        else:\n",
    "            self.fIdx = (self.fIdx + 1) % self.cap       \n",
    "            self.size -= 1\n",
    "            \n",
    "    def printAll(self):\n",
    "        for e in self.arr:\n",
    "            print(e)"
   ]
  },
  {
   "cell_type": "code",
   "execution_count": 2,
   "id": "2eaec8f9-85f3-4e1a-b5fb-46185faa10e0",
   "metadata": {},
   "outputs": [],
   "source": [
    "q = Queue(3)"
   ]
  },
  {
   "cell_type": "code",
   "execution_count": 3,
   "id": "890556f8-d468-4a19-bea7-840bfc82b40b",
   "metadata": {},
   "outputs": [
    {
     "data": {
      "text/plain": [
       "0"
      ]
     },
     "execution_count": 3,
     "metadata": {},
     "output_type": "execute_result"
    }
   ],
   "source": [
    "q.getSize()"
   ]
  },
  {
   "cell_type": "code",
   "execution_count": 4,
   "id": "7133019c-c096-4c2d-a199-b213875445e2",
   "metadata": {},
   "outputs": [],
   "source": [
    "q.enqueue(1)"
   ]
  },
  {
   "cell_type": "code",
   "execution_count": 5,
   "id": "26ce6c5c-f65e-4ee2-9088-5f0d97fc3a66",
   "metadata": {},
   "outputs": [],
   "source": [
    "q.enqueue(2)"
   ]
  },
  {
   "cell_type": "code",
   "execution_count": 6,
   "id": "d0f8ace8-bd4a-466c-b2eb-0adfb128976f",
   "metadata": {},
   "outputs": [
    {
     "name": "stdout",
     "output_type": "stream",
     "text": [
      "1\n"
     ]
    }
   ],
   "source": [
    "print(q.getFront())"
   ]
  },
  {
   "cell_type": "code",
   "execution_count": 7,
   "id": "2f3f54c3-16d4-4b0e-ae5f-523a8041ac12",
   "metadata": {},
   "outputs": [
    {
     "data": {
      "text/plain": [
       "2"
      ]
     },
     "execution_count": 7,
     "metadata": {},
     "output_type": "execute_result"
    }
   ],
   "source": [
    "q.getSize()"
   ]
  },
  {
   "cell_type": "code",
   "execution_count": 8,
   "id": "79342c40-ac69-4eb3-b29f-e89df8e9e390",
   "metadata": {},
   "outputs": [
    {
     "data": {
      "text/plain": [
       "False"
      ]
     },
     "execution_count": 8,
     "metadata": {},
     "output_type": "execute_result"
    }
   ],
   "source": [
    "q.isEmpty()"
   ]
  },
  {
   "cell_type": "code",
   "execution_count": 9,
   "id": "f46b9e47-d2fd-4328-9b44-512383b997cb",
   "metadata": {},
   "outputs": [],
   "source": [
    "q.dequeue()"
   ]
  },
  {
   "cell_type": "code",
   "execution_count": 10,
   "id": "3d464b89-ebce-4ed2-bb94-16bc4bd6dc26",
   "metadata": {},
   "outputs": [],
   "source": [
    "q.dequeue()"
   ]
  },
  {
   "cell_type": "code",
   "execution_count": 11,
   "id": "af9bbacf-aab0-430b-bd8a-ad6333b0e9c9",
   "metadata": {},
   "outputs": [
    {
     "name": "stdout",
     "output_type": "stream",
     "text": [
      "EMPTY ERROR\n"
     ]
    }
   ],
   "source": [
    "q.dequeue()"
   ]
  },
  {
   "cell_type": "code",
   "execution_count": 12,
   "id": "2e0db803-4a83-4c96-bff7-4dd146ad8218",
   "metadata": {},
   "outputs": [
    {
     "data": {
      "text/plain": [
       "0"
      ]
     },
     "execution_count": 12,
     "metadata": {},
     "output_type": "execute_result"
    }
   ],
   "source": [
    "q.getSize()"
   ]
  },
  {
   "cell_type": "code",
   "execution_count": 13,
   "id": "53547deb-751e-4edf-a0f7-564b9fc7483a",
   "metadata": {},
   "outputs": [
    {
     "data": {
      "text/plain": [
       "True"
      ]
     },
     "execution_count": 13,
     "metadata": {},
     "output_type": "execute_result"
    }
   ],
   "source": [
    "q.isEmpty()"
   ]
  },
  {
   "cell_type": "code",
   "execution_count": 14,
   "id": "1e8671f8-beca-4eaa-bfda-06bd47d197a7",
   "metadata": {},
   "outputs": [],
   "source": [
    "q.enqueue(3)"
   ]
  },
  {
   "cell_type": "code",
   "execution_count": 15,
   "id": "d1cda0fa-2004-4ad2-9d7e-5302c03db8f6",
   "metadata": {},
   "outputs": [],
   "source": [
    "q.enqueue(4)"
   ]
  },
  {
   "cell_type": "code",
   "execution_count": 16,
   "id": "1f96b77c-dd0a-4c98-a321-7a4e5ac3bebd",
   "metadata": {},
   "outputs": [],
   "source": [
    "q.enqueue(5)"
   ]
  },
  {
   "cell_type": "code",
   "execution_count": 17,
   "id": "d9c4df49-791d-4d93-bab9-6bb6858851f2",
   "metadata": {},
   "outputs": [
    {
     "name": "stdout",
     "output_type": "stream",
     "text": [
      "FULL ERROR\n"
     ]
    }
   ],
   "source": [
    "q.enqueue(6)"
   ]
  }
 ],
 "metadata": {
  "kernelspec": {
   "display_name": "Python 3 (ipykernel)",
   "language": "python",
   "name": "python3"
  },
  "language_info": {
   "codemirror_mode": {
    "name": "ipython",
    "version": 3
   },
   "file_extension": ".py",
   "mimetype": "text/x-python",
   "name": "python",
   "nbconvert_exporter": "python",
   "pygments_lexer": "ipython3",
   "version": "3.9.15"
  }
 },
 "nbformat": 4,
 "nbformat_minor": 5
}
