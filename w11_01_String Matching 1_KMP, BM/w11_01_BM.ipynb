{
 "cells": [
  {
   "attachments": {},
   "cell_type": "markdown",
   "id": "fae4e7bd-cd2c-4420-a9a3-e2a0b5842376",
   "metadata": {
    "tags": []
   },
   "source": [
    "# Week 11 : BM Algorithm (BOJ 1786)\n",
    "\n",
    "- 시간초과가 정상입니다."
   ]
  },
  {
   "cell_type": "code",
   "execution_count": 1,
   "id": "1cede536-b835-46d8-89fe-606ae12b0d02",
   "metadata": {},
   "outputs": [
    {
     "name": "stdout",
     "output_type": "stream",
     "text": [
      " ABC ABCDAB ABCDABCDABDE\n",
      " ABCDABD\n"
     ]
    },
    {
     "name": "stdout",
     "output_type": "stream",
     "text": [
      "1\n",
      "16 "
     ]
    }
   ],
   "source": [
    "T = input()\n",
    "P = input()\n",
    "n = len(T)\n",
    "m = len(P)\n",
    "\n",
    "# preprocessing function\n",
    "# bad character heuristic\n",
    "def construct_bad_character(pattern : str, length : int):\n",
    "    bad_char = {}\n",
    "    for i in range(length):\n",
    "        bad_char[pattern[i]] = length - (i + 1)\n",
    "    return bad_char\n",
    "\n",
    "# good suffix heuristic\n",
    "def construct_good_suffix(pattern : str, length : int):\n",
    "    bpos = [0 for _ in range(length + 1)]\n",
    "    shift = [0 for _ in range(length + 1)]\n",
    "    i = length - 1\n",
    "    j = length\n",
    "    bpos[length] = length+1\n",
    "    bpos[length-1] = length\n",
    "    while i > 0:\n",
    "        while j <= m and pattern[i-1] != pattern[j-1]:\n",
    "            if shift[j] == 0:\n",
    "                shift[j] = j-i\n",
    "            j = bpos[j]\n",
    "        i -= 1\n",
    "        j -= 1\n",
    "        bpos[i] = j\n",
    "    i = 0\n",
    "    j = bpos[0]\n",
    "    while i <= length:\n",
    "        if shift[i]==0:\n",
    "            shift[i] = j\n",
    "        if i==j:\n",
    "            j = bpos[j]\n",
    "        shift[i] = length + shift[i] - i\n",
    "        i+=1\n",
    "    return shift\n",
    "\n",
    "bc_shift = construct_bad_character(P, m)\n",
    "gc_shift = construct_good_suffix(P, m)\n",
    "\n",
    "# processing\n",
    "res_list = []\n",
    "i = m - 1\n",
    "j = m - 1\n",
    "while i < n:\n",
    "    if T[i] == P[j]:\n",
    "        if j == 0:  # occurrence of P\n",
    "            res_list.append(i)\n",
    "            i += gc_shift[0] - 1\n",
    "            j = m - 1\n",
    "        else:\n",
    "            i -= 1\n",
    "            j -= 1\n",
    "    else:\n",
    "        # bc check and compare\n",
    "        if T[i] in bc_shift:\n",
    "            i += max(bc_shift[T[i]], gc_shift[j + 1])\n",
    "        else:\n",
    "            i += max(m, gc_shift[j + 1])\n",
    "        j = m - 1\n",
    "\n",
    "# output\n",
    "print(len(res_list))\n",
    "for res in res_list:\n",
    "    print(res + 1, end = \" \")   # string index is 1-based."
   ]
  }
 ],
 "metadata": {
  "kernelspec": {
   "display_name": "Python 3 (ipykernel)",
   "language": "python",
   "name": "python3"
  },
  "language_info": {
   "codemirror_mode": {
    "name": "ipython",
    "version": 3
   },
   "file_extension": ".py",
   "mimetype": "text/x-python",
   "name": "python",
   "nbconvert_exporter": "python",
   "pygments_lexer": "ipython3",
   "version": "3.10.9"
  }
 },
 "nbformat": 4,
 "nbformat_minor": 5
}
