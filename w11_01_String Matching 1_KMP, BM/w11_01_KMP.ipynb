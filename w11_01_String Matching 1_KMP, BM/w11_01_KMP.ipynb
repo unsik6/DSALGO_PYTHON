{
 "cells": [
  {
   "cell_type": "markdown",
   "id": "fae4e7bd-cd2c-4420-a9a3-e2a0b5842376",
   "metadata": {},
   "source": [
    "# Week 11 : KMP Algorithm (BOJ 1786)"
   ]
  },
  {
   "cell_type": "code",
   "execution_count": 1,
   "id": "1cede536-b835-46d8-89fe-606ae12b0d02",
   "metadata": {},
   "outputs": [
    {
     "name": "stdin",
     "output_type": "stream",
     "text": [
      " ABC ABCDAB ABCDABCDABDE\n",
      " ABCDABD\n"
     ]
    },
    {
     "name": "stdout",
     "output_type": "stream",
     "text": [
      "1\n",
      "16\n"
     ]
    }
   ],
   "source": [
    "T = input()\n",
    "P = input()\n",
    "n = len(T)\n",
    "m = len(P)\n",
    "\n",
    "# preprocessing function\n",
    "def construct_failure(pattern : str, length : int):\n",
    "    i = 1\n",
    "    j = 0\n",
    "    fail = [0 for _ in range(length)]\n",
    "    while i < length:\n",
    "        if pattern[i] == pattern[j]:\n",
    "            fail[i] = j + 1\n",
    "            i += 1\n",
    "            j += 1\n",
    "        elif j > 0:\n",
    "            j = fail[j - 1]\n",
    "        else:\n",
    "            fail[i] = 0\n",
    "            i += 1\n",
    "    return fail\n",
    "\n",
    "# processing\n",
    "failure = construct_failure(P, m)\n",
    "i = 0\n",
    "j = 0\n",
    "res_list = []\n",
    "while i < n:\n",
    "    if T[i] == P[j]:\n",
    "        if j == m - 1:\n",
    "            res_list.append(i - j)\n",
    "            i += 1\n",
    "            j = failure[m - 1]\n",
    "        else:\n",
    "            i += 1\n",
    "            j += 1\n",
    "    elif j > 0:\n",
    "        j = failure[j - 1]\n",
    "    else:\n",
    "        i += 1\n",
    "\n",
    "# output\n",
    "print(len(res_list))\n",
    "for res in res_list:\n",
    "    print(res + 1)   # string index is 1-based."
   ]
  }
 ],
 "metadata": {
  "kernelspec": {
   "display_name": "Python 3 (ipykernel)",
   "language": "python",
   "name": "python3"
  },
  "language_info": {
   "codemirror_mode": {
    "name": "ipython",
    "version": 3
   },
   "file_extension": ".py",
   "mimetype": "text/x-python",
   "name": "python",
   "nbconvert_exporter": "python",
   "pygments_lexer": "ipython3",
   "version": "3.10.9"
  }
 },
 "nbformat": 4,
 "nbformat_minor": 5
}
