{
 "cells": [
  {
   "cell_type": "markdown",
   "id": "07827bde-e2c0-4d33-9125-5b3733c07dd2",
   "metadata": {},
   "source": [
    "# Week 7 : Counting Sorting"
   ]
  },
  {
   "cell_type": "code",
   "execution_count": 1,
   "id": "eec61c58-ba6c-48f9-80ab-5f6b794e702e",
   "metadata": {},
   "outputs": [],
   "source": [
    "def counting_sorting(ls : list, k):\n",
    "    counters = [0 for _ in range(k + 1)]\n",
    "    res = [0 for _ in range(k + 1)]\n",
    "    for i in range(len(ls)):\n",
    "        counters[ls[i]] += 1\n",
    "    for i in range(1, len(k + 1)):\n",
    "        counters[i] += counters[i - 1]\n",
    "    for i in range(len(ls) - 1, -1, -1):\n",
    "        res[counters[ls[i]] - 1] = ls[i]\n",
    "        counters[ls[i]] -= 1\n",
    "    ls = res"
   ]
  }
 ],
 "metadata": {
  "kernelspec": {
   "display_name": "Python 3 (ipykernel)",
   "language": "python",
   "name": "python3"
  },
  "language_info": {
   "codemirror_mode": {
    "name": "ipython",
    "version": 3
   },
   "file_extension": ".py",
   "mimetype": "text/x-python",
   "name": "python",
   "nbconvert_exporter": "python",
   "pygments_lexer": "ipython3",
   "version": "3.10.9"
  }
 },
 "nbformat": 4,
 "nbformat_minor": 5
}
