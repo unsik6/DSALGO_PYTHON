{
 "cells": [
  {
   "cell_type": "markdown",
   "id": "737bbcf3-c7ae-4d08-84e6-cc0d85220c56",
   "metadata": {},
   "source": [
    "# Week 7 : Counting Sort - BOJ 10989"
   ]
  },
  {
   "cell_type": "code",
   "execution_count": 1,
   "id": "37c9deba-ad59-4c79-bcf3-02243fe2b192",
   "metadata": {},
   "outputs": [
    {
     "name": "stdin",
     "output_type": "stream",
     "text": [
      " 10\n",
      " 5\n",
      " 2\n",
      " 3\n",
      " 1\n",
      " 4\n",
      " 2\n",
      " 3\n",
      " 5\n",
      " 1\n",
      " 7\n"
     ]
    },
    {
     "name": "stdout",
     "output_type": "stream",
     "text": [
      "1\n",
      "1\n",
      "2\n",
      "2\n",
      "3\n",
      "3\n",
      "4\n",
      "5\n",
      "5\n",
      "7\n"
     ]
    }
   ],
   "source": [
    "N = int(input())\n",
    "K = 10000\n",
    "counters = [0 for _ in range(K + 1)]\n",
    "\n",
    "for _ in range(N):\n",
    "    number = int(input())\n",
    "    counters[number] += 1\n",
    "for i in range(1, K + 1):\n",
    "    for _ in range(counters[i]):\n",
    "        print(i)"
   ]
  },
  {
   "cell_type": "markdown",
   "id": "2b970236-273f-4cec-ab88-3e9ed7738fef",
   "metadata": {},
   "source": [
    "# Week 7 : Radix Sort - BOJ 2751\n",
    "- pypy3로 제출해야 시간초과 안 나타남"
   ]
  },
  {
   "cell_type": "code",
   "execution_count": 2,
   "id": "3c49feda-f142-42fc-9a74-2720a8e25a3a",
   "metadata": {},
   "outputs": [
    {
     "name": "stdin",
     "output_type": "stream",
     "text": [
      " 5\n",
      " 5\n",
      " 4\n",
      " 3\n",
      " 2\n",
      " 1\n"
     ]
    },
    {
     "name": "stdout",
     "output_type": "stream",
     "text": [
      "1\n",
      "2\n",
      "3\n",
      "4\n",
      "5\n"
     ]
    }
   ],
   "source": [
    "N = int(input())\n",
    "radix = 10\n",
    "numbers = [int(input()) + 1000000 for _ in range(N)]\n",
    "\n",
    "end_flag = False\n",
    "buckets = [[] for _ in range(radix)]\n",
    "weight = 1 * radix\n",
    "while not end_flag:\n",
    "    end_flag = True\n",
    "    for i in range(len(numbers)):\n",
    "        buckets[(numbers[i] % weight) // (weight // radix)].append(numbers[i])\n",
    "        if (numbers[i] % weight) // (weight // radix) > 0:\n",
    "            end_flag = False\n",
    "    idx = 0\n",
    "    for bucket in buckets:\n",
    "        for e in bucket:\n",
    "            numbers[idx] = e\n",
    "            idx += 1\n",
    "        bucket.clear()\n",
    "    weight *= radix\n",
    "\n",
    "for e in numbers: print(e - 1000000)"
   ]
  }
 ],
 "metadata": {
  "kernelspec": {
   "display_name": "Python 3 (ipykernel)",
   "language": "python",
   "name": "python3"
  },
  "language_info": {
   "codemirror_mode": {
    "name": "ipython",
    "version": 3
   },
   "file_extension": ".py",
   "mimetype": "text/x-python",
   "name": "python",
   "nbconvert_exporter": "python",
   "pygments_lexer": "ipython3",
   "version": "3.10.9"
  }
 },
 "nbformat": 4,
 "nbformat_minor": 5
}
