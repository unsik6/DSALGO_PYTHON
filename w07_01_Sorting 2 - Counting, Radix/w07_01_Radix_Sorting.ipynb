{
 "cells": [
  {
   "cell_type": "markdown",
   "id": "07827bde-e2c0-4d33-9125-5b3733c07dd2",
   "metadata": {},
   "source": [
    "# Week 7 : Radix Sorting"
   ]
  },
  {
   "cell_type": "code",
   "execution_count": 1,
   "id": "eec61c58-ba6c-48f9-80ab-5f6b794e702e",
   "metadata": {},
   "outputs": [],
   "source": [
    "def radix_sorting(ls : list, radix : int):\n",
    "    end_flag = False\n",
    "    buckets = [[] for _ in range(radix)]\n",
    "    weight = 1 * radix\n",
    "    while not end_flag:\n",
    "        end_flag = True\n",
    "        for i in range(len(ls)):\n",
    "            buckets[(ls[i] % weight) / (weight / radix)].append(ls[i])\n",
    "            if (ls[i] % weight) / (weight / radix) > 0:\n",
    "                end_flag = False\n",
    "        idx = 0\n",
    "        for bucket in buckets:\n",
    "            for e in bucket:\n",
    "                ls[idx] = e\n",
    "                idx += 1\n",
    "            bucket.clear()\n",
    "        weight *= radix"
   ]
  }
 ],
 "metadata": {
  "kernelspec": {
   "display_name": "Python 3 (ipykernel)",
   "language": "python",
   "name": "python3"
  },
  "language_info": {
   "codemirror_mode": {
    "name": "ipython",
    "version": 3
   },
   "file_extension": ".py",
   "mimetype": "text/x-python",
   "name": "python",
   "nbconvert_exporter": "python",
   "pygments_lexer": "ipython3",
   "version": "3.10.9"
  }
 },
 "nbformat": 4,
 "nbformat_minor": 5
}
