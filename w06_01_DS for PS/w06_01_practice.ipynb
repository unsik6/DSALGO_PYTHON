{
 "cells": [
  {
   "attachments": {},
   "cell_type": "markdown",
   "id": "9ed5a3b4-0396-44f5-92b7-5b93bb254b58",
   "metadata": {},
   "source": [
    "# Week 6 : Disjoint Set - BOJ 20040"
   ]
  },
  {
   "cell_type": "code",
   "execution_count": 1,
   "id": "a07edac8-9e8f-4c2a-be4a-eba4b2005908",
   "metadata": {},
   "outputs": [
    {
     "name": "stdout",
     "output_type": "stream",
     "text": [
      " 6 5\n",
      " 0 1\n",
      " 1 2\n",
      " 1 3\n",
      " 0 3\n"
     ]
    },
    {
     "name": "stdout",
     "output_type": "stream",
     "text": [
      "4\n"
     ]
    }
   ],
   "source": [
    "n, m = map(int, input().split())\n",
    "\n",
    "parent = [ i for i in range(n)]\n",
    "rank = [0 for _ in range(n)]\n",
    "end_stage = 0\n",
    "\n",
    "def find(x):\n",
    "    if parent[x] != x:\n",
    "        parent[x] = find(parent[x])\n",
    "    return parent[x]\n",
    "\n",
    "for i in range(m):\n",
    "    a, b = map(int, input().split())\n",
    "    \n",
    "    a = find(a)\n",
    "    b = find(b)\n",
    "    \n",
    "    if parent[a] == parent[b]:\n",
    "        end_stage = i + 1\n",
    "        break\n",
    "    if rank[a] < rank[b]:\n",
    "        parent[a] = b\n",
    "    elif rank[b] < rank[a]:\n",
    "        parent[b] = a\n",
    "    else:\n",
    "        parent[b] = a\n",
    "        rank[a] += rank[b] + 1\n",
    "\n",
    "print(end_stage)"
   ]
  },
  {
   "cell_type": "markdown",
   "id": "23f3503c-dc43-45d9-af96-4cdf553f7344",
   "metadata": {},
   "source": [
    "# Week 6 : Segment Tree - BOJ 2042\n",
    "- 채점할 때는 input을 sys.stdin.readline으로 해야 시간초과 안납니다."
   ]
  },
  {
   "cell_type": "code",
   "execution_count": 2,
   "id": "50f984df-7db1-4b09-a95d-7ef90ba8dcba",
   "metadata": {},
   "outputs": [
    {
     "name": "stdout",
     "output_type": "stream",
     "text": [
      " 5 2 2\n",
      " 1\n",
      " 2\n",
      " 3\n",
      " 4\n",
      " 5\n",
      " 1 3 6\n",
      " 2 2 5\n"
     ]
    },
    {
     "name": "stdout",
     "output_type": "stream",
     "text": [
      "17\n"
     ]
    },
    {
     "name": "stdout",
     "output_type": "stream",
     "text": [
      " 1 5 2\n",
      " 2 3 5\n"
     ]
    },
    {
     "name": "stdout",
     "output_type": "stream",
     "text": [
      "12\n"
     ]
    }
   ],
   "source": [
    "import sys\n",
    "\n",
    "N, M, K = map(int, input().split())\n",
    "\n",
    "arr = [None] + [int(input()) for _ in range(N)]\n",
    "seg_tree = [None for _ in range(4 * N)]\n",
    "\n",
    "def build_Tree(node, start, end):\n",
    "    if start == end:\n",
    "        seg_tree[node] = arr[start]\n",
    "        return\n",
    "    \n",
    "    mid = int((start + end) / 2)\n",
    "    build_Tree(node * 2, start, mid)\n",
    "    build_Tree(node * 2 + 1, mid + 1, end)\n",
    "    \n",
    "    seg_tree[node] = seg_tree[node * 2] + seg_tree[node * 2 + 1]\n",
    "    return\n",
    "\n",
    "def add_elem(node, start, end, pos, operend):\n",
    "    if pos < start or pos > end:\n",
    "        return\n",
    "    \n",
    "    seg_tree[node] += operend\n",
    "    if not (pos == start and pos == end):\n",
    "        mid = int((start + end) / 2)\n",
    "        add_elem(node * 2, start, mid, pos, operend)\n",
    "        add_elem(node * 2 + 1, mid + 1, end, pos, operend)\n",
    "\n",
    "def prefixSum(node, start, end, left, right):\n",
    "    if right < start or left > end:\n",
    "        return 0\n",
    "    if left <= start and end <= right:\n",
    "        return seg_tree[node]\n",
    "    mid = int((start + end) / 2)\n",
    "    left_sum = prefixSum(node * 2, start, mid, left, right)\n",
    "    right_sum = prefixSum(node * 2 + 1, mid + 1, end, left, right)\n",
    "    return left_sum + right_sum\n",
    "\n",
    "build_Tree(1, 1, N)\n",
    "\n",
    "for _ in range(M + K):\n",
    "    a, b, c = map(int, input().split())\n",
    "    if a == 1:\n",
    "        diff = c - arr[b]\n",
    "        arr[b] = c\n",
    "        add_elem(1, 1, N, b, diff)\n",
    "    else:\n",
    "        print(prefixSum(1, 1, N, b, c))"
   ]
  }
 ],
 "metadata": {
  "kernelspec": {
   "display_name": "Python 3 (ipykernel)",
   "language": "python",
   "name": "python3"
  },
  "language_info": {
   "codemirror_mode": {
    "name": "ipython",
    "version": 3
   },
   "file_extension": ".py",
   "mimetype": "text/x-python",
   "name": "python",
   "nbconvert_exporter": "python",
   "pygments_lexer": "ipython3",
   "version": "3.10.9"
  }
 },
 "nbformat": 4,
 "nbformat_minor": 5
}
