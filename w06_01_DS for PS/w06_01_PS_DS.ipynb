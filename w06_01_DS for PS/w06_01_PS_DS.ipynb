{
 "cells": [
  {
   "cell_type": "markdown",
   "id": "70fdb2df-86f4-4109-9800-20aa3f013ca5",
   "metadata": {},
   "source": [
    "# Week 6: Disjoint Set"
   ]
  },
  {
   "cell_type": "code",
   "execution_count": 1,
   "id": "37c4ce19-3e51-4f72-b2af-5434c3d54cdb",
   "metadata": {},
   "outputs": [],
   "source": [
    "class Disjoint_Set:\n",
    "    def __init__(self, n : int):\n",
    "        self.parent = []\n",
    "        self.rank = []\n",
    "        for i in range(n):\n",
    "            self.parent.append(i)\n",
    "            self.rank.append(0)\n",
    "    \n",
    "    def find(self, x : int):\n",
    "        if self.parent[x] != x:\n",
    "            self.parent[x] = self.find(self.parent[x])\n",
    "        return self.parent[x]\n",
    "    \n",
    "    def union(self, x : int, y : int):\n",
    "        rep_x = self.find(x)\n",
    "        rep_y = self.find(y)\n",
    "        \n",
    "        if rep_x == rep_y:\n",
    "            return\n",
    "        \n",
    "        if self.rank[rep_x] < self.rank[rep_y]:\n",
    "            self.parent[rep_x] = rep_y\n",
    "        elif self.rank[rep_y] < self.rank[rep_x]:\n",
    "            self.parent[rep_y] = rep_x\n",
    "        else: # same rank\n",
    "            self.parent[rep_y] = rep_x\n",
    "            self.rank[rep_x] += self.rank[rep_y] + 1"
   ]
  },
  {
   "cell_type": "markdown",
   "id": "c90d3c74-276a-4846-90b9-94c27af99a38",
   "metadata": {},
   "source": [
    "# Week 6: Segment Tree"
   ]
  },
  {
   "cell_type": "code",
   "execution_count": 2,
   "id": "0fda83e4-a9bc-4875-a352-1f9eadf471d6",
   "metadata": {},
   "outputs": [],
   "source": [
    "class prefixSum_Segment_Tree:\n",
    "    # seq도 1부터 저장한다.\n",
    "    def __init__(self, seq : list):\n",
    "        size = len(seq)\n",
    "        self.array = seq\n",
    "        self.seg_tree = [None for _ in range(size)]\n",
    "    \n",
    "    def construct(node : int, start : int, end : int):\n",
    "        if start == end:\n",
    "            self.seg_tree[node] = self.array[start]\n",
    "            return\n",
    "        \n",
    "        mid = int((start + end) / 2)\n",
    "        self.construct(node * 2, start, mid)\n",
    "        self.construct(node * 2 + 1, mid + 1, end)\n",
    "        \n",
    "        self.seg_tree[node] = self.seg_tree[node * 2] + self.seg_tree[node * 2 + 1]\n",
    "        return\n",
    "    \n",
    "    def recursive_prefixSum(self, node : int, start : int, end : int, left : int, right : int):\n",
    "        if right < start or left > end:\n",
    "            return 0\n",
    "        \n",
    "        if left <= start and end <= right:\n",
    "            return self.seg_tree[node]\n",
    "        \n",
    "        mid = int((start + end) / 2)\n",
    "        left_query = self.recursive_prefixSum(node * 2, start, mid, left, right)\n",
    "        right_query = self.recursive_prefixSum(node * 2 + 1, mid + 1, end, left, right)\n",
    "        return left_query + right_query\n",
    "    \n",
    "    def prefixSum(self, left : int, right : int):\n",
    "        return self.recursive_prefixSum(1, 1, len(self.array), left, right)"
   ]
  }
 ],
 "metadata": {
  "kernelspec": {
   "display_name": "Python 3 (ipykernel)",
   "language": "python",
   "name": "python3"
  },
  "language_info": {
   "codemirror_mode": {
    "name": "ipython",
    "version": 3
   },
   "file_extension": ".py",
   "mimetype": "text/x-python",
   "name": "python",
   "nbconvert_exporter": "python",
   "pygments_lexer": "ipython3",
   "version": "3.10.9"
  }
 },
 "nbformat": 4,
 "nbformat_minor": 5
}
