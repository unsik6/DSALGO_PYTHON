{
 "cells": [
  {
   "cell_type": "markdown",
   "id": "d55f9f76-902a-414d-a357-953fd9770195",
   "metadata": {},
   "source": [
    "# Week 4: Basic Graph - Adjacency List Representation"
   ]
  },
  {
   "cell_type": "code",
   "execution_count": 1,
   "id": "8bd4ef25-67d9-49c7-a3fa-bd992eda7dd8",
   "metadata": {},
   "outputs": [],
   "source": [
    "class Vertex:\n",
    "    def __init__(self, e = None):\n",
    "        self.elem = e\n",
    "        self.incident_edges = []\n",
    "\n",
    "class Edge:\n",
    "    def __init__(self, src : Vertex = None, dst : Vertex = None, e = None):\n",
    "        self.src = src\n",
    "        self.dst = dst\n",
    "        self.elem = e"
   ]
  },
  {
   "cell_type": "code",
   "execution_count": 2,
   "id": "91ffbdc1-abce-43de-91f6-26a8f9f02569",
   "metadata": {},
   "outputs": [],
   "source": [
    "class AL_Graph:\n",
    "    def __init__(self):\n",
    "        self.vertices = []\n",
    "        self.edges = []\n",
    "    \n",
    "    def get_incidentEdges(self, v : Vertex):\n",
    "        # you have to check the vertex exists, although I don't do that.\n",
    "        return v.incident_edges\n",
    "    \n",
    "    def isAdjacent(self, v : Vertex, u : Vertex):\n",
    "        smaller = v if len(v.incident_edges) <= len(u.incident_edges) else u\n",
    "        bigger = u if len(v.incident_edges) <= len(u.incident_edges) else v\n",
    "        \n",
    "        for incident_edge in smaller.incident_edges:\n",
    "            if incident_edge.dst == bigger or incident_edge.src == bigger:\n",
    "                return True\n",
    "        return False\n",
    "    \n",
    "    def insertVertex(self, elem):\n",
    "        new_vertex = Vertex(elem)\n",
    "        self.vertices.append(new_vertex)\n",
    "        \n",
    "    def insertEdge(self, u : Vertex, v : Vertex, elem):\n",
    "        new_edge = Edge(u, v, elem)\n",
    "        u.incident_edges.append(new_edge)\n",
    "        v.incident_edges.append(new_edge)\n",
    "        self.edges.append(new_edge)\n",
    "    \n",
    "    def eraseVertex(self, v : Vertex):\n",
    "        for incident_edge in v.incident_edges:\n",
    "            if incident_edge.dst == v:\n",
    "                incident_edge.src.incident_edges.remove(incident_edge)\n",
    "            else: incident_edge.dst.incident_edges.remove(incident_edge)\n",
    "            self.edges.remove(incident_edge)\n",
    "            del incident_edge\n",
    "        self.vertices.remove(v)\n",
    "        del v\n",
    "            \n",
    "    def eraseEdge(self, e : Edge):\n",
    "        e.src.incident_edges.remove(e)\n",
    "        e.dst.incident_edges.remove(e)\n",
    "        self.edges.remove(e)\n",
    "        del e        "
   ]
  },
  {
   "cell_type": "code",
   "execution_count": 3,
   "id": "44b2c84b-ba60-408b-87aa-d632d3e70fd1",
   "metadata": {},
   "outputs": [],
   "source": [
    "graph = AL_Graph()"
   ]
  },
  {
   "cell_type": "code",
   "execution_count": 4,
   "id": "2b8d1eb4-59a0-4e4d-9bd9-250c61cffa52",
   "metadata": {},
   "outputs": [],
   "source": [
    "graph.insertVertex(1)"
   ]
  },
  {
   "cell_type": "code",
   "execution_count": 5,
   "id": "ddbf8b52-5643-47eb-a2a0-169585c405d7",
   "metadata": {},
   "outputs": [
    {
     "data": {
      "text/plain": [
       "[]"
      ]
     },
     "execution_count": 5,
     "metadata": {},
     "output_type": "execute_result"
    }
   ],
   "source": [
    "graph.vertices[0].incident_edges"
   ]
  },
  {
   "cell_type": "code",
   "execution_count": 6,
   "id": "6ea49a39-9e06-4907-9691-c2d605a11b02",
   "metadata": {},
   "outputs": [],
   "source": [
    "graph.insertVertex(2)"
   ]
  },
  {
   "cell_type": "code",
   "execution_count": 7,
   "id": "40dde488-579c-46f4-9b6d-fad60a531f16",
   "metadata": {},
   "outputs": [
    {
     "name": "stdout",
     "output_type": "stream",
     "text": [
      "1 2 "
     ]
    }
   ],
   "source": [
    "for v in graph.vertices:\n",
    "    print(v.elem, end=\" \")"
   ]
  },
  {
   "cell_type": "code",
   "execution_count": 8,
   "id": "5ee0a6f3-76f4-4f49-800c-2e06819a210b",
   "metadata": {},
   "outputs": [],
   "source": [
    "graph.insertEdge(graph.vertices[0], graph.vertices[1], 'a')"
   ]
  },
  {
   "cell_type": "code",
   "execution_count": 9,
   "id": "a1552d72-2ca3-41b1-abf8-e6fca2fecbed",
   "metadata": {},
   "outputs": [
    {
     "name": "stdout",
     "output_type": "stream",
     "text": [
      "[<__main__.Vertex object at 0x000001D8AE820B20>, <__main__.Vertex object at 0x000001D8AE821D20>]\n",
      "[<__main__.Edge object at 0x000001D8AE820850>]\n",
      "<__main__.Vertex object at 0x000001D8AE820B20> <__main__.Vertex object at 0x000001D8AE821D20>\n",
      "[<__main__.Edge object at 0x000001D8AE820850>]\n",
      "[<__main__.Edge object at 0x000001D8AE820850>]\n"
     ]
    }
   ],
   "source": [
    "print(graph.vertices)\n",
    "print(graph.edges)\n",
    "print(graph.edges[0].src, graph.edges[0].dst)\n",
    "print(graph.vertices[0].incident_edges)\n",
    "print(graph.vertices[1].incident_edges)"
   ]
  },
  {
   "cell_type": "code",
   "execution_count": 10,
   "id": "d1dd8cfe-2201-4bea-a515-7aec064ff301",
   "metadata": {},
   "outputs": [],
   "source": [
    "graph.eraseVertex(graph.vertices[0])"
   ]
  },
  {
   "cell_type": "code",
   "execution_count": 11,
   "id": "d90ad1f6-cb8c-4736-a2d3-0a0bffc41276",
   "metadata": {},
   "outputs": [
    {
     "name": "stdout",
     "output_type": "stream",
     "text": [
      "[<__main__.Vertex object at 0x000001D8AE821D20>]\n",
      "[]\n",
      "[]\n"
     ]
    }
   ],
   "source": [
    "print(graph.vertices)\n",
    "print(graph.edges)\n",
    "print(graph.vertices[0].incident_edges)"
   ]
  },
  {
   "cell_type": "code",
   "execution_count": 12,
   "id": "99c3bcf5-3138-4f39-ac2e-9ea836debd72",
   "metadata": {},
   "outputs": [],
   "source": [
    "graph.insertVertex(2)\n",
    "graph.insertEdge(graph.vertices[0], graph.vertices[1], 'a')"
   ]
  },
  {
   "cell_type": "code",
   "execution_count": 13,
   "id": "f2935552-17df-4db7-9246-d6f4dd9f82ef",
   "metadata": {},
   "outputs": [],
   "source": [
    "graph.eraseEdge(graph.vertices[0].incident_edges[0])"
   ]
  },
  {
   "cell_type": "code",
   "execution_count": 14,
   "id": "4f17e343-df8a-4c2d-b4d0-c67f8153c844",
   "metadata": {},
   "outputs": [
    {
     "name": "stdout",
     "output_type": "stream",
     "text": [
      "[<__main__.Vertex object at 0x000001D8AE821D20>, <__main__.Vertex object at 0x000001D8AE823C10>]\n",
      "[]\n",
      "[]\n",
      "[]\n"
     ]
    }
   ],
   "source": [
    "print(graph.vertices)\n",
    "print(graph.edges)\n",
    "print(graph.vertices[0].incident_edges)\n",
    "print(graph.vertices[1].incident_edges)"
   ]
  },
  {
   "cell_type": "markdown",
   "id": "1d346741-7785-4554-bc5f-cfabf353a17c",
   "metadata": {},
   "source": [
    "# Week 4: Basic Graph - Adjacency Matrix Representation"
   ]
  },
  {
   "cell_type": "code",
   "execution_count": 15,
   "id": "566923e7-1864-4567-aa74-aaa8223117b4",
   "metadata": {},
   "outputs": [],
   "source": [
    "class Vertex:\n",
    "    def __init__(self, e = None, idx : int = -1):\n",
    "        self.elem = e\n",
    "        self.idx = idx\n",
    "\n",
    "class Edge:\n",
    "    def __init__(self, src : Vertex = None, dst : Vertex = None, e = None):\n",
    "        self.src = src\n",
    "        self.dst = dst\n",
    "        self.elem = e"
   ]
  },
  {
   "cell_type": "code",
   "execution_count": 16,
   "id": "550e1fb0-e158-4da6-a79b-e0badd35e460",
   "metadata": {},
   "outputs": [],
   "source": [
    "class AM_Graph:\n",
    "    def __init__(self):\n",
    "        self.vertices = []\n",
    "        self.edges = []\n",
    "        self.matrix = []\n",
    "    \n",
    "    def get_incidentEdges(self, v : Vertex):\n",
    "        edges = []\n",
    "        for edge in self.matrix[v.idx]:\n",
    "            if edge != None:\n",
    "                edges.append(edge)\n",
    "        return edges\n",
    "    \n",
    "    def isAdjacent(self, v : Vertex, u : Vertex):\n",
    "        if self.matrix[v.idx][u.idx] != None:\n",
    "            return True\n",
    "        else: return False\n",
    "    \n",
    "    def insertVertex(self, elem):\n",
    "        new_vertex = Vertex(elem, len(self.vertices))\n",
    "        for inner in self.matrix:\n",
    "            inner.append(None)\n",
    "        self.vertices.append(new_vertex)\n",
    "        self.matrix.append([None] * len(self.vertices))\n",
    "        \n",
    "    def insertEdge(self, u : Vertex, v : Vertex, elem):\n",
    "        new_edge = Edge(u, v, elem)\n",
    "        self.edges.append(new_edge)\n",
    "        self.matrix[u.idx][v.idx] = self.matrix[v.idx][u.idx] = new_edge\n",
    "    \n",
    "    def eraseVertex(self, v : Vertex):\n",
    "        for i in range(v.idx + 1, len(self.vertices)):\n",
    "            self.vertices[i].idx -= 1\n",
    "        del self.vertices[v.idx]\n",
    "        del self.matrix[v.idx]\n",
    "        for inner in self.matrix:\n",
    "            self.edges.remove(inner[v.idx])\n",
    "            del inner[v.idx]\n",
    "        \n",
    "        del v\n",
    "            \n",
    "    def eraseEdge(self, e : Edge):\n",
    "        self.matrix[e.src.idx][e.dst.idx] = self.matrix[e.dst.idx][e.src.idx] = None\n",
    "        self.edges.remove(e)\n",
    "        del e        "
   ]
  },
  {
   "cell_type": "code",
   "execution_count": 17,
   "id": "2c1fca44-b2a9-4a6e-a1c2-502321403958",
   "metadata": {},
   "outputs": [],
   "source": [
    "graph = AM_Graph()"
   ]
  },
  {
   "cell_type": "code",
   "execution_count": 18,
   "id": "d68813a7-0b6a-4cfc-a169-2b83c1b3e47b",
   "metadata": {},
   "outputs": [],
   "source": [
    "# print matrix\n",
    "def print_mat(g : AM_Graph):\n",
    "    print(\"MAT\")\n",
    "    for inner in g.matrix:\n",
    "        print(inner)"
   ]
  },
  {
   "cell_type": "code",
   "execution_count": 19,
   "id": "358f6e66-07dc-4bff-9141-742c79ed29b5",
   "metadata": {},
   "outputs": [
    {
     "name": "stdout",
     "output_type": "stream",
     "text": [
      "MAT\n"
     ]
    }
   ],
   "source": [
    "print_mat(graph)"
   ]
  },
  {
   "cell_type": "code",
   "execution_count": 20,
   "id": "4b0a2551-61da-4bb3-bf31-16f03759e229",
   "metadata": {},
   "outputs": [
    {
     "name": "stdout",
     "output_type": "stream",
     "text": [
      "[<__main__.Vertex object at 0x000001D8AE8492D0>, <__main__.Vertex object at 0x000001D8AE84A740>]\n",
      "0 1\n",
      "[]\n",
      "MAT\n",
      "[None, None]\n",
      "[None, None]\n"
     ]
    }
   ],
   "source": [
    "graph.insertVertex(1)\n",
    "graph.insertVertex(2)\n",
    "print(graph.vertices)\n",
    "print(graph.vertices[0].idx, graph.vertices[1].idx)\n",
    "print(graph.edges)\n",
    "print_mat(graph)"
   ]
  },
  {
   "cell_type": "code",
   "execution_count": 21,
   "id": "3bea853c-8cf8-4d44-84a7-053c504b4ed5",
   "metadata": {},
   "outputs": [],
   "source": [
    "graph.insertEdge(graph.vertices[0], graph.vertices[1], 'a')"
   ]
  },
  {
   "cell_type": "code",
   "execution_count": 22,
   "id": "febc28e2-4fdd-4496-bcfc-56e458b845fc",
   "metadata": {},
   "outputs": [
    {
     "name": "stdout",
     "output_type": "stream",
     "text": [
      "[<__main__.Vertex object at 0x000001D8AE8492D0>, <__main__.Vertex object at 0x000001D8AE84A740>]\n",
      "0 1\n",
      "[<__main__.Edge object at 0x000001D8AE84A3E0>]\n",
      "MAT\n",
      "[None, <__main__.Edge object at 0x000001D8AE84A3E0>]\n",
      "[<__main__.Edge object at 0x000001D8AE84A3E0>, None]\n"
     ]
    }
   ],
   "source": [
    "print(graph.vertices)\n",
    "print(graph.vertices[0].idx, graph.vertices[1].idx)\n",
    "print(graph.edges)\n",
    "print_mat(graph)"
   ]
  },
  {
   "cell_type": "code",
   "execution_count": 23,
   "id": "86b61a5b-890a-417c-8685-ef602cfa15c4",
   "metadata": {},
   "outputs": [
    {
     "name": "stdout",
     "output_type": "stream",
     "text": [
      "[<__main__.Vertex object at 0x000001D8AE84A740>]\n",
      "[]\n",
      "MAT\n",
      "[None]\n"
     ]
    }
   ],
   "source": [
    "graph.eraseVertex(graph.vertices[0])\n",
    "print(graph.vertices)\n",
    "print(graph.edges)\n",
    "print_mat(graph)"
   ]
  },
  {
   "cell_type": "code",
   "execution_count": 24,
   "id": "22735556-ed8e-4be9-885d-68ef0bfc4852",
   "metadata": {},
   "outputs": [
    {
     "name": "stdout",
     "output_type": "stream",
     "text": [
      "[<__main__.Vertex object at 0x000001D8AE84A740>, <__main__.Vertex object at 0x000001D8AE849CC0>]\n",
      "[]\n",
      "MAT\n",
      "[None, None]\n",
      "[None, None]\n"
     ]
    }
   ],
   "source": [
    "graph.insertVertex(2)\n",
    "graph.insertEdge(graph.vertices[0], graph.vertices[1], 'a')\n",
    "graph.eraseEdge(graph.edges[0])\n",
    "print(graph.vertices)\n",
    "print(graph.edges)\n",
    "print_mat(graph)"
   ]
  }
 ],
 "metadata": {
  "kernelspec": {
   "display_name": "Python 3 (ipykernel)",
   "language": "python",
   "name": "python3"
  },
  "language_info": {
   "codemirror_mode": {
    "name": "ipython",
    "version": 3
   },
   "file_extension": ".py",
   "mimetype": "text/x-python",
   "name": "python",
   "nbconvert_exporter": "python",
   "pygments_lexer": "ipython3",
   "version": "3.10.9"
  }
 },
 "nbformat": 4,
 "nbformat_minor": 5
}
