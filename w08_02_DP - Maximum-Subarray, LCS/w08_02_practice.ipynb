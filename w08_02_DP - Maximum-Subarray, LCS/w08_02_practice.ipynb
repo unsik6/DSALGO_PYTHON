{
 "cells": [
  {
   "cell_type": "markdown",
   "id": "22be4c78-db9b-4055-928a-70076e3399de",
   "metadata": {},
   "source": [
    "# Week 8 : Longest Common Subsequence"
   ]
  },
  {
   "cell_type": "code",
   "execution_count": 1,
   "id": "8dda1fa9-0428-4174-8b02-3e740c929cbc",
   "metadata": {},
   "outputs": [
    {
     "name": "stdin",
     "output_type": "stream",
     "text": [
      " ACAYKP\n",
      " CAPCAK\n"
     ]
    },
    {
     "name": "stdout",
     "output_type": "stream",
     "text": [
      "4\n"
     ]
    }
   ],
   "source": [
    "str1 = input()\n",
    "str2 = input()\n",
    "\n",
    "len1 = len(str1)\n",
    "len2 = len(str2)\n",
    "\n",
    "mat = [[0 for _ in range(len2 + 1)] for _ in range(len1 + 1)]\n",
    "\n",
    "for i in range(1, len1 + 1):\n",
    "    for j in range(1, len2 + 1):\n",
    "        mat[i][j] = mat[i-1][j-1] + 1 if str1[i - 1] == str2[j - 1] else max(mat[i - 1][j], mat[i][j - 1])\n",
    "\n",
    "print(mat[len1][len2])"
   ]
  },
  {
   "cell_type": "markdown",
   "id": "7c568d89-cdf2-4b97-b971-5d061cc20d33",
   "metadata": {},
   "source": [
    "# Week 8 : Maximum subarray problem solution with DP (Kadane's Algorithm)"
   ]
  },
  {
   "cell_type": "code",
   "execution_count": 2,
   "id": "51e61d07-ac86-44f1-9f70-be3a3b54625c",
   "metadata": {},
   "outputs": [
    {
     "name": "stdin",
     "output_type": "stream",
     "text": [
      " 10\n",
      " 10 -4 3 1 5 6 -35 12 21 -1\n"
     ]
    },
    {
     "name": "stdout",
     "output_type": "stream",
     "text": [
      "33\n"
     ]
    }
   ],
   "source": [
    "N = int(input())\n",
    "numbers = list(map(int, input().split()))\n",
    "\n",
    "mat = numbers\n",
    "max_sub = mat[0]\n",
    "for i in range(1, len(numbers)):\n",
    "    mat[i] = max(mat[i-1] + numbers[i], numbers[i])\n",
    "    if max_sub < mat[i]: max_sub = mat[i]\n",
    "print(max_sub) "
   ]
  }
 ],
 "metadata": {
  "kernelspec": {
   "display_name": "Python 3 (ipykernel)",
   "language": "python",
   "name": "python3"
  },
  "language_info": {
   "codemirror_mode": {
    "name": "ipython",
    "version": 3
   },
   "file_extension": ".py",
   "mimetype": "text/x-python",
   "name": "python",
   "nbconvert_exporter": "python",
   "pygments_lexer": "ipython3",
   "version": "3.10.9"
  }
 },
 "nbformat": 4,
 "nbformat_minor": 5
}
