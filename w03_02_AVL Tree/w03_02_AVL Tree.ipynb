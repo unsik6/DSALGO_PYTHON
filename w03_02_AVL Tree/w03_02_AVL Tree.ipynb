{
 "cells": [
  {
   "cell_type": "markdown",
   "id": "871341b6-4aca-4a8b-b977-7b751ffc9a3c",
   "metadata": {},
   "source": [
    "# Week 3: AVL Tree"
   ]
  },
  {
   "cell_type": "code",
   "execution_count": 1,
   "id": "6b3ea2f2-4aea-46a2-8d47-76c9dd929e5b",
   "metadata": {},
   "outputs": [],
   "source": [
    "class Node:\n",
    "    def __init__(self, e = None, par = None):\n",
    "        self.elem = e\n",
    "        self.height = 0 if e == None else 1\n",
    "        self.parent = par\n",
    "        self.left = None if e == None else Node(None, self)\n",
    "        self.right = None if e == None else Node(None, self)\n",
    "        \n",
    "    def isExternal(self):\n",
    "        if self.left == None and self.right == None:\n",
    "            return True\n",
    "        else: return False\n",
    "    \n",
    "    def resetHeight(self):\n",
    "        if self.left.height >= self.right.height:\n",
    "            self.height = self.left.height + 1\n",
    "        else: self.height = self.right.height + 1\n",
    "\n",
    "class AVL_Tree:\n",
    "    def __init__(self):\n",
    "        self.root = None\n",
    "    \n",
    "    # if direction is True, then direction is right.\n",
    "    def rotate(self, node : Node, direction : bool = False):\n",
    "        c = None\n",
    "        if not direction:\n",
    "            c = node.right\n",
    "            node.right = c.left\n",
    "            c.left.parent = node\n",
    "            \n",
    "            c.left = node\n",
    "            c.parent = node.parent\n",
    "            if node.parent != None:\n",
    "                if node.parent.left == node:\n",
    "                    node.parent.left = c\n",
    "                else: node.parent.right = c\n",
    "            node.parent = c\n",
    "            \n",
    "        else:\n",
    "            c = node.left\n",
    "            node.left = c.right\n",
    "            c.right.parent = node\n",
    "            \n",
    "            c.right = node\n",
    "            c.parent = node.parent\n",
    "            if node.parent != None:\n",
    "                if node.parent.left == node:\n",
    "                    node.parent.left = c\n",
    "                else: node.parent.right = c\n",
    "            node.parent = c\n",
    "\n",
    "        # reset Heights\n",
    "        node.resetHeight()\n",
    "        c.resetHeight()\n",
    "        # reset Root\n",
    "        if node == self.root:\n",
    "            self.root = c\n",
    "    \n",
    "    def search(self, e):\n",
    "        if self.root == None:\n",
    "            print(\"ERROR: EMPTY\")\n",
    "            return\n",
    "        \n",
    "        cur_node = self.root\n",
    "        while not cur_node.isExternal():\n",
    "            if e == cur_node.elem:\n",
    "                return cur_node\n",
    "            elif e < cur_node.elem:\n",
    "                cur_node = cur_node.left\n",
    "            else:\n",
    "                cur_node = cur_node.right\n",
    "        \n",
    "        print(\"ERROR: Not Exist\")\n",
    "        return\n",
    "    \n",
    "    def restructure(self, node : Node):\n",
    "        z = node\n",
    "        y = None\n",
    "        y_dir = None\n",
    "        x = None\n",
    "        x_dir = None\n",
    "        if z.left.height >= z.right.height:\n",
    "            y, y_dir = z.left, True\n",
    "        else: y, y_dir = z.right, False\n",
    "        if y.left.height >= y.right.height:\n",
    "            x, x_dir = y.left, True\n",
    "        else: x, x_dir = y.right, False\n",
    "        # Optimization\n",
    "        if y.left.height == y.right.height:\n",
    "            if y_dir:\n",
    "                x, x_dir = y.left, True\n",
    "            else: x, x_dir =  y.right, False\n",
    "        \n",
    "        # Single Rotation\n",
    "        if y_dir == x_dir:\n",
    "            self.rotate(z, y_dir)\n",
    "        else:\n",
    "            self.rotate(y, x_dir)\n",
    "            self.rotate(z, y_dir)\n",
    "        \n",
    "        return z\n",
    "        \n",
    "    \n",
    "    def insert(self, e):\n",
    "        new_node = Node(e)\n",
    "        \n",
    "        if self.root == None:\n",
    "            self.root = new_node\n",
    "            return\n",
    "        \n",
    "        # search correct position\n",
    "        cur_node = self.root\n",
    "        while not cur_node.isExternal():\n",
    "            if e <= cur_node.elem:\n",
    "                cur_node = cur_node.left\n",
    "            else:\n",
    "                cur_node = cur_node.right\n",
    "        \n",
    "        # insert the new node\n",
    "        new_node.parent = cur_node.parent\n",
    "        if cur_node.parent.left == cur_node:\n",
    "            cur_node.parent.left = new_node\n",
    "        else:\n",
    "            cur_node.parent.right = new_node\n",
    "        del cur_node\n",
    "        \n",
    "        # restructuring\n",
    "        while new_node != None:\n",
    "            if abs(new_node.left.height - new_node.right.height) > 1:\n",
    "                self.restructure(new_node)\n",
    "            new_node.resetHeight()\n",
    "            new_node = new_node.parent\n",
    "    \n",
    "    def getPredecessor(self, node : Node):\n",
    "        node = node.left\n",
    "        while not node.right.isExternal():\n",
    "            node = node.right\n",
    "        return node\n",
    "    \n",
    "    def remove(self, e):\n",
    "        if self.root == None:\n",
    "            print(\"ERROR: Empty\")\n",
    "            return\n",
    "        \n",
    "        # search the node of e\n",
    "        tmp, rest_node = None, None\n",
    "        target_node = self.search(e)\n",
    "        if target_node.isExternal():\n",
    "            print(\"ERROR: Not Exist\")\n",
    "            return\n",
    "        else:\n",
    "            if target_node.left.isExternal() and target_node.right.isExternal():\n",
    "                tmp = Node()\n",
    "            elif target_node.left.isExternal():\n",
    "                tmp = target_node.right\n",
    "            elif target_node.right.isExternal():\n",
    "                tmp = target_node.left\n",
    "            \n",
    "            # case 2\n",
    "            if not target_node.left.isExternal() and not target_node.right.isExternal():\n",
    "                pred = self.getPredecessor(target_node)\n",
    "                target_node.elem = pred.elem\n",
    "                if pred.parent == target_node:\n",
    "                    target_node.left = pred.left\n",
    "                else:\n",
    "                    pred.parent.right = pred.left\n",
    "                \n",
    "                rest_node = pred.parent\n",
    "                del pred\n",
    "                \n",
    "            # case 1\n",
    "            else:\n",
    "                if target_node.parent.left == target_node: target_node.parent.left = tmp\n",
    "                else: target_node.parent.right = tmp\n",
    "                if target_node == self.root: self.root = None\n",
    "                \n",
    "                rest_node = target_node.parent\n",
    "                del target_node\n",
    "            \n",
    "        # restructuring\n",
    "        while rest_node != None:\n",
    "            if abs(rest_node.left.height - rest_node.right.height) > 1:\n",
    "                self.restructure(rest_node)\n",
    "            rest_node.resetHeight()\n",
    "            rest_node = rest_node.parent\n",
    "        \n",
    "    # debugging\n",
    "    def check_balance(self, node : Node):\n",
    "        if not node.left.isExternal():\n",
    "            self.check_balance(node.left)\n",
    "        \n",
    "        if abs(node.left.height - node.right.height) > 1:\n",
    "            print(\"ERROR: NOT BALANCED: node is\", node.elem)\n",
    "        \n",
    "        if not node.right.isExternal():\n",
    "            self.check_balance(node.right)\n",
    "    \n",
    "    def inorder_Traversal(self, node : Node):\n",
    "        if not node.left.isExternal():\n",
    "            self.inorder_Traversal(node.left)\n",
    "        \n",
    "        print(\"{\", node, node.elem, \",\", node.height, \",\", node.parent, \"(\", node.left.elem, \",\", node.left.height, \") (\", node.right.elem, \",\", node.right.height, \") }\")\n",
    "        \n",
    "        if not node.right.isExternal():\n",
    "            self.inorder_Traversal(node.right)\n",
    "    \n",
    "    def preorder_Traversal(self, node : Node):\n",
    "        print(\"{\", node, node.elem, \",\", node.height, \",\", node.parent, \"(\", node.left.elem, \",\", node.left.height, \") (\", node.right.elem, \",\", node.right.height, \") }\")\n",
    "        \n",
    "        if not node.left.isExternal():\n",
    "            self.preorder_Traversal(node.left)\n",
    "        \n",
    "        if not node.right.isExternal():\n",
    "            self.preorder_Traversal(node.right)"
   ]
  },
  {
   "cell_type": "code",
   "execution_count": 2,
   "id": "09e5022e-1a2f-49c2-bfd9-00310e3dd9cf",
   "metadata": {},
   "outputs": [],
   "source": [
    "avl = AVL_Tree()"
   ]
  },
  {
   "cell_type": "code",
   "execution_count": 3,
   "id": "14c6d8a6-4654-4952-8f6b-b892de903ce9",
   "metadata": {},
   "outputs": [
    {
     "name": "stdout",
     "output_type": "stream",
     "text": [
      "INORDER\n",
      "{ <__main__.Node object at 0x0000028F47FCD720> 10 , 1 , None ( None , 0 ) ( None , 0 ) }\n"
     ]
    }
   ],
   "source": [
    "avl.insert(10)\n",
    "avl.check_balance(avl.root)\n",
    "print(\"INORDER\")\n",
    "avl.inorder_Traversal(avl.root)"
   ]
  },
  {
   "cell_type": "code",
   "execution_count": 4,
   "id": "e5303c40-780e-4b73-b378-1f659a07897d",
   "metadata": {},
   "outputs": [
    {
     "name": "stdout",
     "output_type": "stream",
     "text": [
      "INORDER\n",
      "{ <__main__.Node object at 0x0000028F47FCD7E0> 10 , 1 , <__main__.Node object at 0x0000028F47FCD720> ( None , 0 ) ( None , 0 ) }\n",
      "{ <__main__.Node object at 0x0000028F47FCD720> 10 , 2 , None ( 10 , 1 ) ( None , 0 ) }\n"
     ]
    }
   ],
   "source": [
    "avl.insert(10)\n",
    "avl.check_balance(avl.root)\n",
    "print(\"INORDER\")\n",
    "avl.inorder_Traversal(avl.root)"
   ]
  },
  {
   "cell_type": "code",
   "execution_count": 5,
   "id": "f92446e4-74d7-4739-a8b2-0e88e1b8a6c0",
   "metadata": {},
   "outputs": [
    {
     "name": "stdout",
     "output_type": "stream",
     "text": [
      "INORDER\n",
      "{ <__main__.Node object at 0x0000028F47FCD300> 10 , 1 , <__main__.Node object at 0x0000028F47FCD7E0> ( None , 0 ) ( None , 0 ) }\n",
      "{ <__main__.Node object at 0x0000028F47FCD7E0> 10 , 2 , None ( 10 , 1 ) ( 10 , 1 ) }\n",
      "{ <__main__.Node object at 0x0000028F47FCD720> 10 , 1 , <__main__.Node object at 0x0000028F47FCD7E0> ( None , 0 ) ( None , 0 ) }\n"
     ]
    }
   ],
   "source": [
    "avl.insert(10)\n",
    "avl.check_balance(avl.root)\n",
    "print(\"INORDER\")\n",
    "avl.inorder_Traversal(avl.root)"
   ]
  },
  {
   "cell_type": "code",
   "execution_count": 6,
   "id": "7f53bf84-2377-41f2-a3ca-00ff018dfee8",
   "metadata": {},
   "outputs": [],
   "source": [
    "avl = AVL_Tree()"
   ]
  },
  {
   "cell_type": "code",
   "execution_count": 7,
   "id": "73c5625f-9b11-400b-b32c-cd00e021aecd",
   "metadata": {},
   "outputs": [
    {
     "name": "stdout",
     "output_type": "stream",
     "text": [
      "INORDER\n",
      "{ <__main__.Node object at 0x0000028F47FCD1E0> 10 , 1 , None ( None , 0 ) ( None , 0 ) }\n"
     ]
    }
   ],
   "source": [
    "avl.insert(10)\n",
    "avl.check_balance(avl.root)\n",
    "print(\"INORDER\")\n",
    "avl.inorder_Traversal(avl.root)"
   ]
  },
  {
   "cell_type": "code",
   "execution_count": 8,
   "id": "30674348-c020-4848-ae50-952dd9ea4984",
   "metadata": {},
   "outputs": [
    {
     "name": "stdout",
     "output_type": "stream",
     "text": [
      "INORDER\n",
      "{ <__main__.Node object at 0x0000028F47FCC7C0> 5 , 1 , <__main__.Node object at 0x0000028F47FCD1E0> ( None , 0 ) ( None , 0 ) }\n",
      "{ <__main__.Node object at 0x0000028F47FCD1E0> 10 , 2 , None ( 5 , 1 ) ( None , 0 ) }\n"
     ]
    }
   ],
   "source": [
    "avl.insert(5)\n",
    "avl.check_balance(avl.root)\n",
    "print(\"INORDER\")\n",
    "avl.inorder_Traversal(avl.root)"
   ]
  },
  {
   "cell_type": "code",
   "execution_count": 9,
   "id": "82f65cc8-6052-44ea-9228-f3ab013ba5b8",
   "metadata": {},
   "outputs": [
    {
     "name": "stdout",
     "output_type": "stream",
     "text": [
      "INORDER\n",
      "{ <__main__.Node object at 0x0000028F47FCC7C0> 5 , 1 , <__main__.Node object at 0x0000028F47FCF0A0> ( None , 0 ) ( None , 0 ) }\n",
      "{ <__main__.Node object at 0x0000028F47FCF0A0> 6 , 2 , None ( 5 , 1 ) ( 10 , 1 ) }\n",
      "{ <__main__.Node object at 0x0000028F47FCD1E0> 10 , 1 , <__main__.Node object at 0x0000028F47FCF0A0> ( None , 0 ) ( None , 0 ) }\n"
     ]
    }
   ],
   "source": [
    "avl.insert(6)\n",
    "avl.check_balance(avl.root)\n",
    "print(\"INORDER\")\n",
    "avl.inorder_Traversal(avl.root)"
   ]
  },
  {
   "cell_type": "code",
   "execution_count": 10,
   "id": "53c7987c-69c7-404f-9d49-ee41010c68b1",
   "metadata": {},
   "outputs": [],
   "source": [
    "avl = AVL_Tree()"
   ]
  },
  {
   "cell_type": "code",
   "execution_count": 11,
   "id": "c66689c5-527a-4dcc-b072-74defb7ce3f5",
   "metadata": {},
   "outputs": [
    {
     "name": "stdout",
     "output_type": "stream",
     "text": [
      "INORDER\n",
      "{ <__main__.Node object at 0x0000028F47FCCA00> 10 , 1 , None ( None , 0 ) ( None , 0 ) }\n"
     ]
    }
   ],
   "source": [
    "avl.insert(10)\n",
    "avl.check_balance(avl.root)\n",
    "print(\"INORDER\")\n",
    "avl.inorder_Traversal(avl.root)"
   ]
  },
  {
   "cell_type": "code",
   "execution_count": 12,
   "id": "48100f6c-df16-4519-9fad-77e69e50e581",
   "metadata": {},
   "outputs": [
    {
     "name": "stdout",
     "output_type": "stream",
     "text": [
      "INORDER\n",
      "{ <__main__.Node object at 0x0000028F47FCCA00> 10 , 2 , None ( None , 0 ) ( 11 , 1 ) }\n",
      "{ <__main__.Node object at 0x0000028F47FCD660> 11 , 1 , <__main__.Node object at 0x0000028F47FCCA00> ( None , 0 ) ( None , 0 ) }\n"
     ]
    }
   ],
   "source": [
    "avl.insert(11)\n",
    "avl.check_balance(avl.root)\n",
    "print(\"INORDER\")\n",
    "avl.inorder_Traversal(avl.root)"
   ]
  },
  {
   "cell_type": "code",
   "execution_count": 13,
   "id": "409c56a7-6491-4138-b9d8-bbd9380db317",
   "metadata": {},
   "outputs": [
    {
     "name": "stdout",
     "output_type": "stream",
     "text": [
      "INORDER\n",
      "{ <__main__.Node object at 0x0000028F47FCCA00> 10 , 1 , <__main__.Node object at 0x0000028F47FCD660> ( None , 0 ) ( None , 0 ) }\n",
      "{ <__main__.Node object at 0x0000028F47FCD660> 11 , 2 , None ( 10 , 1 ) ( 12 , 1 ) }\n",
      "{ <__main__.Node object at 0x0000028F47FCCFD0> 12 , 1 , <__main__.Node object at 0x0000028F47FCD660> ( None , 0 ) ( None , 0 ) }\n"
     ]
    }
   ],
   "source": [
    "avl.insert(12)\n",
    "avl.check_balance(avl.root)\n",
    "print(\"INORDER\")\n",
    "avl.inorder_Traversal(avl.root)"
   ]
  },
  {
   "cell_type": "code",
   "execution_count": 14,
   "id": "cdcf3e53-7be6-4265-9a05-994d1a078f21",
   "metadata": {},
   "outputs": [
    {
     "name": "stdout",
     "output_type": "stream",
     "text": [
      "INORDER\n",
      "{ <__main__.Node object at 0x0000028F47FCF400> 10 , 1 , None ( None , 0 ) ( None , 0 ) }\n"
     ]
    }
   ],
   "source": [
    "avl = AVL_Tree()\n",
    "avl.insert(10)\n",
    "avl.check_balance(avl.root)\n",
    "print(\"INORDER\")\n",
    "avl.inorder_Traversal(avl.root)"
   ]
  },
  {
   "cell_type": "code",
   "execution_count": 15,
   "id": "f2d5da11-4823-4839-b5db-439894a88e4c",
   "metadata": {},
   "outputs": [
    {
     "name": "stdout",
     "output_type": "stream",
     "text": [
      "INORDER\n",
      "{ <__main__.Node object at 0x0000028F47FCF400> 10 , 2 , None ( None , 0 ) ( 12 , 1 ) }\n",
      "{ <__main__.Node object at 0x0000028F47FCD0F0> 12 , 1 , <__main__.Node object at 0x0000028F47FCF400> ( None , 0 ) ( None , 0 ) }\n"
     ]
    }
   ],
   "source": [
    "avl.insert(12)\n",
    "avl.check_balance(avl.root)\n",
    "print(\"INORDER\")\n",
    "avl.inorder_Traversal(avl.root)"
   ]
  },
  {
   "cell_type": "code",
   "execution_count": 16,
   "id": "8920b492-337e-43df-ab7f-c2d1b5a4a71b",
   "metadata": {},
   "outputs": [
    {
     "name": "stdout",
     "output_type": "stream",
     "text": [
      "INORDER\n",
      "{ <__main__.Node object at 0x0000028F47FCF400> 10 , 1 , <__main__.Node object at 0x0000028F47FCFCD0> ( None , 0 ) ( None , 0 ) }\n",
      "{ <__main__.Node object at 0x0000028F47FCFCD0> 11 , 2 , None ( 10 , 1 ) ( 12 , 1 ) }\n",
      "{ <__main__.Node object at 0x0000028F47FCD0F0> 12 , 1 , <__main__.Node object at 0x0000028F47FCFCD0> ( None , 0 ) ( None , 0 ) }\n"
     ]
    }
   ],
   "source": [
    "avl.insert(11)\n",
    "avl.check_balance(avl.root)\n",
    "print(\"INORDER\")\n",
    "avl.inorder_Traversal(avl.root)"
   ]
  },
  {
   "cell_type": "code",
   "execution_count": 17,
   "id": "77d6df20-c473-4a6a-9b7f-6253620216a1",
   "metadata": {},
   "outputs": [],
   "source": [
    "avl = AVL_Tree()\n",
    "avl.insert(10)\n",
    "avl.insert(5)\n",
    "avl.insert(15)\n",
    "avl.insert(3)\n",
    "avl.insert(7)\n",
    "avl.insert(13)\n",
    "avl.insert(17)\n",
    "avl.insert(1)\n",
    "avl.insert(6)\n",
    "avl.insert(8)\n",
    "avl.insert(12)\n",
    "avl.insert(14)\n",
    "avl.insert(16)\n",
    "avl.insert(18)\n",
    "avl.insert(2)\n",
    "avl.insert(4)\n",
    "# 1 2 3 4 5 6 7 8 10 12 13 14 15 16 17 18"
   ]
  },
  {
   "cell_type": "code",
   "execution_count": 18,
   "id": "6ee18c07-38b5-490b-821c-dba1f876f914",
   "metadata": {},
   "outputs": [],
   "source": [
    "avl.check_balance(avl.root)"
   ]
  },
  {
   "cell_type": "code",
   "execution_count": 19,
   "id": "3b5a5359-3d94-4d33-9844-303c5c6ffee0",
   "metadata": {},
   "outputs": [
    {
     "name": "stdout",
     "output_type": "stream",
     "text": [
      "{ <__main__.Node object at 0x0000028F47FCF9D0> 1 , 1 , <__main__.Node object at 0x0000028F47FCC520> ( None , 0 ) ( None , 0 ) }\n",
      "{ <__main__.Node object at 0x0000028F47FCC520> 2 , 3 , <__main__.Node object at 0x0000028F47FCFC40> ( 1 , 1 ) ( 3 , 2 ) }\n",
      "{ <__main__.Node object at 0x0000028F47FCE290> 3 , 2 , <__main__.Node object at 0x0000028F47FCC520> ( None , 0 ) ( 4 , 1 ) }\n",
      "{ <__main__.Node object at 0x0000028F47FB66B0> 4 , 1 , <__main__.Node object at 0x0000028F47FCE290> ( None , 0 ) ( None , 0 ) }\n",
      "{ <__main__.Node object at 0x0000028F47FCFC40> 5 , 4 , <__main__.Node object at 0x0000028F47FCD990> ( 2 , 3 ) ( 7 , 2 ) }\n",
      "{ <__main__.Node object at 0x0000028F47FCFE50> 6 , 1 , <__main__.Node object at 0x0000028F47FCCB80> ( None , 0 ) ( None , 0 ) }\n",
      "{ <__main__.Node object at 0x0000028F47FCCB80> 7 , 2 , <__main__.Node object at 0x0000028F47FCFC40> ( 6 , 1 ) ( 8 , 1 ) }\n",
      "{ <__main__.Node object at 0x0000028F47FCFDF0> 8 , 1 , <__main__.Node object at 0x0000028F47FCCB80> ( None , 0 ) ( None , 0 ) }\n",
      "{ <__main__.Node object at 0x0000028F47FCD990> 10 , 5 , None ( 5 , 4 ) ( 15 , 3 ) }\n",
      "{ <__main__.Node object at 0x0000028F47FCFEB0> 12 , 1 , <__main__.Node object at 0x0000028F47FCF9A0> ( None , 0 ) ( None , 0 ) }\n",
      "{ <__main__.Node object at 0x0000028F47FCF9A0> 13 , 2 , <__main__.Node object at 0x0000028F47FCDD50> ( 12 , 1 ) ( 14 , 1 ) }\n",
      "{ <__main__.Node object at 0x0000028F47FCC460> 14 , 1 , <__main__.Node object at 0x0000028F47FCF9A0> ( None , 0 ) ( None , 0 ) }\n",
      "{ <__main__.Node object at 0x0000028F47FCDD50> 15 , 3 , <__main__.Node object at 0x0000028F47FCD990> ( 13 , 2 ) ( 17 , 2 ) }\n",
      "{ <__main__.Node object at 0x0000028F47FCE620> 16 , 1 , <__main__.Node object at 0x0000028F47FCFD90> ( None , 0 ) ( None , 0 ) }\n",
      "{ <__main__.Node object at 0x0000028F47FCFD90> 17 , 2 , <__main__.Node object at 0x0000028F47FCDD50> ( 16 , 1 ) ( 18 , 1 ) }\n",
      "{ <__main__.Node object at 0x0000028F47FCE5C0> 18 , 1 , <__main__.Node object at 0x0000028F47FCFD90> ( None , 0 ) ( None , 0 ) }\n"
     ]
    }
   ],
   "source": [
    "avl.inorder_Traversal(avl.root)"
   ]
  },
  {
   "cell_type": "code",
   "execution_count": 20,
   "id": "0d2ed239-1d42-49d4-9918-977b5296b411",
   "metadata": {},
   "outputs": [
    {
     "name": "stdout",
     "output_type": "stream",
     "text": [
      "{ <__main__.Node object at 0x0000028F47FCD990> 10 , 5 , None ( 5 , 4 ) ( 15 , 3 ) }\n",
      "{ <__main__.Node object at 0x0000028F47FCFC40> 5 , 4 , <__main__.Node object at 0x0000028F47FCD990> ( 2 , 3 ) ( 7 , 2 ) }\n",
      "{ <__main__.Node object at 0x0000028F47FCC520> 2 , 3 , <__main__.Node object at 0x0000028F47FCFC40> ( 1 , 1 ) ( 3 , 2 ) }\n",
      "{ <__main__.Node object at 0x0000028F47FCF9D0> 1 , 1 , <__main__.Node object at 0x0000028F47FCC520> ( None , 0 ) ( None , 0 ) }\n",
      "{ <__main__.Node object at 0x0000028F47FCE290> 3 , 2 , <__main__.Node object at 0x0000028F47FCC520> ( None , 0 ) ( 4 , 1 ) }\n",
      "{ <__main__.Node object at 0x0000028F47FB66B0> 4 , 1 , <__main__.Node object at 0x0000028F47FCE290> ( None , 0 ) ( None , 0 ) }\n",
      "{ <__main__.Node object at 0x0000028F47FCCB80> 7 , 2 , <__main__.Node object at 0x0000028F47FCFC40> ( 6 , 1 ) ( 8 , 1 ) }\n",
      "{ <__main__.Node object at 0x0000028F47FCFE50> 6 , 1 , <__main__.Node object at 0x0000028F47FCCB80> ( None , 0 ) ( None , 0 ) }\n",
      "{ <__main__.Node object at 0x0000028F47FCFDF0> 8 , 1 , <__main__.Node object at 0x0000028F47FCCB80> ( None , 0 ) ( None , 0 ) }\n",
      "{ <__main__.Node object at 0x0000028F47FCDD50> 15 , 3 , <__main__.Node object at 0x0000028F47FCD990> ( 13 , 2 ) ( 17 , 2 ) }\n",
      "{ <__main__.Node object at 0x0000028F47FCF9A0> 13 , 2 , <__main__.Node object at 0x0000028F47FCDD50> ( 12 , 1 ) ( 14 , 1 ) }\n",
      "{ <__main__.Node object at 0x0000028F47FCFEB0> 12 , 1 , <__main__.Node object at 0x0000028F47FCF9A0> ( None , 0 ) ( None , 0 ) }\n",
      "{ <__main__.Node object at 0x0000028F47FCC460> 14 , 1 , <__main__.Node object at 0x0000028F47FCF9A0> ( None , 0 ) ( None , 0 ) }\n",
      "{ <__main__.Node object at 0x0000028F47FCFD90> 17 , 2 , <__main__.Node object at 0x0000028F47FCDD50> ( 16 , 1 ) ( 18 , 1 ) }\n",
      "{ <__main__.Node object at 0x0000028F47FCE620> 16 , 1 , <__main__.Node object at 0x0000028F47FCFD90> ( None , 0 ) ( None , 0 ) }\n",
      "{ <__main__.Node object at 0x0000028F47FCE5C0> 18 , 1 , <__main__.Node object at 0x0000028F47FCFD90> ( None , 0 ) ( None , 0 ) }\n"
     ]
    }
   ],
   "source": [
    "avl.preorder_Traversal(avl.root)"
   ]
  },
  {
   "cell_type": "code",
   "execution_count": 21,
   "id": "f78663b1-4787-4b4f-a2ec-af3fc0409a62",
   "metadata": {},
   "outputs": [
    {
     "name": "stdout",
     "output_type": "stream",
     "text": [
      "{ <__main__.Node object at 0x0000028F47FCF9D0> 1 , 1 , <__main__.Node object at 0x0000028F47FCC520> ( None , 0 ) ( None , 0 ) }\n",
      "{ <__main__.Node object at 0x0000028F47FCC520> 2 , 3 , <__main__.Node object at 0x0000028F47FCFC40> ( 1 , 1 ) ( 3 , 2 ) }\n",
      "{ <__main__.Node object at 0x0000028F47FCE290> 3 , 2 , <__main__.Node object at 0x0000028F47FCC520> ( None , 0 ) ( 4 , 1 ) }\n",
      "{ <__main__.Node object at 0x0000028F47FB66B0> 4 , 1 , <__main__.Node object at 0x0000028F47FCE290> ( None , 0 ) ( None , 0 ) }\n",
      "{ <__main__.Node object at 0x0000028F47FCFC40> 5 , 4 , <__main__.Node object at 0x0000028F47FCD990> ( 2 , 3 ) ( 7 , 2 ) }\n",
      "{ <__main__.Node object at 0x0000028F47FCFE50> 6 , 1 , <__main__.Node object at 0x0000028F47FCCB80> ( None , 0 ) ( None , 0 ) }\n",
      "{ <__main__.Node object at 0x0000028F47FCCB80> 7 , 2 , <__main__.Node object at 0x0000028F47FCFC40> ( 6 , 1 ) ( 8 , 1 ) }\n",
      "{ <__main__.Node object at 0x0000028F47FCFDF0> 8 , 1 , <__main__.Node object at 0x0000028F47FCCB80> ( None , 0 ) ( None , 0 ) }\n",
      "{ <__main__.Node object at 0x0000028F47FCD990> 10 , 5 , None ( 5 , 4 ) ( 15 , 3 ) }\n",
      "{ <__main__.Node object at 0x0000028F47FCF9A0> 12 , 2 , <__main__.Node object at 0x0000028F47FCDD50> ( None , 0 ) ( 14 , 1 ) }\n",
      "{ <__main__.Node object at 0x0000028F47FCC460> 14 , 1 , <__main__.Node object at 0x0000028F47FCF9A0> ( None , 0 ) ( None , 0 ) }\n",
      "{ <__main__.Node object at 0x0000028F47FCDD50> 15 , 3 , <__main__.Node object at 0x0000028F47FCD990> ( 12 , 2 ) ( 17 , 2 ) }\n",
      "{ <__main__.Node object at 0x0000028F47FCE620> 16 , 1 , <__main__.Node object at 0x0000028F47FCFD90> ( None , 0 ) ( None , 0 ) }\n",
      "{ <__main__.Node object at 0x0000028F47FCFD90> 17 , 2 , <__main__.Node object at 0x0000028F47FCDD50> ( 16 , 1 ) ( 18 , 1 ) }\n",
      "{ <__main__.Node object at 0x0000028F47FCE5C0> 18 , 1 , <__main__.Node object at 0x0000028F47FCFD90> ( None , 0 ) ( None , 0 ) }\n",
      "---\n",
      "{ <__main__.Node object at 0x0000028F47FCD990> 10 , 5 , None ( 5 , 4 ) ( 15 , 3 ) }\n",
      "{ <__main__.Node object at 0x0000028F47FCFC40> 5 , 4 , <__main__.Node object at 0x0000028F47FCD990> ( 2 , 3 ) ( 7 , 2 ) }\n",
      "{ <__main__.Node object at 0x0000028F47FCC520> 2 , 3 , <__main__.Node object at 0x0000028F47FCFC40> ( 1 , 1 ) ( 3 , 2 ) }\n",
      "{ <__main__.Node object at 0x0000028F47FCF9D0> 1 , 1 , <__main__.Node object at 0x0000028F47FCC520> ( None , 0 ) ( None , 0 ) }\n",
      "{ <__main__.Node object at 0x0000028F47FCE290> 3 , 2 , <__main__.Node object at 0x0000028F47FCC520> ( None , 0 ) ( 4 , 1 ) }\n",
      "{ <__main__.Node object at 0x0000028F47FB66B0> 4 , 1 , <__main__.Node object at 0x0000028F47FCE290> ( None , 0 ) ( None , 0 ) }\n",
      "{ <__main__.Node object at 0x0000028F47FCCB80> 7 , 2 , <__main__.Node object at 0x0000028F47FCFC40> ( 6 , 1 ) ( 8 , 1 ) }\n",
      "{ <__main__.Node object at 0x0000028F47FCFE50> 6 , 1 , <__main__.Node object at 0x0000028F47FCCB80> ( None , 0 ) ( None , 0 ) }\n",
      "{ <__main__.Node object at 0x0000028F47FCFDF0> 8 , 1 , <__main__.Node object at 0x0000028F47FCCB80> ( None , 0 ) ( None , 0 ) }\n",
      "{ <__main__.Node object at 0x0000028F47FCDD50> 15 , 3 , <__main__.Node object at 0x0000028F47FCD990> ( 12 , 2 ) ( 17 , 2 ) }\n",
      "{ <__main__.Node object at 0x0000028F47FCF9A0> 12 , 2 , <__main__.Node object at 0x0000028F47FCDD50> ( None , 0 ) ( 14 , 1 ) }\n",
      "{ <__main__.Node object at 0x0000028F47FCC460> 14 , 1 , <__main__.Node object at 0x0000028F47FCF9A0> ( None , 0 ) ( None , 0 ) }\n",
      "{ <__main__.Node object at 0x0000028F47FCFD90> 17 , 2 , <__main__.Node object at 0x0000028F47FCDD50> ( 16 , 1 ) ( 18 , 1 ) }\n",
      "{ <__main__.Node object at 0x0000028F47FCE620> 16 , 1 , <__main__.Node object at 0x0000028F47FCFD90> ( None , 0 ) ( None , 0 ) }\n",
      "{ <__main__.Node object at 0x0000028F47FCE5C0> 18 , 1 , <__main__.Node object at 0x0000028F47FCFD90> ( None , 0 ) ( None , 0 ) }\n"
     ]
    }
   ],
   "source": [
    "avl.remove(13)\n",
    "avl.check_balance(avl.root)\n",
    "avl.inorder_Traversal(avl.root)\n",
    "print(\"---\")\n",
    "avl.preorder_Traversal(avl.root)"
   ]
  },
  {
   "cell_type": "code",
   "execution_count": 22,
   "id": "1a814e96-4979-4013-9536-885e4bff26cd",
   "metadata": {},
   "outputs": [
    {
     "name": "stdout",
     "output_type": "stream",
     "text": [
      "{ <__main__.Node object at 0x0000028F47FCF9D0> 1 , 1 , <__main__.Node object at 0x0000028F47FCC520> ( None , 0 ) ( None , 0 ) }\n",
      "{ <__main__.Node object at 0x0000028F47FCC520> 2 , 3 , <__main__.Node object at 0x0000028F47FCFC40> ( 1 , 1 ) ( 3 , 2 ) }\n",
      "{ <__main__.Node object at 0x0000028F47FCE290> 3 , 2 , <__main__.Node object at 0x0000028F47FCC520> ( None , 0 ) ( 4 , 1 ) }\n",
      "{ <__main__.Node object at 0x0000028F47FB66B0> 4 , 1 , <__main__.Node object at 0x0000028F47FCE290> ( None , 0 ) ( None , 0 ) }\n",
      "{ <__main__.Node object at 0x0000028F47FCFC40> 5 , 4 , <__main__.Node object at 0x0000028F47FCD990> ( 2 , 3 ) ( 7 , 2 ) }\n",
      "{ <__main__.Node object at 0x0000028F47FCFE50> 6 , 1 , <__main__.Node object at 0x0000028F47FCCB80> ( None , 0 ) ( None , 0 ) }\n",
      "{ <__main__.Node object at 0x0000028F47FCCB80> 7 , 2 , <__main__.Node object at 0x0000028F47FCFC40> ( 6 , 1 ) ( 8 , 1 ) }\n",
      "{ <__main__.Node object at 0x0000028F47FCFDF0> 8 , 1 , <__main__.Node object at 0x0000028F47FCCB80> ( None , 0 ) ( None , 0 ) }\n",
      "{ <__main__.Node object at 0x0000028F47FCD990> 10 , 5 , None ( 5 , 4 ) ( 15 , 3 ) }\n",
      "{ <__main__.Node object at 0x0000028F47FCF9A0> 12 , 1 , <__main__.Node object at 0x0000028F47FCDD50> ( None , 0 ) ( None , 0 ) }\n",
      "{ <__main__.Node object at 0x0000028F47FCDD50> 15 , 3 , <__main__.Node object at 0x0000028F47FCD990> ( 12 , 1 ) ( 17 , 2 ) }\n",
      "{ <__main__.Node object at 0x0000028F47FCE620> 16 , 1 , <__main__.Node object at 0x0000028F47FCFD90> ( None , 0 ) ( None , 0 ) }\n",
      "{ <__main__.Node object at 0x0000028F47FCFD90> 17 , 2 , <__main__.Node object at 0x0000028F47FCDD50> ( 16 , 1 ) ( 18 , 1 ) }\n",
      "{ <__main__.Node object at 0x0000028F47FCE5C0> 18 , 1 , <__main__.Node object at 0x0000028F47FCFD90> ( None , 0 ) ( None , 0 ) }\n",
      "---\n",
      "{ <__main__.Node object at 0x0000028F47FCD990> 10 , 5 , None ( 5 , 4 ) ( 15 , 3 ) }\n",
      "{ <__main__.Node object at 0x0000028F47FCFC40> 5 , 4 , <__main__.Node object at 0x0000028F47FCD990> ( 2 , 3 ) ( 7 , 2 ) }\n",
      "{ <__main__.Node object at 0x0000028F47FCC520> 2 , 3 , <__main__.Node object at 0x0000028F47FCFC40> ( 1 , 1 ) ( 3 , 2 ) }\n",
      "{ <__main__.Node object at 0x0000028F47FCF9D0> 1 , 1 , <__main__.Node object at 0x0000028F47FCC520> ( None , 0 ) ( None , 0 ) }\n",
      "{ <__main__.Node object at 0x0000028F47FCE290> 3 , 2 , <__main__.Node object at 0x0000028F47FCC520> ( None , 0 ) ( 4 , 1 ) }\n",
      "{ <__main__.Node object at 0x0000028F47FB66B0> 4 , 1 , <__main__.Node object at 0x0000028F47FCE290> ( None , 0 ) ( None , 0 ) }\n",
      "{ <__main__.Node object at 0x0000028F47FCCB80> 7 , 2 , <__main__.Node object at 0x0000028F47FCFC40> ( 6 , 1 ) ( 8 , 1 ) }\n",
      "{ <__main__.Node object at 0x0000028F47FCFE50> 6 , 1 , <__main__.Node object at 0x0000028F47FCCB80> ( None , 0 ) ( None , 0 ) }\n",
      "{ <__main__.Node object at 0x0000028F47FCFDF0> 8 , 1 , <__main__.Node object at 0x0000028F47FCCB80> ( None , 0 ) ( None , 0 ) }\n",
      "{ <__main__.Node object at 0x0000028F47FCDD50> 15 , 3 , <__main__.Node object at 0x0000028F47FCD990> ( 12 , 1 ) ( 17 , 2 ) }\n",
      "{ <__main__.Node object at 0x0000028F47FCF9A0> 12 , 1 , <__main__.Node object at 0x0000028F47FCDD50> ( None , 0 ) ( None , 0 ) }\n",
      "{ <__main__.Node object at 0x0000028F47FCFD90> 17 , 2 , <__main__.Node object at 0x0000028F47FCDD50> ( 16 , 1 ) ( 18 , 1 ) }\n",
      "{ <__main__.Node object at 0x0000028F47FCE620> 16 , 1 , <__main__.Node object at 0x0000028F47FCFD90> ( None , 0 ) ( None , 0 ) }\n",
      "{ <__main__.Node object at 0x0000028F47FCE5C0> 18 , 1 , <__main__.Node object at 0x0000028F47FCFD90> ( None , 0 ) ( None , 0 ) }\n"
     ]
    }
   ],
   "source": [
    "avl.remove(14)\n",
    "avl.check_balance(avl.root)\n",
    "avl.inorder_Traversal(avl.root)\n",
    "print(\"---\")\n",
    "avl.preorder_Traversal(avl.root)"
   ]
  },
  {
   "cell_type": "code",
   "execution_count": 23,
   "id": "cdc72002-2dad-442c-b618-24566dcb249e",
   "metadata": {},
   "outputs": [
    {
     "name": "stdout",
     "output_type": "stream",
     "text": [
      "{ <__main__.Node object at 0x0000028F47FCF9D0> 1 , 1 , <__main__.Node object at 0x0000028F47FCC520> ( None , 0 ) ( None , 0 ) }\n",
      "{ <__main__.Node object at 0x0000028F47FCC520> 2 , 3 , <__main__.Node object at 0x0000028F47FCFC40> ( 1 , 1 ) ( 3 , 2 ) }\n",
      "{ <__main__.Node object at 0x0000028F47FCE290> 3 , 2 , <__main__.Node object at 0x0000028F47FCC520> ( None , 0 ) ( 4 , 1 ) }\n",
      "{ <__main__.Node object at 0x0000028F47FB66B0> 4 , 1 , <__main__.Node object at 0x0000028F47FCE290> ( None , 0 ) ( None , 0 ) }\n",
      "{ <__main__.Node object at 0x0000028F47FCFC40> 5 , 4 , <__main__.Node object at 0x0000028F47FCD990> ( 2 , 3 ) ( 7 , 2 ) }\n",
      "{ <__main__.Node object at 0x0000028F47FCFE50> 6 , 1 , <__main__.Node object at 0x0000028F47FCCB80> ( None , 0 ) ( None , 0 ) }\n",
      "{ <__main__.Node object at 0x0000028F47FCCB80> 7 , 2 , <__main__.Node object at 0x0000028F47FCFC40> ( 6 , 1 ) ( 8 , 1 ) }\n",
      "{ <__main__.Node object at 0x0000028F47FCFDF0> 8 , 1 , <__main__.Node object at 0x0000028F47FCCB80> ( None , 0 ) ( None , 0 ) }\n",
      "{ <__main__.Node object at 0x0000028F47FCD990> 10 , 5 , None ( 5 , 4 ) ( 17 , 3 ) }\n",
      "{ <__main__.Node object at 0x0000028F47FCDD50> 15 , 2 , <__main__.Node object at 0x0000028F47FCFD90> ( None , 0 ) ( 16 , 1 ) }\n",
      "{ <__main__.Node object at 0x0000028F47FCE620> 16 , 1 , <__main__.Node object at 0x0000028F47FCDD50> ( None , 0 ) ( None , 0 ) }\n",
      "{ <__main__.Node object at 0x0000028F47FCFD90> 17 , 3 , <__main__.Node object at 0x0000028F47FCD990> ( 15 , 2 ) ( 18 , 1 ) }\n",
      "{ <__main__.Node object at 0x0000028F47FCE5C0> 18 , 1 , <__main__.Node object at 0x0000028F47FCFD90> ( None , 0 ) ( None , 0 ) }\n",
      "---\n",
      "{ <__main__.Node object at 0x0000028F47FCD990> 10 , 5 , None ( 5 , 4 ) ( 17 , 3 ) }\n",
      "{ <__main__.Node object at 0x0000028F47FCFC40> 5 , 4 , <__main__.Node object at 0x0000028F47FCD990> ( 2 , 3 ) ( 7 , 2 ) }\n",
      "{ <__main__.Node object at 0x0000028F47FCC520> 2 , 3 , <__main__.Node object at 0x0000028F47FCFC40> ( 1 , 1 ) ( 3 , 2 ) }\n",
      "{ <__main__.Node object at 0x0000028F47FCF9D0> 1 , 1 , <__main__.Node object at 0x0000028F47FCC520> ( None , 0 ) ( None , 0 ) }\n",
      "{ <__main__.Node object at 0x0000028F47FCE290> 3 , 2 , <__main__.Node object at 0x0000028F47FCC520> ( None , 0 ) ( 4 , 1 ) }\n",
      "{ <__main__.Node object at 0x0000028F47FB66B0> 4 , 1 , <__main__.Node object at 0x0000028F47FCE290> ( None , 0 ) ( None , 0 ) }\n",
      "{ <__main__.Node object at 0x0000028F47FCCB80> 7 , 2 , <__main__.Node object at 0x0000028F47FCFC40> ( 6 , 1 ) ( 8 , 1 ) }\n",
      "{ <__main__.Node object at 0x0000028F47FCFE50> 6 , 1 , <__main__.Node object at 0x0000028F47FCCB80> ( None , 0 ) ( None , 0 ) }\n",
      "{ <__main__.Node object at 0x0000028F47FCFDF0> 8 , 1 , <__main__.Node object at 0x0000028F47FCCB80> ( None , 0 ) ( None , 0 ) }\n",
      "{ <__main__.Node object at 0x0000028F47FCFD90> 17 , 3 , <__main__.Node object at 0x0000028F47FCD990> ( 15 , 2 ) ( 18 , 1 ) }\n",
      "{ <__main__.Node object at 0x0000028F47FCDD50> 15 , 2 , <__main__.Node object at 0x0000028F47FCFD90> ( None , 0 ) ( 16 , 1 ) }\n",
      "{ <__main__.Node object at 0x0000028F47FCE620> 16 , 1 , <__main__.Node object at 0x0000028F47FCDD50> ( None , 0 ) ( None , 0 ) }\n",
      "{ <__main__.Node object at 0x0000028F47FCE5C0> 18 , 1 , <__main__.Node object at 0x0000028F47FCFD90> ( None , 0 ) ( None , 0 ) }\n"
     ]
    }
   ],
   "source": [
    "avl.remove(12)\n",
    "avl.check_balance(avl.root)\n",
    "avl.inorder_Traversal(avl.root)\n",
    "print(\"---\")\n",
    "avl.preorder_Traversal(avl.root)"
   ]
  },
  {
   "cell_type": "code",
   "execution_count": 24,
   "id": "fd7b0780-075b-4eaa-8a29-7f28a3016cdc",
   "metadata": {},
   "outputs": [
    {
     "name": "stdout",
     "output_type": "stream",
     "text": [
      "{ <__main__.Node object at 0x0000028F47FCF9D0> 1 , 1 , <__main__.Node object at 0x0000028F47FCC520> ( None , 0 ) ( None , 0 ) }\n",
      "{ <__main__.Node object at 0x0000028F47FCC520> 2 , 3 , <__main__.Node object at 0x0000028F47FCFC40> ( 1 , 1 ) ( 3 , 2 ) }\n",
      "{ <__main__.Node object at 0x0000028F47FCE290> 3 , 2 , <__main__.Node object at 0x0000028F47FCC520> ( None , 0 ) ( 4 , 1 ) }\n",
      "{ <__main__.Node object at 0x0000028F47FB66B0> 4 , 1 , <__main__.Node object at 0x0000028F47FCE290> ( None , 0 ) ( None , 0 ) }\n",
      "{ <__main__.Node object at 0x0000028F47FCFC40> 5 , 4 , <__main__.Node object at 0x0000028F47FCD990> ( 2 , 3 ) ( 7 , 2 ) }\n",
      "{ <__main__.Node object at 0x0000028F47FCFE50> 6 , 1 , <__main__.Node object at 0x0000028F47FCCB80> ( None , 0 ) ( None , 0 ) }\n",
      "{ <__main__.Node object at 0x0000028F47FCCB80> 7 , 2 , <__main__.Node object at 0x0000028F47FCFC40> ( 6 , 1 ) ( None , 0 ) }\n",
      "{ <__main__.Node object at 0x0000028F47FCD990> 8 , 5 , None ( 5 , 4 ) ( 17 , 3 ) }\n",
      "{ <__main__.Node object at 0x0000028F47FCDD50> 15 , 2 , <__main__.Node object at 0x0000028F47FCFD90> ( None , 0 ) ( 16 , 1 ) }\n",
      "{ <__main__.Node object at 0x0000028F47FCE620> 16 , 1 , <__main__.Node object at 0x0000028F47FCDD50> ( None , 0 ) ( None , 0 ) }\n",
      "{ <__main__.Node object at 0x0000028F47FCFD90> 17 , 3 , <__main__.Node object at 0x0000028F47FCD990> ( 15 , 2 ) ( 18 , 1 ) }\n",
      "{ <__main__.Node object at 0x0000028F47FCE5C0> 18 , 1 , <__main__.Node object at 0x0000028F47FCFD90> ( None , 0 ) ( None , 0 ) }\n",
      "---\n",
      "{ <__main__.Node object at 0x0000028F47FCD990> 8 , 5 , None ( 5 , 4 ) ( 17 , 3 ) }\n",
      "{ <__main__.Node object at 0x0000028F47FCFC40> 5 , 4 , <__main__.Node object at 0x0000028F47FCD990> ( 2 , 3 ) ( 7 , 2 ) }\n",
      "{ <__main__.Node object at 0x0000028F47FCC520> 2 , 3 , <__main__.Node object at 0x0000028F47FCFC40> ( 1 , 1 ) ( 3 , 2 ) }\n",
      "{ <__main__.Node object at 0x0000028F47FCF9D0> 1 , 1 , <__main__.Node object at 0x0000028F47FCC520> ( None , 0 ) ( None , 0 ) }\n",
      "{ <__main__.Node object at 0x0000028F47FCE290> 3 , 2 , <__main__.Node object at 0x0000028F47FCC520> ( None , 0 ) ( 4 , 1 ) }\n",
      "{ <__main__.Node object at 0x0000028F47FB66B0> 4 , 1 , <__main__.Node object at 0x0000028F47FCE290> ( None , 0 ) ( None , 0 ) }\n",
      "{ <__main__.Node object at 0x0000028F47FCCB80> 7 , 2 , <__main__.Node object at 0x0000028F47FCFC40> ( 6 , 1 ) ( None , 0 ) }\n",
      "{ <__main__.Node object at 0x0000028F47FCFE50> 6 , 1 , <__main__.Node object at 0x0000028F47FCCB80> ( None , 0 ) ( None , 0 ) }\n",
      "{ <__main__.Node object at 0x0000028F47FCFD90> 17 , 3 , <__main__.Node object at 0x0000028F47FCD990> ( 15 , 2 ) ( 18 , 1 ) }\n",
      "{ <__main__.Node object at 0x0000028F47FCDD50> 15 , 2 , <__main__.Node object at 0x0000028F47FCFD90> ( None , 0 ) ( 16 , 1 ) }\n",
      "{ <__main__.Node object at 0x0000028F47FCE620> 16 , 1 , <__main__.Node object at 0x0000028F47FCDD50> ( None , 0 ) ( None , 0 ) }\n",
      "{ <__main__.Node object at 0x0000028F47FCE5C0> 18 , 1 , <__main__.Node object at 0x0000028F47FCFD90> ( None , 0 ) ( None , 0 ) }\n"
     ]
    }
   ],
   "source": [
    "avl.remove(10)\n",
    "avl.check_balance(avl.root)\n",
    "avl.inorder_Traversal(avl.root)\n",
    "print(\"---\")\n",
    "avl.preorder_Traversal(avl.root)"
   ]
  }
 ],
 "metadata": {
  "kernelspec": {
   "display_name": "Python 3 (ipykernel)",
   "language": "python",
   "name": "python3"
  },
  "language_info": {
   "codemirror_mode": {
    "name": "ipython",
    "version": 3
   },
   "file_extension": ".py",
   "mimetype": "text/x-python",
   "name": "python",
   "nbconvert_exporter": "python",
   "pygments_lexer": "ipython3",
   "version": "3.10.9"
  }
 },
 "nbformat": 4,
 "nbformat_minor": 5
}
