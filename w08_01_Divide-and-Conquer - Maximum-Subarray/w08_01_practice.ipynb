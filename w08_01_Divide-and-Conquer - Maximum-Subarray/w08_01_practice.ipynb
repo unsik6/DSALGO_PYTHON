{
 "cells": [
  {
   "cell_type": "markdown",
   "id": "7c568d89-cdf2-4b97-b971-5d061cc20d33",
   "metadata": {},
   "source": [
    "# Week 8 : Maximum subarray problem solution with Divide-and-Conquer"
   ]
  },
  {
   "cell_type": "code",
   "execution_count": 1,
   "id": "51e61d07-ac86-44f1-9f70-be3a3b54625c",
   "metadata": {},
   "outputs": [
    {
     "name": "stdin",
     "output_type": "stream",
     "text": [
      " 10\n",
      " 10 -4 3 1 5 6 -35 12 21 -1\n"
     ]
    },
    {
     "name": "stdout",
     "output_type": "stream",
     "text": [
      "33\n"
     ]
    }
   ],
   "source": [
    "n = int(input())\n",
    "numbers = list(map(int, input().split()))\n",
    "\n",
    "def cross_max_subarray(low, mid, high):\n",
    "    left_max_sum = -2e8\n",
    "    left_sum = 0\n",
    "    for i in range(mid, low - 1, -1):\n",
    "        left_sum = left_sum + numbers[i]\n",
    "        if left_sum > left_max_sum:\n",
    "            left_max_sum = left_sum\n",
    "    \n",
    "    right_max_sum = -2e8\n",
    "    right_sum = 0\n",
    "    for i in range(mid + 1, high + 1):\n",
    "        right_sum = right_sum + numbers[i]\n",
    "        if right_sum > right_max_sum:\n",
    "            right_max_sum = right_sum\n",
    "    return left_max_sum + right_max_sum\n",
    "\n",
    "def max_subarray(low, high):\n",
    "    if low == high:\n",
    "        return numbers[low]\n",
    "    mid = (low + high) // 2\n",
    "    left_max_sub = max_subarray(low, mid)\n",
    "    right_max_sub = max_subarray(mid + 1, high)\n",
    "    cross_max_sub = cross_max_subarray(low, mid, high)\n",
    "    return max(left_max_sub, right_max_sub, cross_max_sub)\n",
    "\n",
    "print(max_subarray(0, n - 1))"
   ]
  }
 ],
 "metadata": {
  "kernelspec": {
   "display_name": "Python 3 (ipykernel)",
   "language": "python",
   "name": "python3"
  },
  "language_info": {
   "codemirror_mode": {
    "name": "ipython",
    "version": 3
   },
   "file_extension": ".py",
   "mimetype": "text/x-python",
   "name": "python",
   "nbconvert_exporter": "python",
   "pygments_lexer": "ipython3",
   "version": "3.10.9"
  }
 },
 "nbformat": 4,
 "nbformat_minor": 5
}
