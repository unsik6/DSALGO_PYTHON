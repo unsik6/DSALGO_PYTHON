{
 "cells": [
  {
   "cell_type": "markdown",
   "id": "0bc81577-791f-46a6-b735-e6dc9ee70ab1",
   "metadata": {},
   "source": [
    "# Week 2: Priority Queue: Heap"
   ]
  },
  {
   "cell_type": "code",
   "execution_count": 1,
   "id": "7e70d85a-4492-48a2-8946-f0ec434cf315",
   "metadata": {},
   "outputs": [],
   "source": [
    "class Min_Heap:\n",
    "    def __init__(self):\n",
    "        self.ls = [None]\n",
    "        self.size = 0\n",
    "    \n",
    "    def upHeap(self):\n",
    "        curIndex = self.size\n",
    "        while curIndex // 2 > 0:\n",
    "            if self.ls[curIndex] < self.ls[curIndex // 2]:\n",
    "                tmp = self.ls[curIndex]\n",
    "                self.ls[curIndex] = self.ls[curIndex // 2]\n",
    "                self.ls[curIndex // 2] = tmp\n",
    "            else: break\n",
    "            curIndex = curIndex // 2\n",
    "    \n",
    "    def insert(self, e):\n",
    "        # 만약 Heap.removeMin을 할 때 실제로 list의 값을 제거한다면,\n",
    "        # 아래의 if문 처리 없이 append만 해도 된다.\n",
    "        if len(self.ls) - 1 > self.size:\n",
    "            self.ls[self.size + 1] = e\n",
    "        else: self.ls.append(e)\n",
    "        self.size += 1\n",
    "        self.upHeap()\n",
    "    \n",
    "    def getMin(self):\n",
    "        if self.size == 0:\n",
    "            print(\"ERROR: EMPTY HEAP\")\n",
    "            return\n",
    "        return self.ls[1]\n",
    "\n",
    "    def downHeap(self):\n",
    "        curIndex = 1\n",
    "        while curIndex * 2 <= self.size:\n",
    "            minIdx = curIndex\n",
    "            if self.ls[minIdx] > self.ls[curIndex * 2]:\n",
    "                minIdx = curIndex * 2\n",
    "            if curIndex * 2 + 1 <= self.size and self.ls[minIdx] > self.ls[curIndex * 2 + 1]:\n",
    "                minIdx = curIndex * 2 + 1\n",
    "                \n",
    "            if minIdx != curIndex:\n",
    "                tmp = self.ls[minIdx]\n",
    "                self.ls[minIdx] = self.ls[curIndex]\n",
    "                self.ls[curIndex] = tmp\n",
    "                curIndex = minIdx\n",
    "            else: break\n",
    "    \n",
    "    def removeMin(self):\n",
    "        if self.size < 1:\n",
    "            print(\"ERROR: EMPTY HEAP\")\n",
    "            return\n",
    "\n",
    "        self.ls[1] = self.ls[self.size]\n",
    "        self.size -= 1\n",
    "        self.downHeap()"
   ]
  }
 ],
 "metadata": {
  "kernelspec": {
   "display_name": "Python 3 (ipykernel)",
   "language": "python",
   "name": "python3"
  },
  "language_info": {
   "codemirror_mode": {
    "name": "ipython",
    "version": 3
   },
   "file_extension": ".py",
   "mimetype": "text/x-python",
   "name": "python",
   "nbconvert_exporter": "python",
   "pygments_lexer": "ipython3",
   "version": "3.10.9"
  }
 },
 "nbformat": 4,
 "nbformat_minor": 5
}
