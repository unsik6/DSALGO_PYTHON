{
 "cells": [
  {
   "cell_type": "markdown",
   "id": "56a8e5b6-fb49-431c-a827-a9c4bf671ee5",
   "metadata": {},
   "source": [
    "# Week 2: Priority_queue: Heap - BOJ 1927\n",
    "\n",
    "- input으로 하면 시간초과 발생합니다.\n",
    "- 제출시에는 sys.stdin.readline으로 바꿔주세요."
   ]
  },
  {
   "cell_type": "code",
   "execution_count": 1,
   "id": "ef7e0167-b943-419b-9cdf-a6098f1ebd9d",
   "metadata": {},
   "outputs": [
    {
     "name": "stdin",
     "output_type": "stream",
     "text": [
      " 9\n",
      " 0\n"
     ]
    },
    {
     "name": "stdout",
     "output_type": "stream",
     "text": [
      "0\n"
     ]
    },
    {
     "name": "stdin",
     "output_type": "stream",
     "text": [
      " 12345678\n",
      " 1\n",
      " 2\n",
      " 0\n"
     ]
    },
    {
     "name": "stdout",
     "output_type": "stream",
     "text": [
      "1\n"
     ]
    },
    {
     "name": "stdin",
     "output_type": "stream",
     "text": [
      " 0\n"
     ]
    },
    {
     "name": "stdout",
     "output_type": "stream",
     "text": [
      "2\n"
     ]
    },
    {
     "name": "stdin",
     "output_type": "stream",
     "text": [
      " 0\n"
     ]
    },
    {
     "name": "stdout",
     "output_type": "stream",
     "text": [
      "12345678\n"
     ]
    },
    {
     "name": "stdin",
     "output_type": "stream",
     "text": [
      " 0\n"
     ]
    },
    {
     "name": "stdout",
     "output_type": "stream",
     "text": [
      "0\n"
     ]
    },
    {
     "name": "stdin",
     "output_type": "stream",
     "text": [
      " 32\n"
     ]
    }
   ],
   "source": [
    "import sys\n",
    "\n",
    "class Min_Heap:\n",
    "    def __init__(self):\n",
    "        self.ls = [None]\n",
    "        self.size = 0\n",
    "    \n",
    "    def upHeap(self):\n",
    "        curIndex = self.size\n",
    "        while curIndex // 2 > 0:\n",
    "            if self.ls[curIndex] < self.ls[curIndex // 2]:\n",
    "                tmp = self.ls[curIndex]\n",
    "                self.ls[curIndex] = self.ls[curIndex // 2]\n",
    "                self.ls[curIndex // 2] = tmp\n",
    "            else: break\n",
    "            curIndex //= 2\n",
    "    \n",
    "    def insert(self, e):\n",
    "        if len(self.ls) - 1 > self.size:\n",
    "            self.ls[self.size + 1] = e\n",
    "        else: self.ls.append(e)\n",
    "        self.size += 1\n",
    "        self.upHeap()\n",
    "\n",
    "    def downHeap(self):\n",
    "        curIndex = 1\n",
    "        while curIndex * 2 <= self.size:\n",
    "            minIdx = curIndex\n",
    "            if self.ls[minIdx] > self.ls[curIndex * 2]:\n",
    "                minIdx = curIndex * 2\n",
    "            if curIndex * 2 + 1 <= self.size:\n",
    "                if self.ls[minIdx] > self.ls[curIndex * 2 + 1]:\n",
    "                    minIdx = curIndex * 2 + 1\n",
    "                \n",
    "            if minIdx != curIndex:\n",
    "                tmp = self.ls[minIdx]\n",
    "                self.ls[minIdx] = self.ls[curIndex]\n",
    "                self.ls[curIndex] = tmp\n",
    "                curIndex = minIdx\n",
    "            else: break\n",
    "    \n",
    "    def removeMin(self):\n",
    "        if self.size < 1:\n",
    "            return 0\n",
    "\n",
    "        res = self.ls[1]\n",
    "        self.ls[1] = self.ls[self.size]\n",
    "        self.size -= 1\n",
    "        self.downHeap()\n",
    "        return res\n",
    "\n",
    "N = int(input())\n",
    "\n",
    "heap = Min_Heap()\n",
    "\n",
    "for n in range(N):\n",
    "    x = int(input())\n",
    "    if x == 0:\n",
    "        res = heap.removeMin()\n",
    "        print(res)\n",
    "    else:\n",
    "        heap.insert(x)"
   ]
  },
  {
   "cell_type": "markdown",
   "id": "f147ad9a-dac8-4539-b027-49e42e36bfc2",
   "metadata": {},
   "source": [
    "# Week 2: Priority_queue: Heap - BOJ 1927\n",
    "\n",
    "- Python에서는 Min-Heap을 heapq 모듈에서 제공한다.\n",
    "- Max-Heap으로 사용하고 싶다면, 요소의 값에 -1을 곱한다.\n",
    "\n",
    "- input으로 하면 시간초과 발생합니다.\n",
    "- 제출시에는 sys.stdin.readline으로 바꿔주세요."
   ]
  },
  {
   "cell_type": "code",
   "execution_count": 2,
   "id": "88a8de02-684c-4d6d-99cc-16e792b5f6bb",
   "metadata": {},
   "outputs": [
    {
     "name": "stdin",
     "output_type": "stream",
     "text": [
      " 9\n",
      " 0\n"
     ]
    },
    {
     "name": "stdout",
     "output_type": "stream",
     "text": [
      "0\n"
     ]
    },
    {
     "name": "stdin",
     "output_type": "stream",
     "text": [
      " 12345678\n",
      " 1\n",
      " 2\n",
      " 0\n"
     ]
    },
    {
     "name": "stdout",
     "output_type": "stream",
     "text": [
      "1\n"
     ]
    },
    {
     "name": "stdin",
     "output_type": "stream",
     "text": [
      " 0\n"
     ]
    },
    {
     "name": "stdout",
     "output_type": "stream",
     "text": [
      "2\n"
     ]
    },
    {
     "name": "stdin",
     "output_type": "stream",
     "text": [
      " 0\n"
     ]
    },
    {
     "name": "stdout",
     "output_type": "stream",
     "text": [
      "12345678\n"
     ]
    },
    {
     "name": "stdin",
     "output_type": "stream",
     "text": [
      " 0\n"
     ]
    },
    {
     "name": "stdout",
     "output_type": "stream",
     "text": [
      "0\n"
     ]
    },
    {
     "name": "stdin",
     "output_type": "stream",
     "text": [
      " 32\n"
     ]
    }
   ],
   "source": [
    "import sys\n",
    "import heapq\n",
    "\n",
    "N = int(input())\n",
    "\n",
    "min_heap = []\n",
    "\n",
    "for _ in range(N):\n",
    "    x = int(input())\n",
    "    \n",
    "    if x == 0:\n",
    "        if len(min_heap):\n",
    "            print(heapq.heappop(min_heap))\n",
    "        else:\n",
    "            print(0)\n",
    "    else:\n",
    "        heapq.heappush(min_heap, x)"
   ]
  },
  {
   "cell_type": "markdown",
   "id": "0a676cf1-6225-4cbc-a004-45351f071aa7",
   "metadata": {},
   "source": [
    "# Week 2: Priority_queue: Selection Sort - BOJ 2750"
   ]
  },
  {
   "cell_type": "code",
   "execution_count": 4,
   "id": "5e4c7cac-0927-4a84-9d89-586a0c9fb848",
   "metadata": {},
   "outputs": [
    {
     "name": "stdin",
     "output_type": "stream",
     "text": [
      " 5\n",
      " 5\n",
      " 2\n",
      " 3\n",
      " 4\n",
      " 1\n"
     ]
    },
    {
     "name": "stdout",
     "output_type": "stream",
     "text": [
      "1\n",
      "2\n",
      "3\n",
      "4\n",
      "5\n"
     ]
    }
   ],
   "source": [
    "N = int(input())\n",
    "numbers = []\n",
    "for _ in range(N):\n",
    "    numbers.append(int(input()))\n",
    "\n",
    "for i in range(N):\n",
    "    for j in range(i+1, N):\n",
    "        if numbers[i] > numbers[j]:\n",
    "            tmp = numbers[i]\n",
    "            numbers[i] = numbers[j]\n",
    "            numbers[j] = tmp\n",
    "for e in numbers:\n",
    "    print(e)"
   ]
  },
  {
   "cell_type": "markdown",
   "id": "5ab75e1e-5207-45d7-afa5-a9e21fb62584",
   "metadata": {},
   "source": [
    "# Week 2: Priority_queue: Insertion Sort - BOJ 2750"
   ]
  },
  {
   "cell_type": "code",
   "execution_count": 5,
   "id": "7634c00c-80a4-4f0f-9eaf-91bcb0f9867f",
   "metadata": {},
   "outputs": [
    {
     "name": "stdin",
     "output_type": "stream",
     "text": [
      " 5\n",
      " 5\n",
      " 2\n",
      " 3\n",
      " 4\n",
      " 1\n"
     ]
    },
    {
     "name": "stdout",
     "output_type": "stream",
     "text": [
      "1\n",
      "2\n",
      "3\n",
      "4\n",
      "5\n"
     ]
    }
   ],
   "source": [
    "numbers = []\n",
    "for _ in range(int(input())):\n",
    "    numbers.append(int(input()))\n",
    "\n",
    "for i in range(1, len(numbers)):\n",
    "    while i > 0 and numbers[i] < numbers[i-1]:\n",
    "        numbers[i], numbers[i-1] = numbers[i-1], numbers[i]\n",
    "        i -= 1\n",
    "\n",
    "for e in numbers:\n",
    "    print(e)"
   ]
  }
 ],
 "metadata": {
  "kernelspec": {
   "display_name": "Python 3 (ipykernel)",
   "language": "python",
   "name": "python3"
  },
  "language_info": {
   "codemirror_mode": {
    "name": "ipython",
    "version": 3
   },
   "file_extension": ".py",
   "mimetype": "text/x-python",
   "name": "python",
   "nbconvert_exporter": "python",
   "pygments_lexer": "ipython3",
   "version": "3.10.9"
  }
 },
 "nbformat": 4,
 "nbformat_minor": 5
}
