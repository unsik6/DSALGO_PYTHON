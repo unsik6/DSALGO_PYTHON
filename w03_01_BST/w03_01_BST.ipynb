{
 "cells": [
  {
   "cell_type": "markdown",
   "id": "42ecef20-8c63-4b3a-8d74-cc555f66b242",
   "metadata": {},
   "source": [
    "# Week 3: Binary Search Tree"
   ]
  },
  {
   "cell_type": "code",
   "execution_count": 1,
   "id": "491a144d-6438-467d-9bf5-7a55785c7982",
   "metadata": {},
   "outputs": [],
   "source": [
    "class Node:\n",
    "    def __init__(self, e = None, par = None):\n",
    "        self.elem = e\n",
    "        self.left = Node(None, self) if e != None else None\n",
    "        self.right = Node(None, self) if e != None else None\n",
    "        self.parent = par\n",
    "    \n",
    "    def isExternal(self):\n",
    "        if self.left == None and self.right == None:\n",
    "            return True\n",
    "        else: return False"
   ]
  },
  {
   "cell_type": "code",
   "execution_count": 2,
   "id": "98660780-4084-42fd-b2b3-d8daaa4b0393",
   "metadata": {},
   "outputs": [],
   "source": [
    "class BST:\n",
    "    def __init__(self):\n",
    "        self.root = None\n",
    "    \n",
    "    def insert(self, e):\n",
    "        new_node = Node(e)\n",
    "        if self.root == None:\n",
    "            self.root = new_node\n",
    "        else:\n",
    "            cur_node = self.root\n",
    "            while not cur_node.isExternal():\n",
    "                if cur_node.elem >= e:\n",
    "                    cur_node = cur_node.left\n",
    "                else: cur_node = cur_node.right\n",
    "            old = cur_node\n",
    "            if cur_node.parent.left == cur_node:\n",
    "                cur_node.parent.left = new_node\n",
    "            else: cur_node.parent.right = new_node\n",
    "            new_node.parent = cur_node.parent\n",
    "            del old\n",
    "    \n",
    "    def search(self, e):\n",
    "        if self.root == None:\n",
    "            print(\"ERROR: EMPTY EXCEPTION\")\n",
    "            return None\n",
    "        \n",
    "        cur_node = self.root\n",
    "        while cur_node.elem != None:\n",
    "            if cur_node.elem > e: \n",
    "                cur_node = cur_node.left\n",
    "            elif cur_node.elem < e:\n",
    "                cur_node = cur_node.right\n",
    "            else: break\n",
    "        \n",
    "        if cur_node.elem == None:\n",
    "            print(\"ERROR: There is no node with \", e)\n",
    "            return None\n",
    "        else: return cur_node\n",
    "    \n",
    "    def getPredecessor(self, node : Node):\n",
    "        node = node.left\n",
    "        while not node.right.isExternal():\n",
    "            node = node.right\n",
    "        return node\n",
    "    \n",
    "    def remove(self, e):\n",
    "        if self.root == None:\n",
    "            print(\"ERROR: EMPTY EXCEPTION\")\n",
    "            return\n",
    "        \n",
    "        target_node = self.search(e)\n",
    "        tmp = None\n",
    "        if target_node == None:\n",
    "            return\n",
    "        else:\n",
    "            if target_node.left.isExternal() and target_node.right.isExternal():\n",
    "                tmp = Node()\n",
    "            elif target_node.left.isExternal():\n",
    "                tmp = target_node.right\n",
    "            elif target_node.right.isExternal():\n",
    "                tmp = target_node.left\n",
    "            \n",
    "            if not target_node.left.isExternal() and not target_node.right.isExternal():\n",
    "                pred = self.getPredecessor(target_node)\n",
    "                target_node.elem = pred.elem\n",
    "                if pred.parent == target_node:\n",
    "                    target_node.left = pred.left\n",
    "                else:\n",
    "                    pred.parent.right = pred.left\n",
    "                del pred\n",
    "            else:\n",
    "                if target_node.parent.left == target_node: target_node.parent.left = tmp\n",
    "                else: target_node.parent.right = t\n",
    "                if target_node == self.root: self.root = None\n",
    "                del target_node\n",
    "    \n",
    "    def inorderTraversal(self, node : Node):\n",
    "        if not node.left.isExternal():\n",
    "            self.inorderTraversal(node.left)\n",
    "            \n",
    "        print(node.elem, end = ' ')\n",
    "        \n",
    "        if not node.right.isExternal():\n",
    "            self.inorderTraversal(node.right)        "
   ]
  },
  {
   "cell_type": "code",
   "execution_count": 3,
   "id": "d12b5095-fbc6-4193-bb76-f432acf616af",
   "metadata": {},
   "outputs": [],
   "source": [
    "bst = BST()"
   ]
  },
  {
   "cell_type": "code",
   "execution_count": 4,
   "id": "49c669c4-de26-43f6-bca2-bc9c8ac6935d",
   "metadata": {},
   "outputs": [],
   "source": [
    "bst.insert(50)\n",
    "bst.insert(30)\n",
    "bst.insert(98)\n",
    "bst.insert(24)\n",
    "bst.insert(5)\n",
    "bst.insert(45)\n",
    "bst.insert(60)\n",
    "bst.insert(52)"
   ]
  },
  {
   "cell_type": "code",
   "execution_count": 5,
   "id": "96782275-0e23-45c7-9708-8ceab4679cd9",
   "metadata": {},
   "outputs": [
    {
     "data": {
      "text/plain": [
       "<__main__.Node at 0x1498cfd8df0>"
      ]
     },
     "execution_count": 5,
     "metadata": {},
     "output_type": "execute_result"
    }
   ],
   "source": [
    "bst.search(30)"
   ]
  },
  {
   "cell_type": "code",
   "execution_count": 6,
   "id": "b5e24e25-c751-4d41-b160-b49fa37641ca",
   "metadata": {},
   "outputs": [
    {
     "name": "stdout",
     "output_type": "stream",
     "text": [
      "30\n",
      "24\n",
      "52\n",
      "ERROR: There is no node with  1\n",
      "None\n"
     ]
    }
   ],
   "source": [
    "print(bst.search(30).elem)\n",
    "print(bst.search(5).parent.elem)\n",
    "print(bst.search(60).left.elem)\n",
    "print(bst.search(1))"
   ]
  },
  {
   "cell_type": "code",
   "execution_count": 7,
   "id": "cfbcffee-8132-4f75-8f55-adc8bb1416cc",
   "metadata": {},
   "outputs": [
    {
     "name": "stdout",
     "output_type": "stream",
     "text": [
      "5 24 30 45 50 52 60 98 "
     ]
    }
   ],
   "source": [
    "bst.inorderTraversal(bst.root)"
   ]
  },
  {
   "cell_type": "code",
   "execution_count": 8,
   "id": "dc11fd0c-a31c-4052-af84-298917859209",
   "metadata": {},
   "outputs": [
    {
     "name": "stdout",
     "output_type": "stream",
     "text": [
      "True True\n"
     ]
    }
   ],
   "source": [
    "print(bst.search(5).left.isExternal(), bst.search(5).right.isExternal())\n",
    "bst.remove(5)"
   ]
  },
  {
   "cell_type": "code",
   "execution_count": 9,
   "id": "62ba3c96-9a8d-4f2e-ab0e-d13eb5fd0acf",
   "metadata": {},
   "outputs": [
    {
     "name": "stdout",
     "output_type": "stream",
     "text": [
      "24 30 45 50 52 60 98 "
     ]
    }
   ],
   "source": [
    "bst.inorderTraversal(bst.root)"
   ]
  },
  {
   "cell_type": "code",
   "execution_count": 10,
   "id": "7272a225-5229-44d5-af47-a1de964dee83",
   "metadata": {},
   "outputs": [
    {
     "name": "stdout",
     "output_type": "stream",
     "text": [
      "24 30 45 52 60 98 "
     ]
    }
   ],
   "source": [
    "bst.remove(50)\n",
    "bst.inorderTraversal(bst.root)"
   ]
  },
  {
   "cell_type": "code",
   "execution_count": 11,
   "id": "dd78a24b-2929-47af-8f25-1b56cfb30833",
   "metadata": {},
   "outputs": [
    {
     "name": "stdout",
     "output_type": "stream",
     "text": [
      "False True\n"
     ]
    }
   ],
   "source": [
    "print(bst.search(60).left.isExternal(), bst.search(60).right.isExternal())\n",
    "bst.remove(60)"
   ]
  },
  {
   "cell_type": "code",
   "execution_count": 12,
   "id": "717a928b-6b8b-47a2-adfa-111c38965a19",
   "metadata": {},
   "outputs": [
    {
     "name": "stdout",
     "output_type": "stream",
     "text": [
      "24 30 45 52 98 "
     ]
    }
   ],
   "source": [
    "bst.inorderTraversal(bst.root)"
   ]
  }
 ],
 "metadata": {
  "kernelspec": {
   "display_name": "Python 3 (ipykernel)",
   "language": "python",
   "name": "python3"
  },
  "language_info": {
   "codemirror_mode": {
    "name": "ipython",
    "version": 3
   },
   "file_extension": ".py",
   "mimetype": "text/x-python",
   "name": "python",
   "nbconvert_exporter": "python",
   "pygments_lexer": "ipython3",
   "version": "3.10.9"
  }
 },
 "nbformat": 4,
 "nbformat_minor": 5
}
