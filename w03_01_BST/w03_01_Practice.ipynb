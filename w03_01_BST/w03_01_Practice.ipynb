{
 "cells": [
  {
   "cell_type": "markdown",
   "id": "1dd5a39c-c425-4add-ac8b-e2f0fc026732",
   "metadata": {},
   "source": [
    "# Week 3: Binary Search - BOJ 1920"
   ]
  },
  {
   "cell_type": "code",
   "execution_count": 1,
   "id": "fd295fda-2de7-4962-9d1d-e84d8de39be2",
   "metadata": {},
   "outputs": [
    {
     "name": "stdout",
     "output_type": "stream",
     "text": [
      " 5\n",
      " 4 1 5 2 3\n",
      " 5\n",
      " 1 3 7 9 5\n"
     ]
    },
    {
     "name": "stdout",
     "output_type": "stream",
     "text": [
      "1\n",
      "1\n",
      "0\n",
      "0\n",
      "1\n"
     ]
    }
   ],
   "source": [
    "def binary_search(ls : list, e):\n",
    "    l, r = 0, len(ls) - 1\n",
    "    while l <= r:\n",
    "        mid = int((l + r) / 2)\n",
    "        if ls[mid] == e:\n",
    "            return 1\n",
    "        elif ls[mid] > e:\n",
    "            r = mid - 1\n",
    "        else: l = mid + 1\n",
    "    return 0\n",
    "\n",
    "N = int(input())\n",
    "numbers = list(map(int, input().split()))\n",
    "M = int(input())\n",
    "queries = list(map(int, input().split()))\n",
    "numbers = sorted(numbers)\n",
    "\n",
    "for q in queries:\n",
    "    print(binary_search(numbers, q))"
   ]
  },
  {
   "cell_type": "markdown",
   "id": "575e26c0-684a-4c9e-b84e-c6e1d8a8a111",
   "metadata": {},
   "source": [
    "# Week 3: Lower_bound & Upper_bound - BOJ 10816"
   ]
  },
  {
   "cell_type": "code",
   "execution_count": 2,
   "id": "c6488364-a202-45cc-8fa4-2041c26af12a",
   "metadata": {},
   "outputs": [
    {
     "name": "stdout",
     "output_type": "stream",
     "text": [
      " 10\n",
      " 6 3 2 10 10 10 -10 -10 7 3\n",
      " 8\n",
      " 10 9 -5 2 3 4 5 -10\n"
     ]
    },
    {
     "name": "stdout",
     "output_type": "stream",
     "text": [
      "3 0 0 1 2 0 0 2 "
     ]
    }
   ],
   "source": [
    "def lower_bound(ls : list, e):\n",
    "    l = 0\n",
    "    r = len(ls) - 1\n",
    "    while l < r:\n",
    "        mid = int((l+r)/2)\n",
    "        if ls[mid] >= e:\n",
    "            r = mid\n",
    "        else: l =  mid + 1\n",
    "    if ls[l] < e: l = len(ls) # ls[l]이 e보다 크면, e가 없지만 e보다 큰 값은 존재하여 그 인덱스를 반환\n",
    "                            # 하지만 ls[1]이 e보다 작으면, 알고리즘 과정상 l이 n 이상이 되지 않음으로 인해 발생한 문제이므로, n을 반환\n",
    "    return l\n",
    "\n",
    "def upper_bound(ls : list, e):\n",
    "    l = 0\n",
    "    r = len(ls) - 1\n",
    "    while l < r:\n",
    "        mid = int((l+r)/2)\n",
    "        if ls[mid] > e: r = mid\n",
    "        else: l = mid + 1\n",
    "    if ls[l] <= e: l = len(ls)\n",
    "    return l\n",
    "\n",
    "N = int(input())\n",
    "numbers = list(map(int, input().split()))\n",
    "M = int(input())\n",
    "queries = list(map(int, input().split()))\n",
    "numbers = sorted(numbers)\n",
    "\n",
    "for q in queries:\n",
    "    l = lower_bound(numbers, q)\n",
    "    r = upper_bound(numbers, q)\n",
    "    print(r - l, end = ' ')"
   ]
  },
  {
   "cell_type": "markdown",
   "id": "406e1299-2e32-4b0e-8c6b-7859e2c4f4e8",
   "metadata": {},
   "source": [
    "## bisect 모듈 풀이\n",
    "\n",
    "1. bisect_left(list, data): 리스트에 데이터를 삽입할 가장 왼쪽 인덱스를 찾는 함수\n",
    "2. bisect_right(list, data): 리스트에 데이터를 삽입할 가장 오른쪽 인덱스를 찾는 함수"
   ]
  },
  {
   "cell_type": "code",
   "execution_count": 3,
   "id": "7c03993b-f32b-469f-9185-146e5f1b02e7",
   "metadata": {},
   "outputs": [
    {
     "name": "stdout",
     "output_type": "stream",
     "text": [
      " 10\n",
      " 6 3 2 10 10 10 -10 -10 7 3\n",
      " 8\n",
      " 10 9 -5 2 3 4 5 -10\n"
     ]
    },
    {
     "name": "stdout",
     "output_type": "stream",
     "text": [
      "3 0 0 1 2 0 0 2 "
     ]
    }
   ],
   "source": [
    "from bisect import bisect_left, bisect_right\n",
    "\n",
    "N = int(input())\n",
    "numbers = list(map(int, input().split()))\n",
    "M = int(input())\n",
    "queries = list(map(int, input().split()))\n",
    "numbers = sorted(numbers)\n",
    "\n",
    "for q in queries:\n",
    "    print(bisect_right(numbers, q) - bisect_left(numbers, q), end=' ')"
   ]
  },
  {
   "cell_type": "markdown",
   "id": "1f438d57-a573-4a0c-a4a4-7575696eb6f8",
   "metadata": {},
   "source": [
    "# Week 3: BST - BOJ 5639"
   ]
  },
  {
   "cell_type": "code",
   "execution_count": 4,
   "id": "7bce2241-9b65-4800-8f13-d4c2125d91d1",
   "metadata": {},
   "outputs": [
    {
     "name": "stdout",
     "output_type": "stream",
     "text": [
      " 50\n",
      " 30\n",
      " 24\n",
      " 5\n",
      " 28\n",
      " 45\n",
      " 98\n",
      " 52\n",
      " 60\n",
      " \n"
     ]
    },
    {
     "name": "stdout",
     "output_type": "stream",
     "text": [
      "5\n",
      "28\n",
      "24\n",
      "45\n",
      "30\n",
      "60\n",
      "52\n",
      "98\n",
      "50\n"
     ]
    }
   ],
   "source": [
    "class Node:\n",
    "    def __init__(self, e = None, par = None):\n",
    "        self.elem = e\n",
    "        self.left = Node(None, self) if e != None else None\n",
    "        self.right = Node(None, self) if e != None else None\n",
    "        self.parent = par\n",
    "    \n",
    "    def isExternal(self):\n",
    "        if self.left == None and self.right == None:\n",
    "            return True\n",
    "        else: return False\n",
    "\n",
    "class BST:\n",
    "    def __init__(self):\n",
    "        self.root = None\n",
    "    \n",
    "    def insert(self, e):\n",
    "        new_node = Node(e)\n",
    "        if self.root == None:\n",
    "            self.root = new_node\n",
    "        else:\n",
    "            cur_node = self.root\n",
    "            lr_flag = True\n",
    "            while not cur_node.isExternal():\n",
    "                if cur_node.elem >= e:\n",
    "                    cur_node = cur_node.left\n",
    "                else:\n",
    "                    cur_node = cur_node.right\n",
    "            old = cur_node\n",
    "            if cur_node.parent.left == cur_node:\n",
    "                cur_node.parent.left = new_node\n",
    "            else: cur_node.parent.right = new_node\n",
    "            new_node.parent = cur_node.parent\n",
    "            del old\n",
    "    \n",
    "    def search(self, e):\n",
    "        if self.root == None:\n",
    "            print(\"ERROR: EMPTY EXCEPTION\")\n",
    "            return None\n",
    "        \n",
    "        cur_node = self.root\n",
    "        while cur_node.elem != None:\n",
    "            if cur_node.elem > e: \n",
    "                cur_node = cur_node.left\n",
    "            elif cur_node.elem < e:\n",
    "                cur_node = cur_node.right\n",
    "            else: break\n",
    "        \n",
    "        if cur_node.elem == None:\n",
    "            print(\"ERROR: There is no node with \", e)\n",
    "            return None\n",
    "        else: return cur_node\n",
    "    \n",
    "    def getPredecessor(self, node : Node):\n",
    "        node = node.left\n",
    "        while not node.right.isExternal():\n",
    "            node = node.right\n",
    "        return node\n",
    "    \n",
    "    def remove(self, e):\n",
    "        if self.root == None:\n",
    "            print(\"ERROR: EMPTY EXCEPTION\")\n",
    "            return\n",
    "        \n",
    "        target_node = self.search(e)\n",
    "        tmp = None\n",
    "        if target_node == None:\n",
    "            return\n",
    "        else:\n",
    "            if target_node.left.isExternal() and target_node.right.isExternal():\n",
    "                tmp = Node()\n",
    "            elif target_node.left.isExternal():\n",
    "                tmp = target_node.right\n",
    "            elif target_node.right.isExternal():\n",
    "                tmp = target_node.left\n",
    "            \n",
    "            if not target_node.left.isExternal() and not target_node.right.isExternal():\n",
    "                pred = self.getPredecessor(target_node)\n",
    "                target_node.elem = pred.elem\n",
    "                pred.parent.right = Node()\n",
    "                del pred\n",
    "            else:\n",
    "                if target_node.parent.left == target_node: target_node.parent.left = tmp\n",
    "                else: target_node.parent.right = t\n",
    "                if target_node == self.root: self.root = None\n",
    "                del target_node\n",
    "    \n",
    "    def inorderTraversal(self, node : Node):\n",
    "        if not node.left.isExternal():\n",
    "            self.inorderTraversal(node.left)\n",
    "            \n",
    "        print(node.elem)\n",
    "        \n",
    "        if not node.right.isExternal():\n",
    "            self.inorderTraversal(node.right)\n",
    "    \n",
    "    def postorderTraversal(self, node : Node):\n",
    "        if not node.left.isExternal():\n",
    "            self.postorderTraversal(node.left)\n",
    "        if not node.right.isExternal():\n",
    "            self.postorderTraversal(node.right)\n",
    "        print(node.elem)\n",
    "        \n",
    "        \n",
    "\n",
    "# 전위 순회 순서 = 입력된 순서와 같다.\n",
    "import sys\n",
    "# 재귀 제한 풀어야한다.\n",
    "sys.setrecursionlimit(10**6)\n",
    "\n",
    "bst = BST()\n",
    "while True:\n",
    "    try:\n",
    "        x=int(input())\n",
    "        bst.insert(x)\n",
    "    except:\n",
    "        break\n",
    "\n",
    "bst.postorderTraversal(bst.root)"
   ]
  },
  {
   "cell_type": "markdown",
   "id": "05efdeef-9680-454a-afad-ca351ba17166",
   "metadata": {},
   "source": [
    "## BST의 속성을 이용하자\n",
    "\n",
    "$$ left.v <= parent.v <= right.v $$\n",
    "\n",
    "- 입력은 전위순회이므로 반드시 어떤 서브 트리의 루트부터 출력한다.\n",
    "- 그러므로 루트 이후에 최초로 루트보다 큰게 나타난다면 그것이 루트의 오른쪽 서브트리이며, 루트부터 그 전까지가 왼쪽 서브트리이다."
   ]
  },
  {
   "cell_type": "code",
   "execution_count": 5,
   "id": "74ed41bb-f01b-49da-8bea-b131b1562dfa",
   "metadata": {},
   "outputs": [
    {
     "name": "stdout",
     "output_type": "stream",
     "text": [
      " 50\n",
      " 30\n",
      " 24\n",
      " 5\n",
      " 28\n",
      " 45\n",
      " 98\n",
      " 52\n",
      " 60\n",
      " \n"
     ]
    },
    {
     "name": "stdout",
     "output_type": "stream",
     "text": [
      "5\n",
      "28\n",
      "24\n",
      "45\n",
      "30\n",
      "60\n",
      "52\n",
      "98\n",
      "50\n"
     ]
    }
   ],
   "source": [
    "import sys\n",
    "\n",
    "sys.setrecursionlimit(10**6)\n",
    "\n",
    "preOrder = []\n",
    "while True:\n",
    "    try:\n",
    "        x=int(input())\n",
    "        preOrder.append(x)\n",
    "    except:\n",
    "        break\n",
    "\n",
    "def postOrder(root, end):\n",
    "    if root > end:\n",
    "        return # 더 이상 탐색할 서브트리가 없음\n",
    "    cur = root + 1\n",
    "    \n",
    "    while cur <= end:\n",
    "        if preOrder[cur] > preOrder[root]:\n",
    "            break\n",
    "        cur += 1\n",
    "    \n",
    "    postOrder(root + 1, cur - 1)\n",
    "    postOrder(cur, end)\n",
    "    print(preOrder[root])\n",
    "\n",
    "postOrder(0, len(preOrder) - 1)"
   ]
  }
 ],
 "metadata": {
  "kernelspec": {
   "display_name": "Python 3 (ipykernel)",
   "language": "python",
   "name": "python3"
  },
  "language_info": {
   "codemirror_mode": {
    "name": "ipython",
    "version": 3
   },
   "file_extension": ".py",
   "mimetype": "text/x-python",
   "name": "python",
   "nbconvert_exporter": "python",
   "pygments_lexer": "ipython3",
   "version": "3.10.9"
  }
 },
 "nbformat": 4,
 "nbformat_minor": 5
}
