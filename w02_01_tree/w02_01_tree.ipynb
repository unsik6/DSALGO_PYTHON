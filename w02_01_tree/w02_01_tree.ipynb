{
 "cells": [
  {
   "cell_type": "markdown",
   "id": "79735bc0-eef7-44ad-a2e5-c851bddebf54",
   "metadata": {},
   "source": [
    "# Week 2: Hierarchical Data Structure: General Tree"
   ]
  },
  {
   "cell_type": "code",
   "execution_count": 1,
   "id": "b1288c4c-895c-4999-86bd-75c277dda5d7",
   "metadata": {},
   "outputs": [],
   "source": [
    "class Node:\n",
    "    def __init__(self, e):\n",
    "        self.elem = e\n",
    "        self.par = None\n",
    "        self.children = list()       "
   ]
  },
  {
   "cell_type": "code",
   "execution_count": 2,
   "id": "dba43a9d-e424-41c3-991d-ccfed7f0e2a7",
   "metadata": {},
   "outputs": [],
   "source": [
    "class General_Tree:\n",
    "    def __init__(self, r = None):\n",
    "        self.root  = r\n",
    "        self.nodes = list()\n",
    "        if r != None:\n",
    "            self.nodes.append(r)\n",
    "    \n",
    "    # 부모가 가지고 있는 데이터가 주어지면 그 부모의 자식으로 삽입\n",
    "    def insert(self, p_e, e):\n",
    "        for v in self.nodes:\n",
    "            if v.elem == p_e:\n",
    "                new_node = Node(e)\n",
    "                v.children.append(new_node)\n",
    "                new_node.par = v\n",
    "                self.nodes.append(new_node)\n",
    "                return\n",
    "        print(\"There is not the node whose element is\", p_e)\n",
    "    \n",
    "    # 삭제한 경우, 보통 삭제한 노드의 자식들을 삭제한 노드의 부모의 자식들로 넣는다.\n",
    "    # 구현하기에 따라서 서브트리 자체를 삭제하기도 한다.\n",
    "    def remove(self, v_e):\n",
    "        for v in self.nodes:\n",
    "            if v.elem == v_e:\n",
    "                v.par.children.remove(v)\n",
    "                for child in v.children:\n",
    "                    v.par.children.append(child)\n",
    "                    child.par = v.par\n",
    "                self.nodes.remove(v)\n",
    "                del v\n",
    "                return\n",
    "        print(\"There is not the node whose element is\", v_e)\n",
    "    \n",
    "    # 노드가 가지고 있는 데이터가 주어지면 그 노드의 깊이 계산\n",
    "    def getDepth(self, v_e):\n",
    "        target_node = None\n",
    "        for v in self.nodes:\n",
    "            if v.elem == v_e:\n",
    "                target_node = v\n",
    "        if target_node == None:\n",
    "            print(\"There is not the node whose element is\", v_e)\n",
    "            return\n",
    "        \n",
    "        depth = 0\n",
    "        while target_node != self.root:\n",
    "            depth += 1\n",
    "            target_node = target_node.par    \n",
    "        return depth\n",
    "\n",
    "    def printPreOrder(self, node : Node):\n",
    "        print(node.elem)\n",
    "        for child in node.children:\n",
    "            self.printPreOrder(child)\n",
    "    \n",
    "    def printPostOrder(self, node : Node):\n",
    "        for child in node.children:\n",
    "            self.printPostOrder(child)\n",
    "        print(node.elem)"
   ]
  },
  {
   "cell_type": "code",
   "execution_count": 3,
   "id": "cb004395-6486-4b1e-ba2f-68dda84fe795",
   "metadata": {},
   "outputs": [],
   "source": [
    "r = Node(0)\n",
    "t = General_Tree(r)"
   ]
  },
  {
   "cell_type": "code",
   "execution_count": 4,
   "id": "9f79899f-a479-429e-a99b-4259fa9e0fde",
   "metadata": {},
   "outputs": [],
   "source": [
    "t.insert(0, 1)"
   ]
  },
  {
   "cell_type": "code",
   "execution_count": 5,
   "id": "73033701-2b06-4ca6-84ba-f0cf5f4af321",
   "metadata": {},
   "outputs": [
    {
     "data": {
      "text/plain": [
       "1"
      ]
     },
     "execution_count": 5,
     "metadata": {},
     "output_type": "execute_result"
    }
   ],
   "source": [
    "t.nodes[1].elem"
   ]
  },
  {
   "cell_type": "code",
   "execution_count": 6,
   "id": "8aff9c0f-cbb6-4313-85a9-a5e650b9c5da",
   "metadata": {},
   "outputs": [],
   "source": [
    "t.remove(1)"
   ]
  },
  {
   "cell_type": "code",
   "execution_count": 7,
   "id": "c494133f-fb90-4cce-ac58-02f271664f16",
   "metadata": {},
   "outputs": [
    {
     "data": {
      "text/plain": [
       "0"
      ]
     },
     "execution_count": 7,
     "metadata": {},
     "output_type": "execute_result"
    }
   ],
   "source": [
    "len(t.root.children)"
   ]
  },
  {
   "cell_type": "code",
   "execution_count": 8,
   "id": "6f8b8584-c9d9-4b62-9c8f-999cd96fc1de",
   "metadata": {},
   "outputs": [
    {
     "name": "stdout",
     "output_type": "stream",
     "text": [
      "0\n"
     ]
    }
   ],
   "source": [
    "for v in t.nodes:\n",
    "    print(v.elem)"
   ]
  },
  {
   "cell_type": "code",
   "execution_count": 9,
   "id": "29977d17-c517-44d0-8b7f-99c837aabb36",
   "metadata": {},
   "outputs": [
    {
     "name": "stdout",
     "output_type": "stream",
     "text": [
      "There is not the node whose element is 1\n"
     ]
    }
   ],
   "source": [
    "t.insert(1, 3)"
   ]
  },
  {
   "cell_type": "code",
   "execution_count": 10,
   "id": "f5ee3e94-0a56-4a57-9c81-512820aaa595",
   "metadata": {},
   "outputs": [],
   "source": [
    "t.insert(0, 1)\n",
    "t.insert(1, 2)\n",
    "t.insert(2, 3)\n",
    "t.insert(2, 4)\n",
    "t.insert(0, 5)\n",
    "t.insert(5, 7)"
   ]
  },
  {
   "cell_type": "code",
   "execution_count": 11,
   "id": "1b5a84a3-ed5b-480a-a3f7-c4555ba734e3",
   "metadata": {},
   "outputs": [
    {
     "name": "stdout",
     "output_type": "stream",
     "text": [
      "0\n",
      "1\n",
      "2\n",
      "3\n",
      "4\n",
      "5\n",
      "7\n"
     ]
    }
   ],
   "source": [
    "for v in t.nodes:\n",
    "    print(v.elem)"
   ]
  },
  {
   "cell_type": "code",
   "execution_count": 12,
   "id": "09d29751-c2be-4634-8b8d-fa5d96f17cfb",
   "metadata": {},
   "outputs": [
    {
     "name": "stdout",
     "output_type": "stream",
     "text": [
      "0\n",
      "1\n",
      "2\n",
      "3\n",
      "4\n",
      "5\n",
      "7\n"
     ]
    }
   ],
   "source": [
    "t.printPreOrder(t.root)"
   ]
  },
  {
   "cell_type": "code",
   "execution_count": 13,
   "id": "28ca63ba-0af9-4afb-a7b3-5c12f126e596",
   "metadata": {},
   "outputs": [
    {
     "name": "stdout",
     "output_type": "stream",
     "text": [
      "3\n",
      "4\n",
      "2\n",
      "1\n",
      "7\n",
      "5\n",
      "0\n"
     ]
    }
   ],
   "source": [
    "t.printPostOrder(t.root)"
   ]
  },
  {
   "cell_type": "markdown",
   "id": "bf72bcb5-1336-4d1e-b702-d497ce824fef",
   "metadata": {},
   "source": [
    "# Week 2: Hierarchical Data Structure: Binary Tree"
   ]
  },
  {
   "cell_type": "code",
   "execution_count": 14,
   "id": "5b3257b5-2483-4c12-b11d-b4ad68846e2f",
   "metadata": {},
   "outputs": [],
   "source": [
    "# Array-based\n",
    "class Binary_Tree:\n",
    "    def __init__(self, r_e, cap = 33):\n",
    "        self.capacity = cap\n",
    "        self.arr = [None] * cap\n",
    "        \n",
    "        if r_e != None:\n",
    "            self.arr[1] = r_e\n",
    "    \n",
    "    # 부모가 가지고 있는 데이터가 주어지면 그 부모의 자식으로 삽입\n",
    "    # lr은 왼쪽인지 오른쪽인지이며 True = left이다.\n",
    "    def insert(self, p_e, e, lr : bool = True):\n",
    "        for i in range(len(self.arr)):\n",
    "            if self.arr[i] == p_e:\n",
    "                if lr and i * 2 <= self.capacity:\n",
    "                    if self.arr[i * 2] == None:\n",
    "                        self.arr[i * 2] = e\n",
    "                        return\n",
    "                elif not lr and i * 2 + 1 <= self.capacity:\n",
    "                    if self.arr[i * 2 + 1] == None:\n",
    "                        self.arr[i * 2 + 1] = e\n",
    "                        return\n",
    "        print(\"There is not the node whose element is\", p_e)\n",
    "    \n",
    "    # remove는 별도로 구현하지 않았습니다.\n",
    "    # 이는 BST에서 자세히 배울 예정이며, 필요에 따라 구현하기 때문입니다.\n",
    "    \n",
    "    # 노드가 가지고 있는 데이터가 주어지면 그 노드의 깊이 계산\n",
    "    def getDepth(self, v_e):\n",
    "        cur = 0\n",
    "        for i in range(len(self.arr)):\n",
    "            if self.arr[i] == v_e:\n",
    "                cur = i\n",
    "        if not cur:\n",
    "            print(\"There is not the node whose element is\", p_e)\n",
    "            return\n",
    "        \n",
    "        depth = 0\n",
    "        while cur > 0:\n",
    "            cur /= 2\n",
    "            depth += 1\n",
    "        return depth\n",
    "                \n",
    "\n",
    "    def printPreOrder(self, node_idx : int):\n",
    "        if self.arr[node_idx] == None:\n",
    "            return\n",
    "        \n",
    "        print(self.arr[node_idx])\n",
    "        if node_idx * 2 <= self.capacity:\n",
    "            self.printPreOrder(node_idx * 2)\n",
    "        if node_idx * 2 + 1 <= self.capacity:\n",
    "            self.printPreOrder(node_idx * 2 + 1)\n",
    "        \n",
    "    def printPostOrder(self, node_idx : int):\n",
    "        if self.arr[node_idx] == None:\n",
    "            return\n",
    "        \n",
    "        if node_idx * 2 <= self.capacity:\n",
    "            self.printPostOrder(node_idx * 2)\n",
    "        if node_idx * 2 + 1 <= self.capacity:\n",
    "            self.printPostOrder(node_idx * 2 + 1)\n",
    "            \n",
    "        print(self.arr[node_idx])\n",
    "        \n",
    "    def printInOrder(self, node_idx : int):\n",
    "        if self.arr[node_idx] == None:\n",
    "            return\n",
    "        \n",
    "        if node_idx * 2 <= self.capacity:\n",
    "            self.printInOrder(node_idx * 2)\n",
    "        \n",
    "        print(self.arr[node_idx])\n",
    "        \n",
    "        if node_idx * 2 + 1 <= self.capacity:\n",
    "            self.printInOrder(node_idx * 2 + 1)"
   ]
  },
  {
   "cell_type": "code",
   "execution_count": 15,
   "id": "f3589bae-0d5b-4b00-bc92-f768db7e193f",
   "metadata": {},
   "outputs": [],
   "source": [
    "t = Binary_Tree(0)"
   ]
  },
  {
   "cell_type": "code",
   "execution_count": 16,
   "id": "f77e1b12-a62d-41cb-a46b-06859514fe6a",
   "metadata": {},
   "outputs": [
    {
     "name": "stdout",
     "output_type": "stream",
     "text": [
      "None\n",
      "0\n",
      "None\n",
      "None\n",
      "None\n",
      "None\n",
      "None\n",
      "None\n",
      "None\n",
      "None\n",
      "None\n",
      "None\n",
      "None\n",
      "None\n",
      "None\n",
      "None\n",
      "None\n",
      "None\n",
      "None\n",
      "None\n",
      "None\n",
      "None\n",
      "None\n",
      "None\n",
      "None\n",
      "None\n",
      "None\n",
      "None\n",
      "None\n",
      "None\n",
      "None\n",
      "None\n",
      "None\n"
     ]
    }
   ],
   "source": [
    "for e in t.arr:\n",
    "    print(e)"
   ]
  },
  {
   "cell_type": "code",
   "execution_count": 17,
   "id": "68e3c6e3-e884-43c7-9bc4-5ca9a6d0bf2e",
   "metadata": {},
   "outputs": [
    {
     "name": "stdout",
     "output_type": "stream",
     "text": [
      "There is not the node whose element is 2\n"
     ]
    }
   ],
   "source": [
    "t.insert(2, 3)"
   ]
  },
  {
   "cell_type": "code",
   "execution_count": 18,
   "id": "8d1a13cb-a0ca-49cf-8cf2-6629a80e7beb",
   "metadata": {},
   "outputs": [],
   "source": [
    "t.insert(0, 1)"
   ]
  },
  {
   "cell_type": "code",
   "execution_count": 19,
   "id": "108094fd-6066-4afb-9ccf-1f73150d0e51",
   "metadata": {},
   "outputs": [],
   "source": [
    "t.insert(1, 2, True)\n",
    "t.insert(2, 3, True)\n",
    "t.insert(2, 4, False)"
   ]
  },
  {
   "cell_type": "code",
   "execution_count": 20,
   "id": "72112b29-4726-4383-b0ca-6b27e5062d4c",
   "metadata": {},
   "outputs": [
    {
     "name": "stdout",
     "output_type": "stream",
     "text": [
      "None\n",
      "0\n",
      "1\n",
      "None\n",
      "2\n",
      "None\n",
      "None\n",
      "None\n",
      "3\n",
      "4\n",
      "None\n",
      "None\n",
      "None\n",
      "None\n",
      "None\n",
      "None\n",
      "None\n",
      "None\n",
      "None\n",
      "None\n",
      "None\n",
      "None\n",
      "None\n",
      "None\n",
      "None\n",
      "None\n",
      "None\n",
      "None\n",
      "None\n",
      "None\n",
      "None\n",
      "None\n",
      "None\n"
     ]
    }
   ],
   "source": [
    "for e in t.arr:\n",
    "    print(e)"
   ]
  },
  {
   "cell_type": "code",
   "execution_count": 21,
   "id": "6694ed96-78a7-4efa-8079-4f7018bca60b",
   "metadata": {},
   "outputs": [],
   "source": [
    "t.insert(0, 5, False)"
   ]
  },
  {
   "cell_type": "code",
   "execution_count": 22,
   "id": "2ff61921-4b42-4d55-b5c4-03bd97f491e4",
   "metadata": {},
   "outputs": [],
   "source": [
    "t.insert(5, 7)"
   ]
  },
  {
   "cell_type": "code",
   "execution_count": 23,
   "id": "88a5a3cd-e6e4-497b-87eb-5b633295a494",
   "metadata": {},
   "outputs": [
    {
     "name": "stdout",
     "output_type": "stream",
     "text": [
      "0\n",
      "1\n",
      "2\n",
      "3\n",
      "4\n",
      "5\n",
      "7\n"
     ]
    }
   ],
   "source": [
    "t.printPreOrder(1)"
   ]
  },
  {
   "cell_type": "code",
   "execution_count": 24,
   "id": "e06303a8-ac36-4507-ad1d-f30f3bdfecd6",
   "metadata": {},
   "outputs": [
    {
     "name": "stdout",
     "output_type": "stream",
     "text": [
      "3\n",
      "4\n",
      "2\n",
      "1\n",
      "7\n",
      "5\n",
      "0\n"
     ]
    }
   ],
   "source": [
    "t.printPostOrder(1)"
   ]
  },
  {
   "cell_type": "code",
   "execution_count": 25,
   "id": "79bf5d9c-72c1-4002-af73-96f110f77085",
   "metadata": {},
   "outputs": [
    {
     "name": "stdout",
     "output_type": "stream",
     "text": [
      "3\n",
      "2\n",
      "4\n",
      "1\n",
      "0\n",
      "7\n",
      "5\n"
     ]
    }
   ],
   "source": [
    "t.printInOrder(1)"
   ]
  }
 ],
 "metadata": {
  "kernelspec": {
   "display_name": "Python 3 (ipykernel)",
   "language": "python",
   "name": "python3"
  },
  "language_info": {
   "codemirror_mode": {
    "name": "ipython",
    "version": 3
   },
   "file_extension": ".py",
   "mimetype": "text/x-python",
   "name": "python",
   "nbconvert_exporter": "python",
   "pygments_lexer": "ipython3",
   "version": "3.10.9"
  }
 },
 "nbformat": 4,
 "nbformat_minor": 5
}
