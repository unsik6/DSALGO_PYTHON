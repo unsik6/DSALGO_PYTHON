{
 "cells": [
  {
   "cell_type": "markdown",
   "id": "0c3b77c0-ab63-4d76-9267-3b2ef3b4952e",
   "metadata": {},
   "source": [
    "# Week 2: Hierarchical Data Structure: General Tree - BOJ 1991"
   ]
  },
  {
   "cell_type": "code",
   "execution_count": 1,
   "id": "1ac95018-0275-4e4a-b762-b8fc4b7f18d0",
   "metadata": {},
   "outputs": [
    {
     "name": "stdin",
     "output_type": "stream",
     "text": [
      " 7\n",
      " A B C\n",
      " B D .\n",
      " C E F\n",
      " E . .\n",
      " F . G\n",
      " D . .\n",
      " G . .\n"
     ]
    },
    {
     "name": "stdout",
     "output_type": "stream",
     "text": [
      "ABDCEFG\n",
      "DBAECFG\n",
      "DBEGFCA"
     ]
    }
   ],
   "source": [
    "N = int(input())\n",
    "\n",
    "# Right skewed tree라면 2^26은 너무 크기 때문에 배열 기반 이진 트리로 구현할 수 없다.\n",
    "hashTable = [None] * 26 # hashTable[alphabet value] == the index of alphabet in array-based binary tree representation\n",
    "hashTable[0] = 1        # 'A' is always the root of tree\n",
    "\n",
    "for n in range(N):\n",
    "    p, l, r = map(str, input().split())\n",
    "    parCharValue = ord(p[0]) - ord('A')\n",
    "    if l[0] != '.':\n",
    "        leftCharValue = ord(l[0]) - ord('A')\n",
    "        hashTable[leftCharValue] = hashTable[parCharValue] * 2\n",
    "    if r[0] != '.':\n",
    "        rightCharValue = ord(r[0]) - ord('A')\n",
    "        hashTable[rightCharValue] = hashTable[parCharValue] * 2 + 1\n",
    "\n",
    "# root = 실제로 binary tree를 배열로 구현했을 때의 인덱스\n",
    "def preOrder(root):\n",
    "    curChar = ''\n",
    "    for i in range(26):\n",
    "        if hashTable[i] == root:\n",
    "            curChar = chr(i + ord('A'))\n",
    "            break\n",
    "    if curChar == '':\n",
    "        return\n",
    "    print(curChar, end = '')\n",
    "    preOrder(root * 2)\n",
    "    preOrder(root * 2 + 1)\n",
    "\n",
    "def inOrder(root):\n",
    "    curChar = ''\n",
    "    for i in range(26):\n",
    "        if hashTable[i] == root:\n",
    "            curChar = chr(i + ord('A'))\n",
    "            break\n",
    "    if curChar == '':\n",
    "        return\n",
    "   \n",
    "    inOrder(root * 2)\n",
    "    print(curChar, end = '')\n",
    "    inOrder(root * 2 + 1)\n",
    "\n",
    "def postOrder(root):\n",
    "    curChar = ''\n",
    "    for i in range(26):\n",
    "        if hashTable[i] == root:\n",
    "            curChar = chr(i + ord('A'))\n",
    "            break\n",
    "    if curChar == '':\n",
    "        return\n",
    "   \n",
    "    postOrder(root * 2)\n",
    "    postOrder(root * 2 + 1)\n",
    "    print(curChar, end = '')\n",
    "    \n",
    "preOrder(1)\n",
    "print('\\n', end = '')\n",
    "inOrder(1)\n",
    "print('\\n', end = '')\n",
    "postOrder(1)"
   ]
  }
 ],
 "metadata": {
  "kernelspec": {
   "display_name": "Python 3 (ipykernel)",
   "language": "python",
   "name": "python3"
  },
  "language_info": {
   "codemirror_mode": {
    "name": "ipython",
    "version": 3
   },
   "file_extension": ".py",
   "mimetype": "text/x-python",
   "name": "python",
   "nbconvert_exporter": "python",
   "pygments_lexer": "ipython3",
   "version": "3.10.9"
  }
 },
 "nbformat": 4,
 "nbformat_minor": 5
}
