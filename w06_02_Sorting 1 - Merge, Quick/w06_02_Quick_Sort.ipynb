{
 "cells": [
  {
   "cell_type": "markdown",
   "id": "85b36fca-2646-478f-a2bd-5c31a95cfab3",
   "metadata": {},
   "source": [
    "# Week 6 : Quick Sort "
   ]
  },
  {
   "cell_type": "code",
   "execution_count": 1,
   "id": "8f7aa2a8-74a7-492a-9240-a1e53aa4d2a8",
   "metadata": {},
   "outputs": [],
   "source": [
    "def IP_partition(ls : list, first : int, last : int):\n",
    "    j = first\n",
    "    k = last\n",
    "    pivot = ls[last]    # Randomized는 pivot 고르는 방식만 바뀜\n",
    "    while j < k:\n",
    "        while ls[k] >= pivot and k >= first: k -= 1\n",
    "        while ls[j] < pivot and j < last: j += 1\n",
    "        if j < k and k >= first and j < last:\n",
    "            ls[j], ls[k] = ls[k], ls[j]\n",
    "    ls[j], ls[last] = ls[last], ls[j]\n",
    "    return j\n",
    "\n",
    "def IP_quick_sort(ls : list, first : int, last : int):\n",
    "    if first < last:\n",
    "        k = IP_partition(ls, first, last)\n",
    "        IP_quick_sort(ls, first, k - 1)\n",
    "        IP_quick_sort(ls, k + 1, last)"
   ]
  }
 ],
 "metadata": {
  "kernelspec": {
   "display_name": "Python 3 (ipykernel)",
   "language": "python",
   "name": "python3"
  },
  "language_info": {
   "codemirror_mode": {
    "name": "ipython",
    "version": 3
   },
   "file_extension": ".py",
   "mimetype": "text/x-python",
   "name": "python",
   "nbconvert_exporter": "python",
   "pygments_lexer": "ipython3",
   "version": "3.10.9"
  }
 },
 "nbformat": 4,
 "nbformat_minor": 5
}
