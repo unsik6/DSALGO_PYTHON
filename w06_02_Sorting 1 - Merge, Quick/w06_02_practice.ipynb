{
 "cells": [
  {
   "cell_type": "markdown",
   "id": "f8ed96bd-d949-4a8f-8895-4c4bcc456c53",
   "metadata": {},
   "source": [
    "# Week 6 : Merge Sort - BOJ 2751\n",
    "- input() 대신에 sys.stdin.readline()를 써야 시간초과가 발생하지 않음"
   ]
  },
  {
   "cell_type": "code",
   "execution_count": 1,
   "id": "74c8edac-21f5-4bfb-a866-86a05f052bba",
   "metadata": {},
   "outputs": [
    {
     "name": "stdin",
     "output_type": "stream",
     "text": [
      " 5\n",
      " 5\n",
      " 4\n",
      " 3\n",
      " 2\n",
      " 1\n"
     ]
    },
    {
     "name": "stdout",
     "output_type": "stream",
     "text": [
      "1\n",
      "2\n",
      "3\n",
      "4\n",
      "5\n"
     ]
    }
   ],
   "source": [
    "def merge(ls : list, first : int, mid : int, last : int):\n",
    "    res_list = []\n",
    "    i = first\n",
    "    j = mid + 1\n",
    "    while i <= mid and j <= last:\n",
    "        if ls[i] <= ls[j]:\n",
    "            res_list.append(ls[i])\n",
    "            i += 1\n",
    "        else:\n",
    "            res_list.append(ls[j])\n",
    "            j += 1\n",
    "    if i > mid:\n",
    "        res_list = res_list + ls[j:last + 1]\n",
    "    else: res_list = res_list + ls[i:mid + 1]\n",
    "    \n",
    "    for k in range(last - first + 1):\n",
    "        ls[first + k] = res_list[k]\n",
    "\n",
    "def merge_sort(ls : list, first : int, last : int):\n",
    "    if first < last:\n",
    "        mid = (first + last) // 2\n",
    "        merge_sort(ls, first, mid)\n",
    "        merge_sort(ls, mid + 1, last)\n",
    "        merge(ls, first, mid, last)\n",
    "\n",
    "N = int(input())\n",
    "numbers = [int(input()) for _ in range(N)]\n",
    "\n",
    "merge_sort(numbers, 0, len(numbers) - 1)\n",
    "for e in numbers: print(e)"
   ]
  },
  {
   "cell_type": "markdown",
   "id": "206bae37-05d3-4b8b-a9fc-1b8546ae99ce",
   "metadata": {},
   "source": [
    "# Week 6 : Quick Sort - BOJ 2750\n",
    "- 재귀 제한 풀어줘야 런타임 에러가 발생하지 않음.\n",
    "> import sys </br>\n",
    "> limit_number = 15000 </br>\n",
    "> sys.setrecursionlimit(limit_number) </br>"
   ]
  },
  {
   "cell_type": "code",
   "execution_count": 2,
   "id": "3338b84a-ca68-459d-943a-bdaa49a974c3",
   "metadata": {},
   "outputs": [
    {
     "name": "stdin",
     "output_type": "stream",
     "text": [
      " 5\n",
      " 5\n",
      " 4\n",
      " 3\n",
      " 2\n",
      " 1\n"
     ]
    },
    {
     "name": "stdout",
     "output_type": "stream",
     "text": [
      "1\n",
      "2\n",
      "3\n",
      "4\n",
      "5\n"
     ]
    }
   ],
   "source": [
    "def IP_partition(ls : list, first : int, last : int):\n",
    "    j = first\n",
    "    k = last\n",
    "    pivot = ls[last]    # Randomized는 pivot 고르는 방식만 바뀜\n",
    "    while j < k:\n",
    "        while ls[k] >= pivot and k >= first: k -= 1\n",
    "        while ls[j] < pivot and j < last: j += 1\n",
    "        if j < k and k >= first and j < last:\n",
    "            ls[j], ls[k] = ls[k], ls[j]\n",
    "    ls[j], ls[last] = ls[last], ls[j]\n",
    "    return j\n",
    "\n",
    "def IP_quick_sort(ls : list, first : int, last : int):\n",
    "    if first < last:\n",
    "        k = IP_partition(ls, first, last)\n",
    "        IP_quick_sort(ls, first, k - 1)\n",
    "        IP_quick_sort(ls, k + 1, last)\n",
    "\n",
    "N = int(input())\n",
    "numbers = [int(input()) for _ in range(N)]\n",
    "\n",
    "IP_quick_sort(numbers, 0, len(numbers) - 1)\n",
    "for e in numbers: print(e)"
   ]
  }
 ],
 "metadata": {
  "kernelspec": {
   "display_name": "Python 3 (ipykernel)",
   "language": "python",
   "name": "python3"
  },
  "language_info": {
   "codemirror_mode": {
    "name": "ipython",
    "version": 3
   },
   "file_extension": ".py",
   "mimetype": "text/x-python",
   "name": "python",
   "nbconvert_exporter": "python",
   "pygments_lexer": "ipython3",
   "version": "3.10.9"
  }
 },
 "nbformat": 4,
 "nbformat_minor": 5
}
