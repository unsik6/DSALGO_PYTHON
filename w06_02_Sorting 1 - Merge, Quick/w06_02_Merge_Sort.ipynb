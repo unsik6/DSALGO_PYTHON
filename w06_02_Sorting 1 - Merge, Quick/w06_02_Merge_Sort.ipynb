{
 "cells": [
  {
   "cell_type": "markdown",
   "id": "85b36fca-2646-478f-a2bd-5c31a95cfab3",
   "metadata": {},
   "source": [
    "# Week 6 : Merge Sort "
   ]
  },
  {
   "cell_type": "code",
   "execution_count": 1,
   "id": "8f7aa2a8-74a7-492a-9240-a1e53aa4d2a8",
   "metadata": {},
   "outputs": [],
   "source": [
    "def merge(ls : list, first : int, mid : int, last : int):\n",
    "    res_list = []\n",
    "    i = first\n",
    "    j = mid + 1\n",
    "    while i <= mid and j <= last:\n",
    "        if ls[i] <= ls[j]:\n",
    "            res_list.append(ls[i])\n",
    "            i += 1\n",
    "        else:\n",
    "            res_list.append(ls[j])\n",
    "            j += 1\n",
    "    if i > mid:\n",
    "        res_list = res_list + ls[j:last + 1]\n",
    "    else: res_list = res_list + ls[i:mid + 1]\n",
    "    \n",
    "    for k in range(last - first + 1):\n",
    "        ls[first + k] = res_list[k]\n",
    "\n",
    "def merge_sort(ls : list, first : int, last : int):\n",
    "    if first < last:\n",
    "        mid = (first + last) // 2\n",
    "        merge_sort(ls, first, mid)\n",
    "        merge_sort(ls, mid + 1, last)\n",
    "        merge(ls, first, mid, last)"
   ]
  }
 ],
 "metadata": {
  "kernelspec": {
   "display_name": "Python 3 (ipykernel)",
   "language": "python",
   "name": "python3"
  },
  "language_info": {
   "codemirror_mode": {
    "name": "ipython",
    "version": 3
   },
   "file_extension": ".py",
   "mimetype": "text/x-python",
   "name": "python",
   "nbconvert_exporter": "python",
   "pygments_lexer": "ipython3",
   "version": "3.10.9"
  }
 },
 "nbformat": 4,
 "nbformat_minor": 5
}
