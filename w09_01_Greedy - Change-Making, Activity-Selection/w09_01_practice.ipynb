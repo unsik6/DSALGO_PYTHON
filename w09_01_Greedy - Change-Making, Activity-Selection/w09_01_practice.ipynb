{
 "cells": [
  {
   "cell_type": "markdown",
   "id": "22be4c78-db9b-4055-928a-70076e3399de",
   "metadata": {},
   "source": [
    "# Week 9 : Change-Making Problem"
   ]
  },
  {
   "cell_type": "code",
   "execution_count": 1,
   "id": "8dda1fa9-0428-4174-8b02-3e740c929cbc",
   "metadata": {},
   "outputs": [
    {
     "name": "stdin",
     "output_type": "stream",
     "text": [
      " 380\n"
     ]
    },
    {
     "name": "stdout",
     "output_type": "stream",
     "text": [
      "4\n"
     ]
    }
   ],
   "source": [
    "coins = [500, 100, 50, 10, 5, 1]\n",
    "pay = int(input())\n",
    "change = 1000 - pay\n",
    "cnt = 0\n",
    "\n",
    "for coin in coins:\n",
    "    cnt += change // coin\n",
    "    change = change % coin\n",
    "\n",
    "print(cnt)"
   ]
  },
  {
   "cell_type": "markdown",
   "id": "23b8d57d-49d8-4df8-839a-45b910766f1a",
   "metadata": {},
   "source": [
    "# Week 9 : Activity-Selection Problem"
   ]
  },
  {
   "cell_type": "code",
   "execution_count": 2,
   "id": "8c10fe9d-a900-4227-ac9b-90de7d4f496b",
   "metadata": {},
   "outputs": [
    {
     "name": "stdin",
     "output_type": "stream",
     "text": [
      " 11\n",
      " 1 4\n",
      " 3 5\n",
      " 0 6\n",
      " 5 7\n",
      " 3 8\n",
      " 5 9\n",
      " 6 10\n",
      " 8 11\n",
      " 8 12\n",
      " 2 13\n",
      " 12 14\n"
     ]
    },
    {
     "name": "stdout",
     "output_type": "stream",
     "text": [
      "4\n"
     ]
    }
   ],
   "source": [
    "from functools import cmp_to_key\n",
    "\n",
    "N = int(input())\n",
    "idx = [e for e in range(N)]\n",
    "start = []\n",
    "finish = []\n",
    "\n",
    "for _ in range(N):\n",
    "    s, f = map(int, input().split())\n",
    "    start.append(s)\n",
    "    finish.append(f)\n",
    "\n",
    "def compare(a, b):\n",
    "    if finish[a] != finish[b]:\n",
    "        if finish[a] < finish[b]: return -1\n",
    "        else: return 1\n",
    "    else:\n",
    "        if start[a] < start[b]: return -1\n",
    "        else: return 1\n",
    "\n",
    "idx = sorted(idx, key=cmp_to_key(compare))\n",
    "\n",
    "cnt = 0\n",
    "last_finish = 0\n",
    "for i in range(N):\n",
    "    if start[idx[i]] >= last_finish:\n",
    "        cnt += 1\n",
    "        last_finish = finish[idx[i]]\n",
    "\n",
    "print(cnt)"
   ]
  }
 ],
 "metadata": {
  "kernelspec": {
   "display_name": "Python 3 (ipykernel)",
   "language": "python",
   "name": "python3"
  },
  "language_info": {
   "codemirror_mode": {
    "name": "ipython",
    "version": 3
   },
   "file_extension": ".py",
   "mimetype": "text/x-python",
   "name": "python",
   "nbconvert_exporter": "python",
   "pygments_lexer": "ipython3",
   "version": "3.10.9"
  }
 },
 "nbformat": 4,
 "nbformat_minor": 5
}
