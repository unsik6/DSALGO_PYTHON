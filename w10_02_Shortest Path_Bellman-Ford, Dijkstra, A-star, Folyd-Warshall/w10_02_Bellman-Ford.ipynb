{
 "cells": [
  {
   "cell_type": "markdown",
   "id": "22be4c78-db9b-4055-928a-70076e3399de",
   "metadata": {},
   "source": [
    "# Week 10 : Bellman-Ford Algorithm (BOJ 11657)\n",
    "\n",
    "- 그래프 구현 방법의 3가지를 생각해 봅시다.\n",
    "1. Adjacency List\n",
    "2. Adjacency Matrix\n",
    "3. Edge List\n",
    "\n",
    "3번 Edge List의 경우 다른 두 구현 방법에 비해 장점이 없으므로, 잘 사용되지 않습니다.\n",
    "하지만 Bellman-Ford에서는 간선을 순서 상관 없이 탐색하고 정점 자체에 대한 데이터 접근이 필요 없기 때문에 Edge List로 구현하는 것이 실질적으로 수행시간과 메모리가 적습니다."
   ]
  },
  {
   "cell_type": "code",
   "execution_count": 1,
   "id": "8dda1fa9-0428-4174-8b02-3e740c929cbc",
   "metadata": {},
   "outputs": [
    {
     "name": "stdin",
     "output_type": "stream",
     "text": [
      " 3 4\n",
      " 1 2 4\n",
      " 1 3 3\n",
      " 2 3 -1\n",
      " 3 1 -2\n"
     ]
    },
    {
     "name": "stdout",
     "output_type": "stream",
     "text": [
      "4\n",
      "3\n"
     ]
    }
   ],
   "source": [
    "N, M = map(int, input().split())\n",
    "\n",
    "edge_list = []\n",
    "\n",
    "for _ in range(M):\n",
    "    A, B, C = map(int, input().split())\n",
    "    edge_list.append([A,B,C])\n",
    "\n",
    "# Bellman-Ford Algorithm\n",
    "# infty = 70000001 because maximal distance = M * 10000\n",
    "infty = 70000001\n",
    "dist = [infty for _ in range(N + 1)]\n",
    "dist[1] = 0\n",
    "for _ in range(N -1):\n",
    "    for edge in edge_list:\n",
    "        s = edge[0]\n",
    "        d = edge[1]\n",
    "        w = edge[2]\n",
    "        new_dist = dist[s] + w\n",
    "       \n",
    "        if dist[s] == infty:  # 실제로 무한이 아니기 때문에 확인해야 한다.\n",
    "            continue\n",
    "        if new_dist < dist[d]:\n",
    "            dist[d] = new_dist\n",
    "negative_cycle = False\n",
    "for edge in edge_list:\n",
    "    s = edge[0]\n",
    "    d = edge[1]\n",
    "    w = edge[2]\n",
    "    if dist[s] == infty:  # 실제로 무한이 아니기 때문에 확인해야 한다.\n",
    "            continue\n",
    "    if dist[d] > dist[s] + w:\n",
    "        negative_cycle = True\n",
    "        break\n",
    "\n",
    "# output\n",
    "if negative_cycle:\n",
    "    print(-1)\n",
    "else:\n",
    "    for i in range(2, N + 1):\n",
    "        if dist[i] >= infty:\n",
    "            print(-1)\n",
    "        else:\n",
    "            print(dist[i])"
   ]
  },
  {
   "cell_type": "code",
   "execution_count": 7,
   "id": "77dad564-2e66-4da0-beaa-58d01b1a50e7",
   "metadata": {},
   "outputs": [
    {
     "name": "stdin",
     "output_type": "stream",
     "text": [
      " 5 6\n",
      " 1\n",
      " 5 1 1\n",
      " 1 2 2\n",
      " 1 3 3\n",
      " 2 3 4\n",
      " 2 4 5\n",
      " 3 4 6\n"
     ]
    },
    {
     "name": "stdout",
     "output_type": "stream",
     "text": [
      "0\n",
      "2\n",
      "3\n",
      "7\n",
      "INF\n"
     ]
    }
   ],
   "source": [
    "import heapq\n",
    "\n",
    "V, E = map(int, input().split())\n",
    "start_vertex = int(input())\n",
    "\n",
    "adj_list = [[] for _ in range(V + 1)]\n",
    "\n",
    "for _ in range(E):\n",
    "    u,v,w = map(int, input().split())\n",
    "    adj_list[u].append([v,w])\n",
    "\n",
    "# Dijkstra\n",
    "flag = [0] * (V + 1) # 0 = unseen, 1 = fringe, 2 = already done\n",
    "infty = 10 * 300000 + 1\n",
    "dist = [infty for _ in range(V + 1)]\n",
    "dist[start_vertex] = 0\n",
    "heap = [(0, start_vertex)]\n",
    "\n",
    "# 일반적인 라이브러리의 힙 자료구조는\n",
    "# DecreaseKey 연산을 지원하지 않는다.\n",
    "# 이에 따라 Fringe vertex를 다시 Relaxation하는 경우\n",
    "# 힙에 그대로 넣어준다.\n",
    "# 대신 pop을 한 후 확인할 때 해당 정점이 이미 최단 경로가 결정되었는지 확인한다.\n",
    "while len(heap) > 0:\n",
    "    u = heapq.heappop(heap)[1]\n",
    "    if flag[u] == 2:\n",
    "        continue\n",
    "    flag[u] = 2\n",
    "    \n",
    "    for incident_edge in adj_list[u]:\n",
    "        adj_vertex = incident_edge[0]\n",
    "        weight = incident_edge[1]\n",
    "        if flag[adj_vertex] != 2:\n",
    "            if dist[adj_vertex] > dist[u] + weight:\n",
    "                dist[adj_vertex] = dist[u] + weight\n",
    "                flag[adj_vertex] = 1\n",
    "                heapq.heappush(heap, (dist[adj_vertex], adj_vertex))\n",
    "\n",
    "# output\n",
    "for i in range(1, V+1):\n",
    "    # 음수 간선이 없으므로 Bellman-Ford Alogirhtm 보다 좀더 느슨하게 무한대 관리\n",
    "    if dist[i] >= infty:\n",
    "        print(\"INF\")\n",
    "    else: print(dist[i])"
   ]
  }
 ],
 "metadata": {
  "kernelspec": {
   "display_name": "Python 3 (ipykernel)",
   "language": "python",
   "name": "python3"
  },
  "language_info": {
   "codemirror_mode": {
    "name": "ipython",
    "version": 3
   },
   "file_extension": ".py",
   "mimetype": "text/x-python",
   "name": "python",
   "nbconvert_exporter": "python",
   "pygments_lexer": "ipython3",
   "version": "3.10.9"
  }
 },
 "nbformat": 4,
 "nbformat_minor": 5
}
