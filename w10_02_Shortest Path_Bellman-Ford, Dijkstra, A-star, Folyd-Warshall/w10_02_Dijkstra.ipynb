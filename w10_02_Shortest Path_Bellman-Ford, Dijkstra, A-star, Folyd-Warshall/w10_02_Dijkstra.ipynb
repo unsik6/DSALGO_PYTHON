{
 "cells": [
  {
   "attachments": {},
   "cell_type": "markdown",
   "id": "30361a69-accf-465a-aad6-8d8f077eb3b7",
   "metadata": {},
   "source": [
    "# Week 10 : Dijkstra's Algorithm (BOJ 1753)\n",
    "\n",
    "- input 대신 sys.stdin.readline를 사용해야 시간초과가 발생하지 않습니다."
   ]
  },
  {
   "cell_type": "code",
   "execution_count": 1,
   "id": "77dad564-2e66-4da0-beaa-58d01b1a50e7",
   "metadata": {},
   "outputs": [
    {
     "name": "stdout",
     "output_type": "stream",
     "text": [
      " 5 6\n",
      " 1\n",
      " 5 1 1\n",
      " 1 2 2\n",
      " 1 3 3\n",
      " 2 3 4\n",
      " 2 4 5\n",
      " 3 4 6\n"
     ]
    },
    {
     "name": "stdout",
     "output_type": "stream",
     "text": [
      "0\n",
      "2\n",
      "3\n",
      "7\n",
      "INF\n"
     ]
    }
   ],
   "source": [
    "import heapq\n",
    "\n",
    "V, E = map(int, input().split())\n",
    "start_vertex = int(input())\n",
    "\n",
    "adj_list = [[] for _ in range(V + 1)]\n",
    "\n",
    "for _ in range(E):\n",
    "    u,v,w = map(int, input().split())\n",
    "    adj_list[u].append([v,w])\n",
    "\n",
    "# Dijkstra\n",
    "flag = [0] * (V + 1) # 0 = unseen, 1 = fringe, 2 = already done\n",
    "infty = 10 * 300000 + 1\n",
    "dist = [infty for _ in range(V + 1)]\n",
    "dist[start_vertex] = 0\n",
    "heap = [(0, start_vertex)]\n",
    "\n",
    "# 일반적인 라이브러리의 힙 자료구조는\n",
    "# DecreaseKey 연산을 지원하지 않는다.\n",
    "# 이에 따라 Fringe vertex를 다시 Relaxation하는 경우\n",
    "# 힙에 그대로 넣어준다.\n",
    "# 대신 pop을 한 후 확인할 때 해당 정점이 이미 최단 경로가 결정되었는지 확인한다.\n",
    "while len(heap) > 0:\n",
    "    u = heapq.heappop(heap)[1]\n",
    "    if flag[u] == 2:\n",
    "        continue\n",
    "    flag[u] = 2\n",
    "    \n",
    "    for incident_edge in adj_list[u]:\n",
    "        adj_vertex = incident_edge[0]\n",
    "        weight = incident_edge[1]\n",
    "        if flag[adj_vertex] != 2:\n",
    "            if dist[adj_vertex] > dist[u] + weight:\n",
    "                dist[adj_vertex] = dist[u] + weight\n",
    "                flag[adj_vertex] = 1\n",
    "                heapq.heappush(heap, (dist[adj_vertex], adj_vertex))\n",
    "\n",
    "# output\n",
    "for i in range(1, V+1):\n",
    "    # 음수 간선이 없으므로 Bellman-Ford Alogirhtm 보다 좀더 느슨하게 무한대 관리\n",
    "    if dist[i] >= infty:\n",
    "        print(\"INF\")\n",
    "    else: print(dist[i])"
   ]
  }
 ],
 "metadata": {
  "kernelspec": {
   "display_name": "Python 3 (ipykernel)",
   "language": "python",
   "name": "python3"
  },
  "language_info": {
   "codemirror_mode": {
    "name": "ipython",
    "version": 3
   },
   "file_extension": ".py",
   "mimetype": "text/x-python",
   "name": "python",
   "nbconvert_exporter": "python",
   "pygments_lexer": "ipython3",
   "version": "3.10.9"
  }
 },
 "nbformat": 4,
 "nbformat_minor": 5
}
