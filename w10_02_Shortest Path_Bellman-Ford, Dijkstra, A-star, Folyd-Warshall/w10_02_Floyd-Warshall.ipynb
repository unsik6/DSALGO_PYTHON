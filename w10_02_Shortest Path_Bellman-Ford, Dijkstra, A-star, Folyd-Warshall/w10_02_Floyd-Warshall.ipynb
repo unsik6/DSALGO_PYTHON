{
 "cells": [
  {
   "cell_type": "code",
   "execution_count": 2,
   "id": "8dda1fa9-0428-4174-8b02-3e740c929cbc",
   "metadata": {},
   "outputs": [
    {
     "name": "stdin",
     "output_type": "stream",
     "text": [
      " 3 4\n",
      " 1 2 4\n",
      " 1 3 3\n",
      " 2 3 -4\n",
      " 3 1 -2\n"
     ]
    },
    {
     "name": "stdout",
     "output_type": "stream",
     "text": [
      "-1\n"
     ]
    }
   ],
   "source": [
    "N, M = map(int, input().split())\n",
    "\n",
    "edge_list = []\n",
    "\n",
    "for _ in range(M):\n",
    "    A, B, C = map(int, input().split())\n",
    "    edge_list.append([A,B,C])\n",
    "\n",
    "# Bellman-Ford Algorithm\n",
    "# infty = 70000001 because maximal distance = M * 10000\n",
    "infty = 70000001\n",
    "dist = [infty for _ in range(N + 1)]\n",
    "dist[1] = 0\n",
    "for _ in range(N -1):\n",
    "    for edge in edge_list:\n",
    "        s = edge[0]\n",
    "        d = edge[1]\n",
    "        w = edge[2]\n",
    "        new_dist = dist[s] + w\n",
    "       \n",
    "        if dist[s] == infty:  # 실제로 무한이 아니기 때문에 확인해야 한다.\n",
    "            continue\n",
    "        if new_dist < dist[d]:\n",
    "            dist[d] = new_dist\n",
    "negative_cycle = False\n",
    "for edge in edge_list:\n",
    "    s = edge[0]\n",
    "    d = edge[1]\n",
    "    w = edge[2]\n",
    "    if dist[s] == infty:  # 실제로 무한이 아니기 때문에 확인해야 한다.\n",
    "            continue\n",
    "    if dist[d] > dist[s] + w:\n",
    "        negative_cycle = True\n",
    "        break\n",
    "\n",
    "# output\n",
    "if negative_cycle:\n",
    "    print(-1)\n",
    "else:\n",
    "    for i in range(2, N + 1):\n",
    "        if dist[i] >= infty:\n",
    "            print(-1)\n",
    "        else:\n",
    "            print(dist[i])"
   ]
  },
  {
   "cell_type": "code",
   "execution_count": 7,
   "id": "77dad564-2e66-4da0-beaa-58d01b1a50e7",
   "metadata": {},
   "outputs": [
    {
     "name": "stdin",
     "output_type": "stream",
     "text": [
      " 5 6\n",
      " 1\n",
      " 5 1 1\n",
      " 1 2 2\n",
      " 1 3 3\n",
      " 2 3 4\n",
      " 2 4 5\n",
      " 3 4 6\n"
     ]
    },
    {
     "name": "stdout",
     "output_type": "stream",
     "text": [
      "0\n",
      "2\n",
      "3\n",
      "7\n",
      "INF\n"
     ]
    }
   ],
   "source": [
    "import heapq\n",
    "\n",
    "V, E = map(int, input().split())\n",
    "start_vertex = int(input())\n",
    "\n",
    "adj_list = [[] for _ in range(V + 1)]\n",
    "\n",
    "for _ in range(E):\n",
    "    u,v,w = map(int, input().split())\n",
    "    adj_list[u].append([v,w])\n",
    "\n",
    "# Dijkstra\n",
    "flag = [0] * (V + 1) # 0 = unseen, 1 = fringe, 2 = already done\n",
    "infty = 10 * 300000 + 1\n",
    "dist = [infty for _ in range(V + 1)]\n",
    "dist[start_vertex] = 0\n",
    "heap = [(0, start_vertex)]\n",
    "\n",
    "# 일반적인 라이브러리의 힙 자료구조는\n",
    "# DecreaseKey 연산을 지원하지 않는다.\n",
    "# 이에 따라 Fringe vertex를 다시 Relaxation하는 경우\n",
    "# 힙에 그대로 넣어준다.\n",
    "# 대신 pop을 한 후 확인할 때 해당 정점이 이미 최단 경로가 결정되었는지 확인한다.\n",
    "while len(heap) > 0:\n",
    "    u = heapq.heappop(heap)[1]\n",
    "    if flag[u] == 2:\n",
    "        continue\n",
    "    flag[u] = 2\n",
    "    \n",
    "    for incident_edge in adj_list[u]:\n",
    "        adj_vertex = incident_edge[0]\n",
    "        weight = incident_edge[1]\n",
    "        if flag[adj_vertex] != 2:\n",
    "            if dist[adj_vertex] > dist[u] + weight:\n",
    "                dist[adj_vertex] = dist[u] + weight\n",
    "                flag[adj_vertex] = 1\n",
    "                heapq.heappush(heap, (dist[adj_vertex], adj_vertex))\n",
    "\n",
    "# output\n",
    "for i in range(1, V+1):\n",
    "    # 음수 간선이 없으므로 Bellman-Ford Alogirhtm 보다 좀더 느슨하게 무한대 관리\n",
    "    if dist[i] >= infty:\n",
    "        print(\"INF\")\n",
    "    else: print(dist[i])"
   ]
  },
  {
   "cell_type": "code",
   "execution_count": 44,
   "id": "5ad5f7d5-09d7-4614-8030-1c61c4a052e8",
   "metadata": {},
   "outputs": [
    {
     "name": "stdin",
     "output_type": "stream",
     "text": [
      " 2\n",
      " \n",
      " 123\n",
      " 4#5\n",
      " 786\n"
     ]
    },
    {
     "name": "stdout",
     "output_type": "stream",
     "text": [
      "2\n"
     ]
    },
    {
     "name": "stdin",
     "output_type": "stream",
     "text": [
      " \n",
      " 123\n",
      " 456\n",
      " 87#\n"
     ]
    },
    {
     "name": "stdout",
     "output_type": "stream",
     "text": [
      "impossible\n"
     ]
    },
    {
     "name": "stdin",
     "output_type": "stream",
     "text": [
      " \n"
     ]
    },
    {
     "ename": "KeyboardInterrupt",
     "evalue": "Interrupted by user",
     "output_type": "error",
     "traceback": [
      "\u001b[1;31m---------------------------------------------------------------------------\u001b[0m",
      "\u001b[1;31mKeyboardInterrupt\u001b[0m                         Traceback (most recent call last)",
      "Cell \u001b[1;32mIn[44], line 108\u001b[0m\n\u001b[0;32m    106\u001b[0m board \u001b[38;5;241m=\u001b[39m \u001b[38;5;124m\"\u001b[39m\u001b[38;5;124m\"\u001b[39m\n\u001b[0;32m    107\u001b[0m \u001b[38;5;28;01mfor\u001b[39;00m _ \u001b[38;5;129;01min\u001b[39;00m \u001b[38;5;28mrange\u001b[39m(\u001b[38;5;241m3\u001b[39m):\n\u001b[1;32m--> 108\u001b[0m     line \u001b[38;5;241m=\u001b[39m \u001b[38;5;28;43minput\u001b[39;49m\u001b[43m(\u001b[49m\u001b[43m)\u001b[49m\n\u001b[0;32m    109\u001b[0m     board \u001b[38;5;241m+\u001b[39m\u001b[38;5;241m=\u001b[39m line\n\u001b[0;32m    110\u001b[0m A_star(board)\n",
      "File \u001b[1;32m~\\anaconda3\\envs\\notMajor\\lib\\site-packages\\ipykernel\\kernelbase.py:1175\u001b[0m, in \u001b[0;36mKernel.raw_input\u001b[1;34m(self, prompt)\u001b[0m\n\u001b[0;32m   1171\u001b[0m \u001b[38;5;28;01mif\u001b[39;00m \u001b[38;5;129;01mnot\u001b[39;00m \u001b[38;5;28mself\u001b[39m\u001b[38;5;241m.\u001b[39m_allow_stdin:\n\u001b[0;32m   1172\u001b[0m     \u001b[38;5;28;01mraise\u001b[39;00m StdinNotImplementedError(\n\u001b[0;32m   1173\u001b[0m         \u001b[38;5;124m\"\u001b[39m\u001b[38;5;124mraw_input was called, but this frontend does not support input requests.\u001b[39m\u001b[38;5;124m\"\u001b[39m\n\u001b[0;32m   1174\u001b[0m     )\n\u001b[1;32m-> 1175\u001b[0m \u001b[38;5;28;01mreturn\u001b[39;00m \u001b[38;5;28;43mself\u001b[39;49m\u001b[38;5;241;43m.\u001b[39;49m\u001b[43m_input_request\u001b[49m\u001b[43m(\u001b[49m\n\u001b[0;32m   1176\u001b[0m \u001b[43m    \u001b[49m\u001b[38;5;28;43mstr\u001b[39;49m\u001b[43m(\u001b[49m\u001b[43mprompt\u001b[49m\u001b[43m)\u001b[49m\u001b[43m,\u001b[49m\n\u001b[0;32m   1177\u001b[0m \u001b[43m    \u001b[49m\u001b[38;5;28;43mself\u001b[39;49m\u001b[38;5;241;43m.\u001b[39;49m\u001b[43m_parent_ident\u001b[49m\u001b[43m[\u001b[49m\u001b[38;5;124;43m\"\u001b[39;49m\u001b[38;5;124;43mshell\u001b[39;49m\u001b[38;5;124;43m\"\u001b[39;49m\u001b[43m]\u001b[49m\u001b[43m,\u001b[49m\n\u001b[0;32m   1178\u001b[0m \u001b[43m    \u001b[49m\u001b[38;5;28;43mself\u001b[39;49m\u001b[38;5;241;43m.\u001b[39;49m\u001b[43mget_parent\u001b[49m\u001b[43m(\u001b[49m\u001b[38;5;124;43m\"\u001b[39;49m\u001b[38;5;124;43mshell\u001b[39;49m\u001b[38;5;124;43m\"\u001b[39;49m\u001b[43m)\u001b[49m\u001b[43m,\u001b[49m\n\u001b[0;32m   1179\u001b[0m \u001b[43m    \u001b[49m\u001b[43mpassword\u001b[49m\u001b[38;5;241;43m=\u001b[39;49m\u001b[38;5;28;43;01mFalse\u001b[39;49;00m\u001b[43m,\u001b[49m\n\u001b[0;32m   1180\u001b[0m \u001b[43m\u001b[49m\u001b[43m)\u001b[49m\n",
      "File \u001b[1;32m~\\anaconda3\\envs\\notMajor\\lib\\site-packages\\ipykernel\\kernelbase.py:1217\u001b[0m, in \u001b[0;36mKernel._input_request\u001b[1;34m(self, prompt, ident, parent, password)\u001b[0m\n\u001b[0;32m   1214\u001b[0m             \u001b[38;5;28;01mbreak\u001b[39;00m\n\u001b[0;32m   1215\u001b[0m \u001b[38;5;28;01mexcept\u001b[39;00m \u001b[38;5;167;01mKeyboardInterrupt\u001b[39;00m:\n\u001b[0;32m   1216\u001b[0m     \u001b[38;5;66;03m# re-raise KeyboardInterrupt, to truncate traceback\u001b[39;00m\n\u001b[1;32m-> 1217\u001b[0m     \u001b[38;5;28;01mraise\u001b[39;00m \u001b[38;5;167;01mKeyboardInterrupt\u001b[39;00m(\u001b[38;5;124m\"\u001b[39m\u001b[38;5;124mInterrupted by user\u001b[39m\u001b[38;5;124m\"\u001b[39m) \u001b[38;5;28;01mfrom\u001b[39;00m \u001b[38;5;28mNone\u001b[39m\n\u001b[0;32m   1218\u001b[0m \u001b[38;5;28;01mexcept\u001b[39;00m \u001b[38;5;167;01mException\u001b[39;00m:\n\u001b[0;32m   1219\u001b[0m     \u001b[38;5;28mself\u001b[39m\u001b[38;5;241m.\u001b[39mlog\u001b[38;5;241m.\u001b[39mwarning(\u001b[38;5;124m\"\u001b[39m\u001b[38;5;124mInvalid Message:\u001b[39m\u001b[38;5;124m\"\u001b[39m, exc_info\u001b[38;5;241m=\u001b[39m\u001b[38;5;28;01mTrue\u001b[39;00m)\n",
      "\u001b[1;31mKeyboardInterrupt\u001b[0m: Interrupted by user"
     ]
    }
   ],
   "source": [
    "import heapq\n",
    "\n",
    "T = int(input())\n",
    "\n",
    "position_map = [0, \n",
    "                (0,2), (1,2), (2,2),\n",
    "                (0,1), (1,1), (2,1),\n",
    "                (0,0), (1,0), (2,0)]\n",
    "def manhattan_dist(pos1, pos2):\n",
    "    x_diff = abs(pos1[0] - pos2[0])\n",
    "    y_diff = abs(pos1[1] - pos2[1])\n",
    "    return (x_diff + y_diff)\n",
    "    \n",
    "def calculate_H(board : str):\n",
    "    total_manhattan_dist = 0\n",
    "    for i in range(len(board)):\n",
    "        if board[i] == '#': continue\n",
    "        original_pos = position_map[int(board[i])]\n",
    "        cur_pos = position_map[i + 1]\n",
    "        total_manhattan_dist += manhattan_dist(original_pos, cur_pos)\n",
    "    return total_manhattan_dist\n",
    "\n",
    "def change_board(board : str, blank_pos : int):\n",
    "    quotient = blank_pos // 3 # 0: 위, 1: 가운데, 2: 아래\n",
    "    remainder = blank_pos % 3 # 0: 왼쪽, 1: 가운데, 2: 오른쪽\n",
    "    changable_boards = []\n",
    "    # 위의 조각과 바꾸기\n",
    "    if quotient > 0:\n",
    "        changed_piece = board[blank_pos - 3]\n",
    "        new_board = board.replace(changed_piece, '#')\n",
    "        new_board = new_board[:blank_pos] + changed_piece + new_board[blank_pos + 1:]\n",
    "        changable_boards.append(new_board)\n",
    "    # 아래의 조각과 바꾸기\n",
    "    if quotient < 2:\n",
    "        changed_piece = board[blank_pos + 3]\n",
    "        new_board = board.replace(changed_piece, '#')\n",
    "        new_board = new_board[:blank_pos] + changed_piece + new_board[blank_pos + 1:]\n",
    "        changable_boards.append(new_board)\n",
    "    # 왼쪽 조각과 바꾸기\n",
    "    if remainder > 0:\n",
    "        changed_piece = board[blank_pos - 1]\n",
    "        new_board = board.replace(changed_piece, '#')\n",
    "        new_board = new_board[:blank_pos] + changed_piece + new_board[blank_pos + 1:]\n",
    "        changable_boards.append(new_board)\n",
    "    if remainder < 2:\n",
    "        changed_piece = board[blank_pos + 1]\n",
    "        new_board = board.replace(changed_piece, '#')\n",
    "        new_board = new_board[:blank_pos] + changed_piece + new_board[blank_pos + 1:]\n",
    "        changable_boards.append(new_board)\n",
    "    return changable_boards\n",
    "\n",
    "# 테스트 케이스가 많으므로 시간 절약용\n",
    "# board : output\n",
    "# 특히, 불가능한 경우 굉장히 많은 계산이 필요하다.\n",
    "memorized_board = {}\n",
    "\n",
    "def A_star(start_board : str):\n",
    "    # 이미 완료한 테스트 케이스인지 확인\n",
    "    if start_board in memorized_board:\n",
    "        print(memorized_board[start_board])\n",
    "        return\n",
    "    \n",
    "    is_possible = False # 가능/불가능\n",
    "    g_score_hash = {} # string : g(b) 해시 테이블\n",
    "    g_score_hash[start_board] = 0\n",
    "    \n",
    "    # init\n",
    "    open_board_heap = [(0 + calculate_H(start_board), start_board)]\n",
    "    while len(open_board_heap) > 0:\n",
    "        heap_top = heapq.heappop(open_board_heap)\n",
    "        cur_board = heap_top[1]\n",
    "        cur_g_score = g_score_hash[cur_board]\n",
    "        \n",
    "        # 정답인 경우\n",
    "        if calculate_H(cur_board) == 0:\n",
    "            print(cur_g_score)\n",
    "            memorized_board[start_board] = cur_g_score\n",
    "            is_possible = True\n",
    "            break\n",
    "        # 불가능이 이미 판단된 경우\n",
    "        if cur_board in memorized_board:\n",
    "            if memorized_board[cur_board] == \"impossible\":\n",
    "                break\n",
    "        \n",
    "        # 그렇지 않은 경우, 빈칸을 기준으로 이동 탐색\n",
    "        # A* 알고리즘의 슈도 코드는 복잡하지만\n",
    "        # DecreaseKey가 지원되지 않고, 최단 경로가 고정된 정점도 다시 확인하므로\n",
    "        # 그냥 힙에 넣는다.\n",
    "        blank_pos = cur_board.find('#')\n",
    "        changable_boards = change_board(cur_board, blank_pos)\n",
    "        for new_board in changable_boards:\n",
    "            if new_board in g_score_hash:\n",
    "                if g_score_hash[new_board] > cur_g_score + 1:\n",
    "                    g_score_hash[new_board] = cur_g_score + 1\n",
    "                    heapq.heappush(open_board_heap,\n",
    "                           (g_score_hash[new_board] + calculate_H(new_board), new_board))\n",
    "            else:\n",
    "                g_score_hash[new_board] = cur_g_score + 1\n",
    "                heapq.heappush(open_board_heap,\n",
    "                           (g_score_hash[new_board] + calculate_H(new_board), new_board))\n",
    "    \n",
    "    if not is_possible:\n",
    "        print(\"impossible\")\n",
    "        \n",
    "        # 시간을 줄이기 위해 저장\n",
    "        memorized_board[start_board] = \"impossible\"\n",
    "        key_list = list(g_score_hash.keys())\n",
    "        for board in key_list:\n",
    "            memorized_board[board] = \"impossible\"\n",
    "\n",
    "    \n",
    "    \n",
    "# execute\n",
    "for _ in range(T):\n",
    "    input() # 빈줄 제거\n",
    "    board = \"\"\n",
    "    for _ in range(3):\n",
    "        line = input()\n",
    "        board += line\n",
    "    A_star(board)"
   ]
  },
  {
   "cell_type": "markdown",
   "id": "fae4e7bd-cd2c-4420-a9a3-e2a0b5842376",
   "metadata": {},
   "source": [
    "# Week 10 : Floyd-Warshall Algorithm (BOJ 11403)"
   ]
  },
  {
   "cell_type": "code",
   "execution_count": 1,
   "id": "62fee174-93d8-44cf-96cc-a18a4a8472cd",
   "metadata": {},
   "outputs": [
    {
     "name": "stdin",
     "output_type": "stream",
     "text": [
      " 7\n",
      " 0 0 0 1 0 0 0\n",
      " 0 0 0 0 0 0 1\n",
      " 0 0 0 0 0 0 0\n",
      " 0 0 0 0 1 1 0\n",
      " 1 0 0 0 0 0 0\n",
      " 0 0 0 0 0 0 1\n",
      " 0 0 1 0 0 0 0\n"
     ]
    },
    {
     "name": "stdout",
     "output_type": "stream",
     "text": [
      "1 0 1 1 1 1 1 \n",
      "0 0 1 0 0 0 1 \n",
      "0 0 0 0 0 0 0 \n",
      "1 0 1 1 1 1 1 \n",
      "1 0 1 1 1 1 1 \n",
      "0 0 1 0 0 0 1 \n",
      "0 0 1 0 0 0 0 \n"
     ]
    }
   ],
   "source": [
    "N = int(input())\n",
    "\n",
    "transitive_mat = []\n",
    "\n",
    "for _ in range(N):\n",
    "    transitive_mat.append(list(map(int, input().split())))\n",
    "\n",
    "for k in range(N):\n",
    "    for i in range(N):\n",
    "        for j in range(N):\n",
    "            if transitive_mat[i][k] == 1 and transitive_mat[k][j] == 1:\n",
    "                transitive_mat[i][j] = 1\n",
    "\n",
    "for i in range(N):\n",
    "    for j in range(N):\n",
    "        print(transitive_mat[i][j], end = ' ')\n",
    "    print('')"
   ]
  }
 ],
 "metadata": {
  "kernelspec": {
   "display_name": "Python 3 (ipykernel)",
   "language": "python",
   "name": "python3"
  },
  "language_info": {
   "codemirror_mode": {
    "name": "ipython",
    "version": 3
   },
   "file_extension": ".py",
   "mimetype": "text/x-python",
   "name": "python",
   "nbconvert_exporter": "python",
   "pygments_lexer": "ipython3",
   "version": "3.10.9"
  }
 },
 "nbformat": 4,
 "nbformat_minor": 5
}
