{
 "cells": [
  {
   "attachments": {},
   "cell_type": "markdown",
   "id": "fae4e7bd-cd2c-4420-a9a3-e2a0b5842376",
   "metadata": {},
   "source": [
    "# Week 10 : Floyd-Warshall Algorithm (BOJ 11403)"
   ]
  },
  {
   "cell_type": "code",
   "execution_count": 1,
   "id": "62fee174-93d8-44cf-96cc-a18a4a8472cd",
   "metadata": {},
   "outputs": [
    {
     "name": "stdout",
     "output_type": "stream",
     "text": [
      " 7\n",
      " 0 0 0 1 0 0 0\n",
      " 0 0 0 0 0 0 1\n",
      " 0 0 0 0 0 0 0\n",
      " 0 0 0 0 1 1 0\n",
      " 1 0 0 0 0 0 0\n",
      " 0 0 0 0 0 0 1\n",
      " 0 0 1 0 0 0 0\n"
     ]
    },
    {
     "name": "stdout",
     "output_type": "stream",
     "text": [
      "1 0 1 1 1 1 1 \n",
      "0 0 1 0 0 0 1 \n",
      "0 0 0 0 0 0 0 \n",
      "1 0 1 1 1 1 1 \n",
      "1 0 1 1 1 1 1 \n",
      "0 0 1 0 0 0 1 \n",
      "0 0 1 0 0 0 0 \n"
     ]
    }
   ],
   "source": [
    "N = int(input())\n",
    "\n",
    "transitive_mat = []\n",
    "\n",
    "for _ in range(N):\n",
    "    transitive_mat.append(list(map(int, input().split())))\n",
    "\n",
    "for k in range(N):\n",
    "    for i in range(N):\n",
    "        for j in range(N):\n",
    "            if transitive_mat[i][k] == 1 and transitive_mat[k][j] == 1:\n",
    "                transitive_mat[i][j] = 1\n",
    "\n",
    "for i in range(N):\n",
    "    for j in range(N):\n",
    "        print(transitive_mat[i][j], end = ' ')\n",
    "    print('')"
   ]
  }
 ],
 "metadata": {
  "kernelspec": {
   "display_name": "Python 3 (ipykernel)",
   "language": "python",
   "name": "python3"
  },
  "language_info": {
   "codemirror_mode": {
    "name": "ipython",
    "version": 3
   },
   "file_extension": ".py",
   "mimetype": "text/x-python",
   "name": "python",
   "nbconvert_exporter": "python",
   "pygments_lexer": "ipython3",
   "version": "3.10.9"
  }
 },
 "nbformat": 4,
 "nbformat_minor": 5
}
