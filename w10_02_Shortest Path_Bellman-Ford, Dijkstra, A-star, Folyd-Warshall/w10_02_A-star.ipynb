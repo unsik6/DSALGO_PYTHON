{
 "cells": [
  {
   "cell_type": "markdown",
   "id": "3137616e-9767-452c-8aa3-00a990220d78",
   "metadata": {},
   "source": [
    "# Week 10 : A* Algorithm (BOJ 11112)\n",
    "\n",
    "- 그래프 알고리즘에서 자주 나오는 Grid 형태의 자료처리가 필요합니다.\n",
    "- 다만, 2차원을 1차원으로 치환하여 문제를 풀어야 합니다.\n",
    "- 시간 관리가 굉장히 중요한 문제입니다."
   ]
  },
  {
   "cell_type": "code",
   "execution_count": 1,
   "id": "5ad5f7d5-09d7-4614-8030-1c61c4a052e8",
   "metadata": {},
   "outputs": [
    {
     "name": "stdin",
     "output_type": "stream",
     "text": [
      " 2\n",
      " \n",
      " 123\n",
      " 4#5\n",
      " 786\n"
     ]
    },
    {
     "name": "stdout",
     "output_type": "stream",
     "text": [
      "2\n"
     ]
    },
    {
     "name": "stdin",
     "output_type": "stream",
     "text": [
      " \n",
      " 123\n",
      " 456\n",
      " 87#\n"
     ]
    },
    {
     "name": "stdout",
     "output_type": "stream",
     "text": [
      "impossible\n"
     ]
    }
   ],
   "source": [
    "import heapq\n",
    "\n",
    "T = int(input())\n",
    "\n",
    "position_map = [0, \n",
    "                (0,2), (1,2), (2,2),\n",
    "                (0,1), (1,1), (2,1),\n",
    "                (0,0), (1,0), (2,0)]\n",
    "def manhattan_dist(pos1, pos2):\n",
    "    x_diff = abs(pos1[0] - pos2[0])\n",
    "    y_diff = abs(pos1[1] - pos2[1])\n",
    "    return (x_diff + y_diff)\n",
    "    \n",
    "def calculate_H(board : str):\n",
    "    total_manhattan_dist = 0\n",
    "    for i in range(len(board)):\n",
    "        if board[i] == '#': continue\n",
    "        original_pos = position_map[int(board[i])]\n",
    "        cur_pos = position_map[i + 1]\n",
    "        total_manhattan_dist += manhattan_dist(original_pos, cur_pos)\n",
    "    return total_manhattan_dist\n",
    "\n",
    "def change_board(board : str, blank_pos : int):\n",
    "    quotient = blank_pos // 3 # 0: 위, 1: 가운데, 2: 아래\n",
    "    remainder = blank_pos % 3 # 0: 왼쪽, 1: 가운데, 2: 오른쪽\n",
    "    changable_boards = []\n",
    "    # 위의 조각과 바꾸기\n",
    "    if quotient > 0:\n",
    "        changed_piece = board[blank_pos - 3]\n",
    "        new_board = board.replace(changed_piece, '#')\n",
    "        new_board = new_board[:blank_pos] + changed_piece + new_board[blank_pos + 1:]\n",
    "        changable_boards.append(new_board)\n",
    "    # 아래의 조각과 바꾸기\n",
    "    if quotient < 2:\n",
    "        changed_piece = board[blank_pos + 3]\n",
    "        new_board = board.replace(changed_piece, '#')\n",
    "        new_board = new_board[:blank_pos] + changed_piece + new_board[blank_pos + 1:]\n",
    "        changable_boards.append(new_board)\n",
    "    # 왼쪽 조각과 바꾸기\n",
    "    if remainder > 0:\n",
    "        changed_piece = board[blank_pos - 1]\n",
    "        new_board = board.replace(changed_piece, '#')\n",
    "        new_board = new_board[:blank_pos] + changed_piece + new_board[blank_pos + 1:]\n",
    "        changable_boards.append(new_board)\n",
    "    if remainder < 2:\n",
    "        changed_piece = board[blank_pos + 1]\n",
    "        new_board = board.replace(changed_piece, '#')\n",
    "        new_board = new_board[:blank_pos] + changed_piece + new_board[blank_pos + 1:]\n",
    "        changable_boards.append(new_board)\n",
    "    return changable_boards\n",
    "\n",
    "# 테스트 케이스가 많으므로 시간 절약용\n",
    "# board : output\n",
    "# 특히, 불가능한 경우 굉장히 많은 계산이 필요하다.\n",
    "memorized_board = {}\n",
    "\n",
    "def A_star(start_board : str):\n",
    "    # 이미 완료한 테스트 케이스인지 확인\n",
    "    if start_board in memorized_board:\n",
    "        print(memorized_board[start_board])\n",
    "        return\n",
    "    \n",
    "    is_possible = False # 가능/불가능\n",
    "    g_score_hash = {} # string : g(b) 해시 테이블\n",
    "    g_score_hash[start_board] = 0\n",
    "    \n",
    "    # init\n",
    "    open_board_heap = [(0 + calculate_H(start_board), start_board)]\n",
    "    while len(open_board_heap) > 0:\n",
    "        heap_top = heapq.heappop(open_board_heap)\n",
    "        cur_board = heap_top[1]\n",
    "        cur_g_score = g_score_hash[cur_board]\n",
    "        \n",
    "        # 정답인 경우\n",
    "        if calculate_H(cur_board) == 0:\n",
    "            print(cur_g_score)\n",
    "            memorized_board[start_board] = cur_g_score\n",
    "            is_possible = True\n",
    "            break\n",
    "        # 불가능이 이미 판단된 경우\n",
    "        if cur_board in memorized_board:\n",
    "            if memorized_board[cur_board] == \"impossible\":\n",
    "                break\n",
    "        \n",
    "        # 그렇지 않은 경우, 빈칸을 기준으로 이동 탐색\n",
    "        # A* 알고리즘의 슈도 코드는 복잡하지만\n",
    "        # DecreaseKey가 지원되지 않고, 최단 경로가 고정된 정점도 다시 확인하므로\n",
    "        # 그냥 힙에 넣는다.\n",
    "        blank_pos = cur_board.find('#')\n",
    "        changable_boards = change_board(cur_board, blank_pos)\n",
    "        for new_board in changable_boards:\n",
    "            if new_board in g_score_hash:\n",
    "                if g_score_hash[new_board] > cur_g_score + 1:\n",
    "                    g_score_hash[new_board] = cur_g_score + 1\n",
    "                    heapq.heappush(open_board_heap,\n",
    "                           (g_score_hash[new_board] + calculate_H(new_board), new_board))\n",
    "            else:\n",
    "                g_score_hash[new_board] = cur_g_score + 1\n",
    "                heapq.heappush(open_board_heap,\n",
    "                           (g_score_hash[new_board] + calculate_H(new_board), new_board))\n",
    "    \n",
    "    if not is_possible:\n",
    "        print(\"impossible\")\n",
    "        \n",
    "        # 시간을 줄이기 위해 저장\n",
    "        memorized_board[start_board] = \"impossible\"\n",
    "        key_list = list(g_score_hash.keys())\n",
    "        for board in key_list:\n",
    "            memorized_board[board] = \"impossible\"\n",
    "\n",
    "    \n",
    "    \n",
    "# execute\n",
    "for _ in range(T):\n",
    "    input() # 빈줄 제거\n",
    "    board = \"\"\n",
    "    for _ in range(3):\n",
    "        line = input()\n",
    "        board += line\n",
    "    A_star(board)"
   ]
  },
  {
   "cell_type": "code",
   "execution_count": 51,
   "id": "62fee174-93d8-44cf-96cc-a18a4a8472cd",
   "metadata": {},
   "outputs": [
    {
     "name": "stdin",
     "output_type": "stream",
     "text": [
      " 7\n",
      " 0 0 0 1 0 0 0\n",
      " 0 0 0 0 0 0 1\n",
      " 0 0 0 0 0 0 0\n",
      " 0 0 0 0 1 1 0\n",
      " 1 0 0 0 0 0 0 \n",
      " 0 0 0 0 0 0 1\n",
      " 0 0 1 0 0 0 0 \n"
     ]
    },
    {
     "name": "stdout",
     "output_type": "stream",
     "text": [
      "1 0 1 1 1 1 1 \n",
      "0 1 1 0 0 0 1 \n",
      "0 0 1 0 0 0 0 \n",
      "1 0 1 1 1 1 1 \n",
      "1 0 1 1 1 1 1 \n",
      "0 0 1 0 0 1 1 \n",
      "0 0 1 0 0 0 1 \n"
     ]
    }
   ],
   "source": [
    "N = int(input())\n",
    "\n",
    "transitive_mat = []\n",
    "\n",
    "for _ in range(N):\n",
    "    transitive_mat.append(list(map(int, input().split())))\n",
    "\n",
    "for k in range(N):\n",
    "    for i in range(N):\n",
    "        for j in range(N):\n",
    "            if transitive_mat[i][k] == 1 and transitive_mat[k][j] == 1:\n",
    "                transitive_mat[i][j] = 1\n",
    "\n",
    "for i in range(N):\n",
    "    for j in range(N):\n",
    "        print(transitive_mat[i][j], end = ' ')\n",
    "    print('')"
   ]
  },
  {
   "cell_type": "code",
   "execution_count": null,
   "id": "10f1b44b-7643-4ea9-bd0f-f6750ec02258",
   "metadata": {},
   "outputs": [],
   "source": []
  }
 ],
 "metadata": {
  "kernelspec": {
   "display_name": "Python 3 (ipykernel)",
   "language": "python",
   "name": "python3"
  },
  "language_info": {
   "codemirror_mode": {
    "name": "ipython",
    "version": 3
   },
   "file_extension": ".py",
   "mimetype": "text/x-python",
   "name": "python",
   "nbconvert_exporter": "python",
   "pygments_lexer": "ipython3",
   "version": "3.10.9"
  }
 },
 "nbformat": 4,
 "nbformat_minor": 5
}
