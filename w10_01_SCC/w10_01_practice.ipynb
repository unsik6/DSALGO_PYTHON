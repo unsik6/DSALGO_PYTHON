{
 "cells": [
  {
   "cell_type": "markdown",
   "id": "22be4c78-db9b-4055-928a-70076e3399de",
   "metadata": {},
   "source": [
    "# Week 10 : Kosaraju's Algorithm\n",
    "\n",
    "- recursion 제한 풀어줘야합니다.\n"
   ]
  },
  {
   "cell_type": "code",
   "execution_count": 1,
   "id": "8dda1fa9-0428-4174-8b02-3e740c929cbc",
   "metadata": {},
   "outputs": [
    {
     "name": "stdin",
     "output_type": "stream",
     "text": [
      " 7 9\n",
      " 1 4\n",
      " 4 5\n",
      " 5 1\n",
      " 1 6\n",
      " 6 7\n",
      " 2 7\n",
      " 7 3\n",
      " 3 7\n",
      " 7 2\n"
     ]
    },
    {
     "name": "stdout",
     "output_type": "stream",
     "text": [
      "3\n",
      "1 4 5 -1\n",
      "2 3 7 -1\n",
      "6 -1\n"
     ]
    }
   ],
   "source": [
    "import sys\n",
    "sys.setrecursionlimit(100000)\n",
    "\n",
    "V, E = map(int, input().split())\n",
    "\n",
    "# graph\n",
    "adj_list = [[] for _ in range(V + 1)]\n",
    "adj_list_T = [[] for _ in range(V + 1)]\n",
    "\n",
    "for _ in range(E):\n",
    "    A, B = map(int, input().split())\n",
    "    adj_list[A].append(B)\n",
    "    adj_list_T[B].append(A)\n",
    "\n",
    "# stack\n",
    "stk = []\n",
    "\n",
    "# dfs\n",
    "visited = [False for _ in range(V + 1)]\n",
    "def dfs(v):\n",
    "    visited[v] = True\n",
    "    for adj_v in adj_list[v]:\n",
    "        if not visited[adj_v]:\n",
    "            dfs(adj_v)\n",
    "    stk.append(v)\n",
    "\n",
    "for i in range(1, V + 1):\n",
    "    if not visited[i]:\n",
    "        dfs(i)\n",
    "\n",
    "# second dfs\n",
    "visited = [False for _ in range(V + 1)]\n",
    "scc_leader = [0 for _ in range(V + 1)]\n",
    "scc_cnt = 0\n",
    "\n",
    "def dfs2(v, leader):\n",
    "    visited[v] = True\n",
    "    scc_leader[v] = leader\n",
    "    for adj_v in adj_list_T[v]:\n",
    "        if not visited[adj_v]:\n",
    "            dfs2(adj_v, leader)\n",
    "\n",
    "while len(stk) > 0:\n",
    "    start = stk[-1]\n",
    "    del stk[-1]\n",
    "    if scc_leader[start] == 0:\n",
    "        scc_cnt += 1\n",
    "        dfs2(start, start)\n",
    "\n",
    "# output\n",
    "print(scc_cnt)\n",
    "cnt = 0\n",
    "for start in range(V + 1):\n",
    "    if scc_leader[start] != 0:\n",
    "        cnt += 0\n",
    "        print(start, end = ' ')\n",
    "        for i in range(start + 1, V + 1):\n",
    "            if scc_leader[i] == scc_leader[start]:\n",
    "                print(i, end = ' ')\n",
    "                scc_leader[i] = 0\n",
    "        scc_leader[start] = 0\n",
    "        print(-1)\n",
    "    if cnt == scc_cnt:\n",
    "        break        "
   ]
  },
  {
   "cell_type": "markdown",
   "id": "afd7201e-cb0c-4b96-905d-bfce5b089810",
   "metadata": {},
   "source": [
    "# Week 10 : Tarjan's Algorithm"
   ]
  },
  {
   "cell_type": "code",
   "execution_count": 2,
   "id": "12db0682-a02d-4b1b-9baa-3cf8f6d5195a",
   "metadata": {},
   "outputs": [
    {
     "name": "stdin",
     "output_type": "stream",
     "text": [
      " 7 9\n",
      " 1 4\n",
      " 4 5\n",
      " 5 1\n",
      " 1 6\n",
      " 6 7\n",
      " 2 7\n",
      " 7 3\n",
      " 3 7\n",
      " 7 2\n"
     ]
    },
    {
     "name": "stdout",
     "output_type": "stream",
     "text": [
      "3\n",
      "1 4 5 -1\n",
      "2 3 7 -1\n",
      "6 -1\n"
     ]
    }
   ],
   "source": [
    "import sys\n",
    "sys.setrecursionlimit(100000)\n",
    "\n",
    "V, E = map(int, input().split())\n",
    "\n",
    "# graph\n",
    "adj_list = [[] for _ in range(V + 1)]\n",
    "\n",
    "for _ in range(E):\n",
    "    A, B = map(int, input().split())\n",
    "    adj_list[A].append(B)\n",
    "\n",
    "# dfs\n",
    "back_top = [0 for _ in range(V + 1)] # visted 판단으로도 사용 가능\n",
    "scc_leader = [0 for _ in range(V + 1)]\n",
    "stk = []\n",
    "discover_cnt = 0\n",
    "scc_cnt = 0\n",
    "\n",
    "def dfs(v):\n",
    "    global discover_cnt\n",
    "    discover_cnt += 1\n",
    "    discover_idx = back_top[v] = discover_cnt\n",
    "    stk.append(v)\n",
    "    for adj_v in adj_list[v]:\n",
    "        if back_top[adj_v] == 0: # 진행한 적 없는 정점\n",
    "            dfs(adj_v)  # dfs 진행\n",
    "        if scc_leader[adj_v] == 0: # 아직 scc에 포함 안됨\n",
    "            back_top[v] = min(back_top[v], back_top[adj_v])\n",
    "    # scc root인지 판단\n",
    "    if back_top[v] == discover_idx:\n",
    "        global scc_cnt\n",
    "        scc_cnt += 1\n",
    "        while True:\n",
    "            stk_top = stk[-1]\n",
    "            scc_leader[stk_top] = scc_cnt\n",
    "            del stk[-1]\n",
    "            if stk_top == v: break\n",
    "\n",
    "for v in range(1, V + 1):\n",
    "    if back_top[v] == 0:\n",
    "        dfs(v)\n",
    "\n",
    "# output\n",
    "print(scc_cnt)\n",
    "cnt = 0\n",
    "for start in range(V + 1):\n",
    "    if scc_leader[start] != 0:\n",
    "        cnt += 0\n",
    "        print(start, end = ' ')\n",
    "        for i in range(start + 1, V + 1):\n",
    "            if scc_leader[i] == scc_leader[start]:\n",
    "                print(i, end = ' ')\n",
    "                scc_leader[i] = 0\n",
    "        scc_leader[start] = 0\n",
    "        print(-1)\n",
    "    if cnt == scc_cnt:\n",
    "        break        "
   ]
  }
 ],
 "metadata": {
  "kernelspec": {
   "display_name": "Python 3 (ipykernel)",
   "language": "python",
   "name": "python3"
  },
  "language_info": {
   "codemirror_mode": {
    "name": "ipython",
    "version": 3
   },
   "file_extension": ".py",
   "mimetype": "text/x-python",
   "name": "python",
   "nbconvert_exporter": "python",
   "pygments_lexer": "ipython3",
   "version": "3.10.9"
  }
 },
 "nbformat": 4,
 "nbformat_minor": 5
}
